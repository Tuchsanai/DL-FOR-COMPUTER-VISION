{
 "cells": [
  {
   "cell_type": "code",
   "execution_count": 12,
   "metadata": {},
   "outputs": [
    {
     "name": "stdout",
     "output_type": "stream",
     "text": [
      "zsh:1: command not found: nvidia-smi\n"
     ]
    }
   ],
   "source": [
    "!nvidia-smi"
   ]
  },
  {
   "cell_type": "code",
   "execution_count": 13,
   "metadata": {},
   "outputs": [],
   "source": [
    "import torch\n",
    "from torch.utils.data import TensorDataset, DataLoader"
   ]
  },
  {
   "cell_type": "code",
   "execution_count": 14,
   "metadata": {
    "collapsed": true
   },
   "outputs": [],
   "source": [
    "x = torch.linspace(1, 10, 10)       # this is x data (torch tensor)\n",
    "y = torch.linspace(10, 1, 10)       # this is y data (torch tensor)"
   ]
  },
  {
   "cell_type": "code",
   "execution_count": 15,
   "metadata": {},
   "outputs": [
    {
     "data": {
      "text/plain": [
       "tensor([ 1.,  2.,  3.,  4.,  5.,  6.,  7.,  8.,  9., 10.])"
      ]
     },
     "execution_count": 15,
     "metadata": {},
     "output_type": "execute_result"
    }
   ],
   "source": [
    "x"
   ]
  },
  {
   "cell_type": "code",
   "execution_count": 16,
   "metadata": {},
   "outputs": [
    {
     "data": {
      "text/plain": [
       "tensor([10.,  9.,  8.,  7.,  6.,  5.,  4.,  3.,  2.,  1.])"
      ]
     },
     "execution_count": 16,
     "metadata": {},
     "output_type": "execute_result"
    }
   ],
   "source": [
    "y"
   ]
  },
  {
   "cell_type": "code",
   "execution_count": 17,
   "metadata": {
    "collapsed": true
   },
   "outputs": [],
   "source": [
    "torch_dataset = TensorDataset(x, y)\n"
   ]
  },
  {
   "cell_type": "code",
   "execution_count": 18,
   "metadata": {},
   "outputs": [],
   "source": [
    "BATCH_SIZE = 5\n",
    "\n",
    "loader = DataLoader(\n",
    "    dataset=torch_dataset,      # torch TensorDataset format\n",
    "    batch_size=BATCH_SIZE,      # mini batch size\n",
    "    shuffle=True,               # random shuffle for training\n",
    "    num_workers=2,              # subprocesses for loading data\n",
    ")"
   ]
  },
  {
   "cell_type": "code",
   "execution_count": 19,
   "metadata": {},
   "outputs": [
    {
     "data": {
      "text/plain": [
       "2"
      ]
     },
     "execution_count": 19,
     "metadata": {},
     "output_type": "execute_result"
    }
   ],
   "source": [
    "len(loader)"
   ]
  },
  {
   "cell_type": "code",
   "execution_count": 20,
   "metadata": {},
   "outputs": [
    {
     "name": "stdout",
     "output_type": "stream",
     "text": [
      "Epoch:  0 | Step:  0 | batch x:  [10.  8.  5.  7.  6.] | batch y:  [1. 3. 6. 4. 5.]\n",
      "Epoch:  0 | Step:  1 | batch x:  [2. 4. 9. 3. 1.] | batch y:  [ 9.  7.  2.  8. 10.]\n",
      "Epoch:  1 | Step:  0 | batch x:  [9. 3. 6. 7. 8.] | batch y:  [2. 8. 5. 4. 3.]\n",
      "Epoch:  1 | Step:  1 | batch x:  [ 5.  4. 10.  1.  2.] | batch y:  [ 6.  7.  1. 10.  9.]\n",
      "Epoch:  2 | Step:  0 | batch x:  [3. 1. 8. 7. 6.] | batch y:  [ 8. 10.  3.  4.  5.]\n",
      "Epoch:  2 | Step:  1 | batch x:  [ 5.  4. 10.  9.  2.] | batch y:  [6. 7. 1. 2. 9.]\n",
      "Epoch:  3 | Step:  0 | batch x:  [10.  6.  5.  3.  8.] | batch y:  [1. 5. 6. 8. 3.]\n",
      "Epoch:  3 | Step:  1 | batch x:  [9. 1. 2. 7. 4.] | batch y:  [ 2. 10.  9.  4.  7.]\n",
      "Epoch:  4 | Step:  0 | batch x:  [9. 6. 5. 4. 3.] | batch y:  [2. 5. 6. 7. 8.]\n",
      "Epoch:  4 | Step:  1 | batch x:  [ 2.  8.  7. 10.  1.] | batch y:  [ 9.  3.  4.  1. 10.]\n"
     ]
    }
   ],
   "source": [
    "for epoch in range(5):   # train entire dataset 3 times\n",
    "    for step, (batch_x, batch_y) in enumerate(loader):  # for each training step\n",
    "        # train your data...\n",
    "        print('Epoch: ', epoch, '| Step: ', step, '| batch x: ',\n",
    "              batch_x.numpy(), '| batch y: ', batch_y.numpy())\n"
   ]
  },
  {
   "cell_type": "markdown",
   "metadata": {},
   "source": [
    "### Suppose a different batch size that cannot be fully divided by the number of data entreis:"
   ]
  },
  {
   "cell_type": "code",
   "execution_count": 21,
   "metadata": {},
   "outputs": [
    {
     "name": "stdout",
     "output_type": "stream",
     "text": [
      "Epoch:  0 | Step:  0 | batch x:  [8. 6. 1. 2. 3. 4. 5. 9.] | batch y:  [ 3.  5. 10.  9.  8.  7.  6.  2.]\n",
      "Epoch:  0 | Step:  1 | batch x:  [10.  7.] | batch y:  [1. 4.]\n",
      "Epoch:  1 | Step:  0 | batch x:  [ 3.  7.  1.  6. 10.  2.  4.  9.] | batch y:  [ 8.  4. 10.  5.  1.  9.  7.  2.]\n",
      "Epoch:  1 | Step:  1 | batch x:  [8. 5.] | batch y:  [3. 6.]\n",
      "Epoch:  2 | Step:  0 | batch x:  [ 1. 10.  4.  3.  8.  5.  7.  2.] | batch y:  [10.  1.  7.  8.  3.  6.  4.  9.]\n",
      "Epoch:  2 | Step:  1 | batch x:  [9. 6.] | batch y:  [2. 5.]\n"
     ]
    }
   ],
   "source": [
    "BATCH_SIZE = 8\n",
    "\n",
    "loader = DataLoader(\n",
    "    dataset=torch_dataset,      # torch TensorDataset format\n",
    "    batch_size=BATCH_SIZE,      # mini batch size\n",
    "    shuffle=True,               # random shuffle for training\n",
    "    num_workers=2,              # subprocesses for loading data\n",
    ")\n",
    "for epoch in range(3):   # train entire dataset 3 times\n",
    "    for step, (batch_x, batch_y) in enumerate(loader):  # for each training step\n",
    "        # train your data...\n",
    "        print('Epoch: ', epoch, '| Step: ', step, '| batch x: ',\n",
    "              batch_x.numpy(), '| batch y: ', batch_y.numpy())"
   ]
  },
  {
   "cell_type": "code",
   "execution_count": null,
   "metadata": {
    "collapsed": true
   },
   "outputs": [],
   "source": []
  }
 ],
 "metadata": {
  "kernelspec": {
   "display_name": "Python 3.9.13 ('torch')",
   "language": "python",
   "name": "python3"
  },
  "language_info": {
   "codemirror_mode": {
    "name": "ipython",
    "version": 3
   },
   "file_extension": ".py",
   "mimetype": "text/x-python",
   "name": "python",
   "nbconvert_exporter": "python",
   "pygments_lexer": "ipython3",
   "version": "3.10.13"
  },
  "vscode": {
   "interpreter": {
    "hash": "7288f315087fdb0a15835a979a50c8db3e0e21492381bafafe9d84f995bbb7dd"
   }
  }
 },
 "nbformat": 4,
 "nbformat_minor": 2
}
