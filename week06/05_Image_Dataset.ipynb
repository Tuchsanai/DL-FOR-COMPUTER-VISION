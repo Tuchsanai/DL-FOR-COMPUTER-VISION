{
 "cells": [
  {
   "cell_type": "code",
   "execution_count": null,
   "metadata": {},
   "outputs": [],
   "source": [
    "!pip install kaggle"
   ]
  },
  {
   "cell_type": "code",
   "execution_count": null,
   "metadata": {},
   "outputs": [],
   "source": [
    "import os\n",
    "\n",
    "\n",
    "\n",
    "userkaggle       = 'xxxx'\n",
    "passkaggle       = 'yyyy'\n",
    "\n",
    "try :\n",
    "    os.environ['KAGGLE_USERNAME'] = userkaggle\n",
    "    os.environ['KAGGLE_KEY'] = passkaggle\n",
    "except :\n",
    "    print(\"KAGGLE_USERNAME or KAGGLE_KEY is not set.\")\n",
    "   "
   ]
  }
 ],
 "metadata": {
  "language_info": {
   "name": "python"
  }
 },
 "nbformat": 4,
 "nbformat_minor": 2
}
