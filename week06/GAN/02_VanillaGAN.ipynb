{
 "cells": [
  {
   "cell_type": "markdown",
   "metadata": {},
   "source": [
    "# Implementation of Vanilla GANs model\n",
    "Reference: https://arxiv.org/pdf/1406.2661.pdf"
   ]
  },
  {
   "cell_type": "code",
   "execution_count": 1,
   "metadata": {
    "collapsed": true
   },
   "outputs": [],
   "source": [
    "# Run the comment below only when using Google Colab\n",
    "# !pip install torch torchvision"
   ]
  },
  {
   "cell_type": "code",
   "execution_count": 1,
   "metadata": {
    "collapsed": true
   },
   "outputs": [],
   "source": [
    "import torch\n",
    "import torchvision\n",
    "import torch.nn as nn\n",
    "import torch.nn.functional as F"
   ]
  },
  {
   "cell_type": "code",
   "execution_count": 2,
   "metadata": {
    "collapsed": true
   },
   "outputs": [],
   "source": [
    "from torch.utils.data import DataLoader\n",
    "from torchvision import datasets\n",
    "from torchvision import transforms\n",
    "from torchvision.utils import save_image"
   ]
  },
  {
   "cell_type": "code",
   "execution_count": 3,
   "metadata": {
    "collapsed": true
   },
   "outputs": [],
   "source": [
    "import numpy as np\n",
    "import datetime\n",
    "import os, sys"
   ]
  },
  {
   "cell_type": "code",
   "execution_count": 4,
   "metadata": {
    "collapsed": true
   },
   "outputs": [],
   "source": [
    "from matplotlib.pyplot import imshow, imsave\n",
    "%matplotlib inline"
   ]
  },
  {
   "cell_type": "code",
   "execution_count": 5,
   "metadata": {
    "collapsed": true
   },
   "outputs": [],
   "source": [
    "MODEL_NAME = 'VanillaGAN'\n",
    "DEVICE = torch.device(\"cuda\" if torch.cuda.is_available() else \"cpu\")"
   ]
  },
  {
   "cell_type": "code",
   "execution_count": 6,
   "metadata": {
    "collapsed": true
   },
   "outputs": [],
   "source": [
    "def get_sample_image(G, n_noise):\n",
    "    \"\"\"\n",
    "        save sample 100 images\n",
    "    \"\"\"\n",
    "    z = torch.randn(100, n_noise).to(DEVICE)\n",
    "    y_hat = G(z).view(100, 28, 28) # (100, 28, 28)\n",
    "    result = y_hat.cpu().data.numpy()\n",
    "    img = np.zeros([280, 280])\n",
    "    for j in range(10):\n",
    "        img[j*28:(j+1)*28] = np.concatenate([x for x in result[j*10:(j+1)*10]], axis=-1)\n",
    "    return img"
   ]
  },
  {
   "cell_type": "code",
   "execution_count": 7,
   "metadata": {
    "collapsed": true
   },
   "outputs": [],
   "source": [
    "class Discriminator(nn.Module):\n",
    "    \"\"\"\n",
    "        Simple Discriminator w/ MLP\n",
    "    \"\"\"\n",
    "    def __init__(self, input_size=784, num_classes=1):\n",
    "        super(Discriminator, self).__init__()\n",
    "        self.layer = nn.Sequential(\n",
    "            nn.Linear(input_size, 512),\n",
    "            nn.LeakyReLU(0.2),\n",
    "            nn.Linear(512, 256),\n",
    "            nn.LeakyReLU(0.2),\n",
    "            nn.Linear(256, num_classes),\n",
    "            nn.Sigmoid(),\n",
    "        )\n",
    "    \n",
    "    def forward(self, x):\n",
    "        y_ = x.view(x.size(0), -1)\n",
    "        y_ = self.layer(y_)\n",
    "        return y_"
   ]
  },
  {
   "cell_type": "code",
   "execution_count": 8,
   "metadata": {
    "collapsed": true
   },
   "outputs": [],
   "source": [
    "class Generator(nn.Module):\n",
    "    \"\"\"\n",
    "        Simple Generator w/ MLP\n",
    "    \"\"\"\n",
    "    def __init__(self, input_size=100, num_classes=784):\n",
    "        super(Generator, self).__init__()\n",
    "        self.layer = nn.Sequential(\n",
    "            nn.Linear(input_size, 128),\n",
    "            nn.LeakyReLU(0.2),\n",
    "            nn.Linear(128, 256),\n",
    "            nn.BatchNorm1d(256),\n",
    "            nn.LeakyReLU(0.2),\n",
    "            nn.Linear(256, 512),\n",
    "            nn.BatchNorm1d(512),\n",
    "            nn.LeakyReLU(0.2),\n",
    "            nn.Linear(512, 1024),\n",
    "            nn.BatchNorm1d(1024),\n",
    "            nn.LeakyReLU(0.2),\n",
    "            nn.Linear(1024, num_classes),\n",
    "            nn.Tanh()\n",
    "        )\n",
    "        \n",
    "    def forward(self, x):\n",
    "        y_ = self.layer(x)\n",
    "        y_ = y_.view(x.size(0), 1, 28, 28)\n",
    "        return y_"
   ]
  },
  {
   "cell_type": "code",
   "execution_count": 9,
   "metadata": {
    "collapsed": true
   },
   "outputs": [],
   "source": [
    "n_noise = 100"
   ]
  },
  {
   "cell_type": "code",
   "execution_count": 10,
   "metadata": {
    "collapsed": true
   },
   "outputs": [],
   "source": [
    "D = Discriminator().to(DEVICE)\n",
    "G = Generator(n_noise).to(DEVICE)"
   ]
  },
  {
   "cell_type": "code",
   "execution_count": 11,
   "metadata": {
    "collapsed": true
   },
   "outputs": [],
   "source": [
    "transform = transforms.Compose([transforms.ToTensor(),\n",
    "                                transforms.Normalize(mean=[0.5],\n",
    "                                std=[0.5])]\n",
    ")"
   ]
  },
  {
   "cell_type": "code",
   "execution_count": 12,
   "metadata": {
    "collapsed": true
   },
   "outputs": [],
   "source": [
    "mnist = datasets.MNIST(root='../data/', train=True, transform=transform, download=True)"
   ]
  },
  {
   "cell_type": "code",
   "execution_count": 13,
   "metadata": {
    "collapsed": true
   },
   "outputs": [],
   "source": [
    "batch_size = 64"
   ]
  },
  {
   "cell_type": "code",
   "execution_count": 14,
   "metadata": {
    "collapsed": true
   },
   "outputs": [],
   "source": [
    "data_loader = DataLoader(dataset=mnist, batch_size=batch_size, shuffle=True, drop_last=True)"
   ]
  },
  {
   "cell_type": "code",
   "execution_count": 15,
   "metadata": {
    "collapsed": true
   },
   "outputs": [],
   "source": [
    "criterion = nn.BCELoss()\n",
    "D_opt = torch.optim.Adam(D.parameters(), lr=0.0002, betas=(0.5, 0.999))\n",
    "G_opt = torch.optim.Adam(G.parameters(), lr=0.0002, betas=(0.5, 0.999))"
   ]
  },
  {
   "cell_type": "code",
   "execution_count": 16,
   "metadata": {
    "collapsed": true
   },
   "outputs": [],
   "source": [
    "max_epoch = 50 # need more than 10 epochs for training generator\n",
    "step = 0\n",
    "n_critic = 1 # for training more k steps about Discriminator"
   ]
  },
  {
   "cell_type": "code",
   "execution_count": 17,
   "metadata": {
    "collapsed": true
   },
   "outputs": [],
   "source": [
    "D_labels = torch.ones(batch_size, 1).to(DEVICE) # Discriminator Label to real\n",
    "D_fakes = torch.zeros(batch_size, 1).to(DEVICE) # Discriminator Label to fake"
   ]
  },
  {
   "cell_type": "code",
   "execution_count": 18,
   "metadata": {
    "collapsed": true
   },
   "outputs": [],
   "source": [
    "if not os.path.exists('samples'):\n",
    "    os.makedirs('samples')"
   ]
  },
  {
   "cell_type": "code",
   "execution_count": 19,
   "metadata": {
    "scrolled": true
   },
   "outputs": [
    {
     "name": "stdout",
     "output_type": "stream",
     "text": [
      "Epoch: 0/50, Step: 100, D Loss: 1.1755154132843018, G Loss: 0.8270020484924316\n",
      "Epoch: 0/50, Step: 200, D Loss: 1.4079020023345947, G Loss: 0.8065428137779236\n",
      "Epoch: 0/50, Step: 300, D Loss: 1.2308564186096191, G Loss: 1.0008032321929932\n",
      "Epoch: 0/50, Step: 400, D Loss: 1.2088241577148438, G Loss: 0.5426709651947021\n",
      "Epoch: 0/50, Step: 500, D Loss: 1.3081212043762207, G Loss: 1.6697196960449219\n",
      "Epoch: 0/50, Step: 600, D Loss: 1.2405954599380493, G Loss: 1.3488750457763672\n",
      "Epoch: 0/50, Step: 700, D Loss: 1.1216254234313965, G Loss: 1.313636302947998\n",
      "Epoch: 0/50, Step: 800, D Loss: 0.9928608536720276, G Loss: 1.1896991729736328\n",
      "Epoch: 0/50, Step: 900, D Loss: 1.055720329284668, G Loss: 1.3114458322525024\n",
      "Epoch: 1/50, Step: 1000, D Loss: 1.1775424480438232, G Loss: 1.30094313621521\n",
      "Epoch: 1/50, Step: 1100, D Loss: 1.2202109098434448, G Loss: 0.6925904154777527\n",
      "Epoch: 1/50, Step: 1200, D Loss: 1.0529544353485107, G Loss: 0.7519501447677612\n",
      "Epoch: 1/50, Step: 1300, D Loss: 1.221968412399292, G Loss: 1.4080226421356201\n",
      "Epoch: 1/50, Step: 1400, D Loss: 0.9282263517379761, G Loss: 1.214267611503601\n",
      "Epoch: 1/50, Step: 1500, D Loss: 1.0784947872161865, G Loss: 0.8881294131278992\n",
      "Epoch: 1/50, Step: 1600, D Loss: 1.0660274028778076, G Loss: 1.1177875995635986\n",
      "Epoch: 1/50, Step: 1700, D Loss: 1.1025665998458862, G Loss: 0.8640520572662354\n",
      "Epoch: 1/50, Step: 1800, D Loss: 1.1709367036819458, G Loss: 0.948043942451477\n",
      "Epoch: 2/50, Step: 1900, D Loss: 1.1924587488174438, G Loss: 1.425293207168579\n",
      "Epoch: 2/50, Step: 2000, D Loss: 1.1501306295394897, G Loss: 1.6354111433029175\n",
      "Epoch: 2/50, Step: 2100, D Loss: 1.1051888465881348, G Loss: 0.9974076747894287\n",
      "Epoch: 2/50, Step: 2200, D Loss: 1.0171751976013184, G Loss: 1.1399242877960205\n",
      "Epoch: 2/50, Step: 2300, D Loss: 1.044590711593628, G Loss: 1.1417334079742432\n",
      "Epoch: 2/50, Step: 2400, D Loss: 1.084895133972168, G Loss: 0.9973181486129761\n",
      "Epoch: 2/50, Step: 2500, D Loss: 1.211650013923645, G Loss: 0.7276591062545776\n",
      "Epoch: 2/50, Step: 2600, D Loss: 1.1004228591918945, G Loss: 0.9661415219306946\n",
      "Epoch: 2/50, Step: 2700, D Loss: 1.1328953504562378, G Loss: 1.2553675174713135\n",
      "Epoch: 2/50, Step: 2800, D Loss: 1.2243258953094482, G Loss: 0.4585942029953003\n",
      "Epoch: 3/50, Step: 2900, D Loss: 1.313656210899353, G Loss: 1.4691613912582397\n",
      "Epoch: 3/50, Step: 3000, D Loss: 1.1967917680740356, G Loss: 0.4995018243789673\n",
      "Epoch: 3/50, Step: 3100, D Loss: 1.015854835510254, G Loss: 1.2228450775146484\n",
      "Epoch: 3/50, Step: 3200, D Loss: 1.2699724435806274, G Loss: 1.9949824810028076\n",
      "Epoch: 3/50, Step: 3300, D Loss: 1.1024272441864014, G Loss: 1.0257915258407593\n",
      "Epoch: 3/50, Step: 3400, D Loss: 1.1172765493392944, G Loss: 0.7119858860969543\n",
      "Epoch: 3/50, Step: 3500, D Loss: 1.1008734703063965, G Loss: 0.8645107746124268\n",
      "Epoch: 3/50, Step: 3600, D Loss: 1.0376055240631104, G Loss: 1.104860544204712\n",
      "Epoch: 3/50, Step: 3700, D Loss: 1.0405375957489014, G Loss: 0.9409258365631104\n",
      "Epoch: 4/50, Step: 3800, D Loss: 1.0361707210540771, G Loss: 0.8364851474761963\n",
      "Epoch: 4/50, Step: 3900, D Loss: 1.0092402696609497, G Loss: 1.445324420928955\n",
      "Epoch: 4/50, Step: 4000, D Loss: 1.0006499290466309, G Loss: 1.1789973974227905\n",
      "Epoch: 4/50, Step: 4100, D Loss: 1.0804859399795532, G Loss: 0.9085795879364014\n",
      "Epoch: 4/50, Step: 4200, D Loss: 1.085111141204834, G Loss: 0.881885290145874\n",
      "Epoch: 4/50, Step: 4300, D Loss: 1.1210278272628784, G Loss: 1.4989343881607056\n",
      "Epoch: 4/50, Step: 4400, D Loss: 1.1296237707138062, G Loss: 1.3392102718353271\n",
      "Epoch: 4/50, Step: 4500, D Loss: 0.9965386390686035, G Loss: 0.7814934849739075\n",
      "Epoch: 4/50, Step: 4600, D Loss: 1.1139588356018066, G Loss: 1.405811071395874\n",
      "Epoch: 5/50, Step: 4700, D Loss: 1.2562898397445679, G Loss: 1.4301483631134033\n",
      "Epoch: 5/50, Step: 4800, D Loss: 1.1131832599639893, G Loss: 1.4061691761016846\n",
      "Epoch: 5/50, Step: 4900, D Loss: 1.156798243522644, G Loss: 0.8670039772987366\n",
      "Epoch: 5/50, Step: 5000, D Loss: 1.2420905828475952, G Loss: 1.4216547012329102\n",
      "Epoch: 5/50, Step: 5100, D Loss: 1.1334590911865234, G Loss: 0.7568789720535278\n",
      "Epoch: 5/50, Step: 5200, D Loss: 1.144729495048523, G Loss: 0.7903492450714111\n",
      "Epoch: 5/50, Step: 5300, D Loss: 1.20405113697052, G Loss: 0.6338024139404297\n",
      "Epoch: 5/50, Step: 5400, D Loss: 1.0621870756149292, G Loss: 0.898655354976654\n",
      "Epoch: 5/50, Step: 5500, D Loss: 1.2438212633132935, G Loss: 0.6488878130912781\n",
      "Epoch: 5/50, Step: 5600, D Loss: 1.2200028896331787, G Loss: 1.060368299484253\n",
      "Epoch: 6/50, Step: 5700, D Loss: 1.3905291557312012, G Loss: 1.8859131336212158\n",
      "Epoch: 6/50, Step: 5800, D Loss: 1.1803265810012817, G Loss: 0.636593222618103\n",
      "Epoch: 6/50, Step: 5900, D Loss: 1.2205991744995117, G Loss: 1.0332188606262207\n",
      "Epoch: 6/50, Step: 6000, D Loss: 1.1557385921478271, G Loss: 0.8370834589004517\n",
      "Epoch: 6/50, Step: 6100, D Loss: 1.0904375314712524, G Loss: 1.000665545463562\n",
      "Epoch: 6/50, Step: 6200, D Loss: 1.220473051071167, G Loss: 0.577721357345581\n",
      "Epoch: 6/50, Step: 6300, D Loss: 1.2782409191131592, G Loss: 0.8518214225769043\n",
      "Epoch: 6/50, Step: 6400, D Loss: 1.2546086311340332, G Loss: 0.6432516574859619\n",
      "Epoch: 6/50, Step: 6500, D Loss: 1.1899150609970093, G Loss: 0.9383895397186279\n",
      "Epoch: 7/50, Step: 6600, D Loss: 1.0759327411651611, G Loss: 1.0996379852294922\n",
      "Epoch: 7/50, Step: 6700, D Loss: 1.3193247318267822, G Loss: 1.2807385921478271\n",
      "Epoch: 7/50, Step: 6800, D Loss: 1.1709617376327515, G Loss: 0.7328125238418579\n",
      "Epoch: 7/50, Step: 6900, D Loss: 1.0906864404678345, G Loss: 1.6160608530044556\n",
      "Epoch: 7/50, Step: 7000, D Loss: 1.2462618350982666, G Loss: 1.688418984413147\n",
      "Epoch: 7/50, Step: 7100, D Loss: 1.084143042564392, G Loss: 1.1381099224090576\n",
      "Epoch: 7/50, Step: 7200, D Loss: 1.038679599761963, G Loss: 1.0228520631790161\n",
      "Epoch: 7/50, Step: 7300, D Loss: 1.1848900318145752, G Loss: 1.5460665225982666\n",
      "Epoch: 7/50, Step: 7400, D Loss: 1.1382715702056885, G Loss: 1.305546760559082\n",
      "Epoch: 8/50, Step: 7500, D Loss: 1.2787842750549316, G Loss: 0.8592190742492676\n",
      "Epoch: 8/50, Step: 7600, D Loss: 1.0961445569992065, G Loss: 0.7338801622390747\n",
      "Epoch: 8/50, Step: 7700, D Loss: 1.1660144329071045, G Loss: 1.0518360137939453\n",
      "Epoch: 8/50, Step: 7800, D Loss: 1.0629692077636719, G Loss: 0.8936794996261597\n",
      "Epoch: 8/50, Step: 7900, D Loss: 1.1960989236831665, G Loss: 0.8040443658828735\n",
      "Epoch: 8/50, Step: 8000, D Loss: 1.1576998233795166, G Loss: 1.0066142082214355\n",
      "Epoch: 8/50, Step: 8100, D Loss: 1.1493744850158691, G Loss: 1.1755390167236328\n",
      "Epoch: 8/50, Step: 8200, D Loss: 1.1043283939361572, G Loss: 0.9718360304832458\n",
      "Epoch: 8/50, Step: 8300, D Loss: 1.1064872741699219, G Loss: 1.0103259086608887\n",
      "Epoch: 8/50, Step: 8400, D Loss: 1.1597678661346436, G Loss: 1.074366569519043\n",
      "Epoch: 9/50, Step: 8500, D Loss: 1.1302660703659058, G Loss: 0.8727264404296875\n",
      "Epoch: 9/50, Step: 8600, D Loss: 1.3195931911468506, G Loss: 1.1009092330932617\n",
      "Epoch: 9/50, Step: 8700, D Loss: 1.2631933689117432, G Loss: 1.037153959274292\n",
      "Epoch: 9/50, Step: 8800, D Loss: 1.0761170387268066, G Loss: 1.1148347854614258\n",
      "Epoch: 9/50, Step: 8900, D Loss: 1.1202175617218018, G Loss: 0.8647074699401855\n",
      "Epoch: 9/50, Step: 9000, D Loss: 1.1812937259674072, G Loss: 0.9355068206787109\n",
      "Epoch: 9/50, Step: 9100, D Loss: 1.1204715967178345, G Loss: 1.4215013980865479\n",
      "Epoch: 9/50, Step: 9200, D Loss: 1.1508185863494873, G Loss: 1.220603108406067\n",
      "Epoch: 9/50, Step: 9300, D Loss: 1.1633039712905884, G Loss: 1.3579373359680176\n",
      "Epoch: 10/50, Step: 9400, D Loss: 1.1997263431549072, G Loss: 1.1214616298675537\n",
      "Epoch: 10/50, Step: 9500, D Loss: 1.1263341903686523, G Loss: 1.1592438220977783\n",
      "Epoch: 10/50, Step: 9600, D Loss: 1.1813852787017822, G Loss: 1.194042444229126\n",
      "Epoch: 10/50, Step: 9700, D Loss: 1.3478076457977295, G Loss: 0.6238917112350464\n",
      "Epoch: 10/50, Step: 9800, D Loss: 1.0859375, G Loss: 1.2956181764602661\n",
      "Epoch: 10/50, Step: 9900, D Loss: 1.3077058792114258, G Loss: 0.6852781176567078\n",
      "Epoch: 10/50, Step: 10000, D Loss: 1.2989614009857178, G Loss: 1.5063362121582031\n",
      "Epoch: 10/50, Step: 10100, D Loss: 1.2180774211883545, G Loss: 0.47168949246406555\n",
      "Epoch: 10/50, Step: 10200, D Loss: 1.2757370471954346, G Loss: 1.0123518705368042\n",
      "Epoch: 10/50, Step: 10300, D Loss: 1.206282377243042, G Loss: 0.7624193429946899\n",
      "Epoch: 11/50, Step: 10400, D Loss: 1.2450745105743408, G Loss: 0.7275304794311523\n",
      "Epoch: 11/50, Step: 10500, D Loss: 1.0599262714385986, G Loss: 0.9695977568626404\n",
      "Epoch: 11/50, Step: 10600, D Loss: 1.3188681602478027, G Loss: 1.4939640760421753\n",
      "Epoch: 11/50, Step: 10700, D Loss: 1.1798672676086426, G Loss: 1.0009769201278687\n",
      "Epoch: 11/50, Step: 10800, D Loss: 1.1076381206512451, G Loss: 1.2105268239974976\n",
      "Epoch: 11/50, Step: 10900, D Loss: 1.2261507511138916, G Loss: 0.6194207668304443\n",
      "Epoch: 11/50, Step: 11000, D Loss: 1.2070517539978027, G Loss: 0.7739561200141907\n",
      "Epoch: 11/50, Step: 11100, D Loss: 1.304227590560913, G Loss: 0.9899596571922302\n",
      "Epoch: 11/50, Step: 11200, D Loss: 1.286920428276062, G Loss: 0.8698447942733765\n",
      "Epoch: 12/50, Step: 11300, D Loss: 1.3144237995147705, G Loss: 1.5047122240066528\n",
      "Epoch: 12/50, Step: 11400, D Loss: 1.2122002840042114, G Loss: 0.9399086236953735\n",
      "Epoch: 12/50, Step: 11500, D Loss: 1.252776026725769, G Loss: 0.7726771831512451\n",
      "Epoch: 12/50, Step: 11600, D Loss: 1.2458808422088623, G Loss: 1.258838415145874\n",
      "Epoch: 12/50, Step: 11700, D Loss: 1.1143779754638672, G Loss: 1.146378993988037\n",
      "Epoch: 12/50, Step: 11800, D Loss: 1.237128734588623, G Loss: 0.9505376815795898\n",
      "Epoch: 12/50, Step: 11900, D Loss: 1.2431498765945435, G Loss: 0.9855661392211914\n",
      "Epoch: 12/50, Step: 12000, D Loss: 1.2563393115997314, G Loss: 1.2540241479873657\n",
      "Epoch: 12/50, Step: 12100, D Loss: 1.2911789417266846, G Loss: 1.4705086946487427\n",
      "Epoch: 13/50, Step: 12200, D Loss: 1.2051054239273071, G Loss: 0.6534929275512695\n",
      "Epoch: 13/50, Step: 12300, D Loss: 1.2567555904388428, G Loss: 0.6974103450775146\n",
      "Epoch: 13/50, Step: 12400, D Loss: 1.1519927978515625, G Loss: 0.8348057866096497\n",
      "Epoch: 13/50, Step: 12500, D Loss: 1.1667532920837402, G Loss: 0.8974984884262085\n",
      "Epoch: 13/50, Step: 12600, D Loss: 1.2763395309448242, G Loss: 0.5674263834953308\n",
      "Epoch: 13/50, Step: 12700, D Loss: 1.108276605606079, G Loss: 0.934748649597168\n",
      "Epoch: 13/50, Step: 12800, D Loss: 1.2116602659225464, G Loss: 0.9570163488388062\n",
      "Epoch: 13/50, Step: 12900, D Loss: 1.1660997867584229, G Loss: 0.9311370253562927\n",
      "Epoch: 13/50, Step: 13000, D Loss: 1.2295265197753906, G Loss: 0.6921029090881348\n",
      "Epoch: 13/50, Step: 13100, D Loss: 1.292984962463379, G Loss: 1.0119906663894653\n",
      "Epoch: 14/50, Step: 13200, D Loss: 1.2255140542984009, G Loss: 0.967882513999939\n",
      "Epoch: 14/50, Step: 13300, D Loss: 1.0844985246658325, G Loss: 0.8316627740859985\n",
      "Epoch: 14/50, Step: 13400, D Loss: 1.218727946281433, G Loss: 0.7387588024139404\n",
      "Epoch: 14/50, Step: 13500, D Loss: 1.1911362409591675, G Loss: 0.9198406934738159\n",
      "Epoch: 14/50, Step: 13600, D Loss: 1.3234590291976929, G Loss: 0.5568742752075195\n",
      "Epoch: 14/50, Step: 13700, D Loss: 1.1606587171554565, G Loss: 0.9038999676704407\n",
      "Epoch: 14/50, Step: 13800, D Loss: 1.2962044477462769, G Loss: 1.1339683532714844\n",
      "Epoch: 14/50, Step: 13900, D Loss: 1.1385843753814697, G Loss: 1.0538697242736816\n",
      "Epoch: 14/50, Step: 14000, D Loss: 1.2061419486999512, G Loss: 1.0078059434890747\n",
      "Epoch: 15/50, Step: 14100, D Loss: 1.2121951580047607, G Loss: 0.680861234664917\n",
      "Epoch: 15/50, Step: 14200, D Loss: 1.2515984773635864, G Loss: 0.9352184534072876\n",
      "Epoch: 15/50, Step: 14300, D Loss: 1.2181270122528076, G Loss: 0.8042237758636475\n",
      "Epoch: 15/50, Step: 14400, D Loss: 1.171113133430481, G Loss: 1.0093777179718018\n",
      "Epoch: 15/50, Step: 14500, D Loss: 1.238211750984192, G Loss: 0.8371841907501221\n",
      "Epoch: 15/50, Step: 14600, D Loss: 1.24653959274292, G Loss: 0.7134132981300354\n",
      "Epoch: 15/50, Step: 14700, D Loss: 1.2246887683868408, G Loss: 0.6499658226966858\n",
      "Epoch: 15/50, Step: 14800, D Loss: 1.1947600841522217, G Loss: 1.146819829940796\n",
      "Epoch: 15/50, Step: 14900, D Loss: 1.2127631902694702, G Loss: 1.1151907444000244\n",
      "Epoch: 16/50, Step: 15000, D Loss: 1.2064951658248901, G Loss: 1.2785468101501465\n",
      "Epoch: 16/50, Step: 15100, D Loss: 1.3463020324707031, G Loss: 0.6142204403877258\n",
      "Epoch: 16/50, Step: 15200, D Loss: 1.2586911916732788, G Loss: 0.7501577734947205\n",
      "Epoch: 16/50, Step: 15300, D Loss: 1.2823126316070557, G Loss: 1.2130208015441895\n",
      "Epoch: 16/50, Step: 15400, D Loss: 1.2287981510162354, G Loss: 1.093631386756897\n",
      "Epoch: 16/50, Step: 15500, D Loss: 1.1711496114730835, G Loss: 0.9895340204238892\n",
      "Epoch: 16/50, Step: 15600, D Loss: 1.1650619506835938, G Loss: 0.8968183398246765\n",
      "Epoch: 16/50, Step: 15700, D Loss: 1.2129615545272827, G Loss: 0.7020413875579834\n",
      "Epoch: 16/50, Step: 15800, D Loss: 1.1387689113616943, G Loss: 1.0764628648757935\n",
      "Epoch: 16/50, Step: 15900, D Loss: 1.2120182514190674, G Loss: 0.9321194887161255\n",
      "Epoch: 17/50, Step: 16000, D Loss: 1.2922120094299316, G Loss: 0.6163793802261353\n",
      "Epoch: 17/50, Step: 16100, D Loss: 1.1861939430236816, G Loss: 0.9093751907348633\n",
      "Epoch: 17/50, Step: 16200, D Loss: 1.2723637819290161, G Loss: 0.8735350370407104\n",
      "Epoch: 17/50, Step: 16300, D Loss: 1.171302080154419, G Loss: 0.8182768225669861\n",
      "Epoch: 17/50, Step: 16400, D Loss: 1.315756916999817, G Loss: 0.7028841376304626\n",
      "Epoch: 17/50, Step: 16500, D Loss: 1.2511272430419922, G Loss: 0.6821578741073608\n",
      "Epoch: 17/50, Step: 16600, D Loss: 1.2290165424346924, G Loss: 0.9316233992576599\n",
      "Epoch: 17/50, Step: 16700, D Loss: 1.2666313648223877, G Loss: 1.166621208190918\n",
      "Epoch: 17/50, Step: 16800, D Loss: 1.1714509725570679, G Loss: 0.7990235686302185\n",
      "Epoch: 18/50, Step: 16900, D Loss: 1.2253040075302124, G Loss: 0.9877630472183228\n",
      "Epoch: 18/50, Step: 17000, D Loss: 1.2374818325042725, G Loss: 1.0566229820251465\n",
      "Epoch: 18/50, Step: 17100, D Loss: 1.207651138305664, G Loss: 1.0561139583587646\n",
      "Epoch: 18/50, Step: 17200, D Loss: 1.2061715126037598, G Loss: 1.123403549194336\n",
      "Epoch: 18/50, Step: 17300, D Loss: 1.412967324256897, G Loss: 1.6116868257522583\n",
      "Epoch: 18/50, Step: 17400, D Loss: 1.2520060539245605, G Loss: 1.1235551834106445\n",
      "Epoch: 18/50, Step: 17500, D Loss: 1.209571361541748, G Loss: 1.0765256881713867\n",
      "Epoch: 18/50, Step: 17600, D Loss: 1.1861095428466797, G Loss: 0.8386883735656738\n",
      "Epoch: 18/50, Step: 17700, D Loss: 1.2936694622039795, G Loss: 1.1204475164413452\n",
      "Epoch: 18/50, Step: 17800, D Loss: 1.2481777667999268, G Loss: 1.3013839721679688\n",
      "Epoch: 19/50, Step: 17900, D Loss: 1.209465742111206, G Loss: 0.9353631734848022\n",
      "Epoch: 19/50, Step: 18000, D Loss: 1.2336809635162354, G Loss: 0.8634388446807861\n",
      "Epoch: 19/50, Step: 18100, D Loss: 1.1889309883117676, G Loss: 0.88236403465271\n",
      "Epoch: 19/50, Step: 18200, D Loss: 1.3164339065551758, G Loss: 1.080313801765442\n",
      "Epoch: 19/50, Step: 18300, D Loss: 1.1889328956604004, G Loss: 1.1285393238067627\n",
      "Epoch: 19/50, Step: 18400, D Loss: 1.215492844581604, G Loss: 1.1902813911437988\n",
      "Epoch: 19/50, Step: 18500, D Loss: 1.2398638725280762, G Loss: 1.2349636554718018\n",
      "Epoch: 19/50, Step: 18600, D Loss: 1.188855528831482, G Loss: 0.6755977869033813\n",
      "Epoch: 19/50, Step: 18700, D Loss: 1.2970634698867798, G Loss: 1.1354739665985107\n",
      "Epoch: 20/50, Step: 18800, D Loss: 1.245138168334961, G Loss: 0.9864693880081177\n",
      "Epoch: 20/50, Step: 18900, D Loss: 1.2378497123718262, G Loss: 0.74561607837677\n",
      "Epoch: 20/50, Step: 19000, D Loss: 1.304497241973877, G Loss: 0.831098735332489\n",
      "Epoch: 20/50, Step: 19100, D Loss: 1.2336735725402832, G Loss: 0.9046992063522339\n",
      "Epoch: 20/50, Step: 19200, D Loss: 1.1845277547836304, G Loss: 0.9098901748657227\n",
      "Epoch: 20/50, Step: 19300, D Loss: 1.2705830335617065, G Loss: 0.8678758144378662\n",
      "Epoch: 20/50, Step: 19400, D Loss: 1.180762767791748, G Loss: 0.797465443611145\n",
      "Epoch: 20/50, Step: 19500, D Loss: 1.2005583047866821, G Loss: 0.8377618789672852\n",
      "Epoch: 20/50, Step: 19600, D Loss: 1.1986534595489502, G Loss: 0.984920084476471\n",
      "Epoch: 21/50, Step: 19700, D Loss: 1.1216466426849365, G Loss: 0.9764318466186523\n",
      "Epoch: 21/50, Step: 19800, D Loss: 1.31438148021698, G Loss: 1.0256385803222656\n",
      "Epoch: 21/50, Step: 19900, D Loss: 1.2465825080871582, G Loss: 0.840914249420166\n",
      "Epoch: 21/50, Step: 20000, D Loss: 1.172004222869873, G Loss: 0.6754119396209717\n",
      "Epoch: 21/50, Step: 20100, D Loss: 1.2193400859832764, G Loss: 0.7821771502494812\n",
      "Epoch: 21/50, Step: 20200, D Loss: 1.3329802751541138, G Loss: 0.7424018979072571\n"
     ]
    },
    {
     "name": "stdout",
     "output_type": "stream",
     "text": [
      "Epoch: 21/50, Step: 20300, D Loss: 1.1523170471191406, G Loss: 0.8529489636421204\n",
      "Epoch: 21/50, Step: 20400, D Loss: 1.2152249813079834, G Loss: 0.9573037624359131\n",
      "Epoch: 21/50, Step: 20500, D Loss: 1.2426687479019165, G Loss: 0.9399197101593018\n",
      "Epoch: 21/50, Step: 20600, D Loss: 1.136208415031433, G Loss: 0.9436594843864441\n",
      "Epoch: 22/50, Step: 20700, D Loss: 1.1527689695358276, G Loss: 0.9725241661071777\n",
      "Epoch: 22/50, Step: 20800, D Loss: 1.192220687866211, G Loss: 0.7522275447845459\n",
      "Epoch: 22/50, Step: 20900, D Loss: 1.346964955329895, G Loss: 0.5827013254165649\n",
      "Epoch: 22/50, Step: 21000, D Loss: 1.22269868850708, G Loss: 0.8253107070922852\n",
      "Epoch: 22/50, Step: 21100, D Loss: 1.3469669818878174, G Loss: 1.181819200515747\n",
      "Epoch: 22/50, Step: 21200, D Loss: 1.265282154083252, G Loss: 0.6865647435188293\n",
      "Epoch: 22/50, Step: 21300, D Loss: 1.2427411079406738, G Loss: 0.7111386060714722\n",
      "Epoch: 22/50, Step: 21400, D Loss: 1.1825366020202637, G Loss: 1.1427326202392578\n",
      "Epoch: 22/50, Step: 21500, D Loss: 1.2942395210266113, G Loss: 0.8325639367103577\n",
      "Epoch: 23/50, Step: 21600, D Loss: 1.2424407005310059, G Loss: 1.2793357372283936\n",
      "Epoch: 23/50, Step: 21700, D Loss: 1.2275645732879639, G Loss: 1.0119702816009521\n",
      "Epoch: 23/50, Step: 21800, D Loss: 1.2892506122589111, G Loss: 1.2175573110580444\n",
      "Epoch: 23/50, Step: 21900, D Loss: 1.241182804107666, G Loss: 0.9219717383384705\n",
      "Epoch: 23/50, Step: 22000, D Loss: 1.2665042877197266, G Loss: 0.7414356470108032\n",
      "Epoch: 23/50, Step: 22100, D Loss: 1.19146728515625, G Loss: 0.9650406837463379\n",
      "Epoch: 23/50, Step: 22200, D Loss: 1.1858857870101929, G Loss: 0.7685431241989136\n",
      "Epoch: 23/50, Step: 22300, D Loss: 1.2208094596862793, G Loss: 1.2683500051498413\n",
      "Epoch: 23/50, Step: 22400, D Loss: 1.1641271114349365, G Loss: 1.1019322872161865\n",
      "Epoch: 24/50, Step: 22500, D Loss: 1.1262972354888916, G Loss: 0.8867220878601074\n",
      "Epoch: 24/50, Step: 22600, D Loss: 1.3060945272445679, G Loss: 0.9167486429214478\n",
      "Epoch: 24/50, Step: 22700, D Loss: 1.1947518587112427, G Loss: 1.0227892398834229\n",
      "Epoch: 24/50, Step: 22800, D Loss: 1.3056048154830933, G Loss: 0.7716820240020752\n",
      "Epoch: 24/50, Step: 22900, D Loss: 1.1642104387283325, G Loss: 0.8623181581497192\n",
      "Epoch: 24/50, Step: 23000, D Loss: 1.2329914569854736, G Loss: 1.084620714187622\n",
      "Epoch: 24/50, Step: 23100, D Loss: 1.2427608966827393, G Loss: 1.3022964000701904\n",
      "Epoch: 24/50, Step: 23200, D Loss: 1.277015209197998, G Loss: 0.7820996642112732\n",
      "Epoch: 24/50, Step: 23300, D Loss: 1.1886347532272339, G Loss: 1.0851091146469116\n",
      "Epoch: 24/50, Step: 23400, D Loss: 1.33418607711792, G Loss: 0.7163116931915283\n",
      "Epoch: 25/50, Step: 23500, D Loss: 1.2002240419387817, G Loss: 0.9491722583770752\n",
      "Epoch: 25/50, Step: 23600, D Loss: 1.1755995750427246, G Loss: 0.9712936878204346\n",
      "Epoch: 25/50, Step: 23700, D Loss: 1.1856290102005005, G Loss: 1.0524955987930298\n",
      "Epoch: 25/50, Step: 23800, D Loss: 1.1362779140472412, G Loss: 0.9094306826591492\n",
      "Epoch: 25/50, Step: 23900, D Loss: 1.2238335609436035, G Loss: 0.7942941784858704\n",
      "Epoch: 25/50, Step: 24000, D Loss: 1.2610427141189575, G Loss: 1.0142638683319092\n",
      "Epoch: 25/50, Step: 24100, D Loss: 1.240368127822876, G Loss: 0.907865047454834\n",
      "Epoch: 25/50, Step: 24200, D Loss: 1.2110683917999268, G Loss: 0.9124535322189331\n",
      "Epoch: 25/50, Step: 24300, D Loss: 1.204123854637146, G Loss: 0.9643872380256653\n",
      "Epoch: 26/50, Step: 24400, D Loss: 1.2399346828460693, G Loss: 0.7978558540344238\n",
      "Epoch: 26/50, Step: 24500, D Loss: 1.227188229560852, G Loss: 1.0355265140533447\n",
      "Epoch: 26/50, Step: 24600, D Loss: 1.4061017036437988, G Loss: 1.3225953578948975\n",
      "Epoch: 26/50, Step: 24700, D Loss: 1.1357053518295288, G Loss: 0.9045677185058594\n",
      "Epoch: 26/50, Step: 24800, D Loss: 1.3007655143737793, G Loss: 0.8942601680755615\n",
      "Epoch: 26/50, Step: 24900, D Loss: 1.2068142890930176, G Loss: 0.913966178894043\n",
      "Epoch: 26/50, Step: 25000, D Loss: 1.2416528463363647, G Loss: 0.84712153673172\n",
      "Epoch: 26/50, Step: 25100, D Loss: 1.2308399677276611, G Loss: 1.1149427890777588\n",
      "Epoch: 26/50, Step: 25200, D Loss: 1.314035415649414, G Loss: 0.7738482356071472\n",
      "Epoch: 27/50, Step: 25300, D Loss: 1.1078574657440186, G Loss: 1.0051829814910889\n",
      "Epoch: 27/50, Step: 25400, D Loss: 1.2352933883666992, G Loss: 0.9158613085746765\n",
      "Epoch: 27/50, Step: 25500, D Loss: 1.167332410812378, G Loss: 0.9380961656570435\n",
      "Epoch: 27/50, Step: 25600, D Loss: 1.3083356618881226, G Loss: 0.7295217514038086\n",
      "Epoch: 27/50, Step: 25700, D Loss: 1.259796142578125, G Loss: 0.7841469645500183\n",
      "Epoch: 27/50, Step: 25800, D Loss: 1.1185212135314941, G Loss: 0.7873911261558533\n",
      "Epoch: 27/50, Step: 25900, D Loss: 1.3450413942337036, G Loss: 0.5948001146316528\n",
      "Epoch: 27/50, Step: 26000, D Loss: 1.1676390171051025, G Loss: 0.8275951147079468\n",
      "Epoch: 27/50, Step: 26100, D Loss: 1.2261372804641724, G Loss: 0.9261521100997925\n",
      "Epoch: 27/50, Step: 26200, D Loss: 1.2265046834945679, G Loss: 0.9005173444747925\n",
      "Epoch: 28/50, Step: 26300, D Loss: 1.2047514915466309, G Loss: 1.162658452987671\n",
      "Epoch: 28/50, Step: 26400, D Loss: 1.3190675973892212, G Loss: 0.8922451734542847\n",
      "Epoch: 28/50, Step: 26500, D Loss: 1.24493408203125, G Loss: 0.6407414674758911\n",
      "Epoch: 28/50, Step: 26600, D Loss: 1.1801207065582275, G Loss: 0.9951067566871643\n",
      "Epoch: 28/50, Step: 26700, D Loss: 1.235087275505066, G Loss: 1.0938308238983154\n",
      "Epoch: 28/50, Step: 26800, D Loss: 1.1554946899414062, G Loss: 1.0331007242202759\n",
      "Epoch: 28/50, Step: 26900, D Loss: 1.2732802629470825, G Loss: 1.052351713180542\n",
      "Epoch: 28/50, Step: 27000, D Loss: 1.1889671087265015, G Loss: 1.1222500801086426\n",
      "Epoch: 28/50, Step: 27100, D Loss: 1.1423007249832153, G Loss: 1.049009084701538\n",
      "Epoch: 29/50, Step: 27200, D Loss: 1.1485176086425781, G Loss: 1.0165256261825562\n",
      "Epoch: 29/50, Step: 27300, D Loss: 1.2299809455871582, G Loss: 1.1101101636886597\n",
      "Epoch: 29/50, Step: 27400, D Loss: 1.1807870864868164, G Loss: 0.9193254709243774\n",
      "Epoch: 29/50, Step: 27500, D Loss: 1.3059940338134766, G Loss: 0.6988204717636108\n",
      "Epoch: 29/50, Step: 27600, D Loss: 1.3216053247451782, G Loss: 0.6762109994888306\n",
      "Epoch: 29/50, Step: 27700, D Loss: 1.1857885122299194, G Loss: 1.2161445617675781\n",
      "Epoch: 29/50, Step: 27800, D Loss: 1.1301485300064087, G Loss: 0.9886313676834106\n",
      "Epoch: 29/50, Step: 27900, D Loss: 1.293254017829895, G Loss: 0.7719382643699646\n",
      "Epoch: 29/50, Step: 28000, D Loss: 1.2084364891052246, G Loss: 0.9887571334838867\n",
      "Epoch: 29/50, Step: 28100, D Loss: 1.2136424779891968, G Loss: 0.8568726778030396\n",
      "Epoch: 30/50, Step: 28200, D Loss: 1.2700717449188232, G Loss: 0.857607364654541\n",
      "Epoch: 30/50, Step: 28300, D Loss: 1.1744557619094849, G Loss: 0.8385840058326721\n",
      "Epoch: 30/50, Step: 28400, D Loss: 1.1476036310195923, G Loss: 0.8597829341888428\n",
      "Epoch: 30/50, Step: 28500, D Loss: 1.113935947418213, G Loss: 0.8333016037940979\n",
      "Epoch: 30/50, Step: 28600, D Loss: 1.2478114366531372, G Loss: 0.764983057975769\n",
      "Epoch: 30/50, Step: 28700, D Loss: 1.2396581172943115, G Loss: 0.8896706700325012\n",
      "Epoch: 30/50, Step: 28800, D Loss: 1.3974761962890625, G Loss: 0.677495002746582\n",
      "Epoch: 30/50, Step: 28900, D Loss: 1.2402758598327637, G Loss: 0.7176233530044556\n",
      "Epoch: 30/50, Step: 29000, D Loss: 1.2685775756835938, G Loss: 0.7504111528396606\n",
      "Epoch: 31/50, Step: 29100, D Loss: 1.3303475379943848, G Loss: 0.9262601137161255\n",
      "Epoch: 31/50, Step: 29200, D Loss: 1.19620943069458, G Loss: 0.9128658175468445\n",
      "Epoch: 31/50, Step: 29300, D Loss: 1.1901613473892212, G Loss: 0.8004170656204224\n",
      "Epoch: 31/50, Step: 29400, D Loss: 1.1972190141677856, G Loss: 0.6942418813705444\n",
      "Epoch: 31/50, Step: 29500, D Loss: 1.1806056499481201, G Loss: 1.1498284339904785\n",
      "Epoch: 31/50, Step: 29600, D Loss: 1.2003148794174194, G Loss: 0.8861392736434937\n",
      "Epoch: 31/50, Step: 29700, D Loss: 1.2424616813659668, G Loss: 1.0172407627105713\n",
      "Epoch: 31/50, Step: 29800, D Loss: 1.2472009658813477, G Loss: 1.0302460193634033\n",
      "Epoch: 31/50, Step: 29900, D Loss: 1.202374815940857, G Loss: 0.7921326160430908\n",
      "Epoch: 32/50, Step: 30000, D Loss: 1.258671522140503, G Loss: 0.7761672735214233\n",
      "Epoch: 32/50, Step: 30100, D Loss: 1.2815885543823242, G Loss: 0.8146438598632812\n",
      "Epoch: 32/50, Step: 30200, D Loss: 1.1516001224517822, G Loss: 0.8883209824562073\n",
      "Epoch: 32/50, Step: 30300, D Loss: 1.2426934242248535, G Loss: 0.7430719137191772\n",
      "Epoch: 32/50, Step: 30400, D Loss: 1.2653920650482178, G Loss: 1.280940294265747\n",
      "Epoch: 32/50, Step: 30500, D Loss: 1.1918632984161377, G Loss: 0.8606685996055603\n",
      "Epoch: 32/50, Step: 30600, D Loss: 1.2837167978286743, G Loss: 1.2054851055145264\n",
      "Epoch: 32/50, Step: 30700, D Loss: 1.3178791999816895, G Loss: 0.5360366702079773\n",
      "Epoch: 32/50, Step: 30800, D Loss: 1.2775838375091553, G Loss: 0.9698480367660522\n",
      "Epoch: 32/50, Step: 30900, D Loss: 1.3030204772949219, G Loss: 1.3201215267181396\n",
      "Epoch: 33/50, Step: 31000, D Loss: 1.2283589839935303, G Loss: 1.5156443119049072\n",
      "Epoch: 33/50, Step: 31100, D Loss: 1.3489444255828857, G Loss: 0.7787050604820251\n",
      "Epoch: 33/50, Step: 31200, D Loss: 1.1748545169830322, G Loss: 1.1267893314361572\n",
      "Epoch: 33/50, Step: 31300, D Loss: 1.2532224655151367, G Loss: 1.0518677234649658\n",
      "Epoch: 33/50, Step: 31400, D Loss: 1.3471250534057617, G Loss: 1.1470972299575806\n",
      "Epoch: 33/50, Step: 31500, D Loss: 1.2148808240890503, G Loss: 0.7423912286758423\n",
      "Epoch: 33/50, Step: 31600, D Loss: 1.205531120300293, G Loss: 0.9363947510719299\n",
      "Epoch: 33/50, Step: 31700, D Loss: 1.2643693685531616, G Loss: 0.9625366926193237\n",
      "Epoch: 33/50, Step: 31800, D Loss: 1.2066423892974854, G Loss: 0.8550148010253906\n",
      "Epoch: 34/50, Step: 31900, D Loss: 1.1639618873596191, G Loss: 0.9063175320625305\n",
      "Epoch: 34/50, Step: 32000, D Loss: 1.231210470199585, G Loss: 0.8845882415771484\n",
      "Epoch: 34/50, Step: 32100, D Loss: 1.2314238548278809, G Loss: 0.9917536377906799\n",
      "Epoch: 34/50, Step: 32200, D Loss: 1.232785940170288, G Loss: 0.8000027537345886\n",
      "Epoch: 34/50, Step: 32300, D Loss: 1.216137409210205, G Loss: 0.7989095449447632\n",
      "Epoch: 34/50, Step: 32400, D Loss: 1.1525428295135498, G Loss: 0.8272444605827332\n",
      "Epoch: 34/50, Step: 32500, D Loss: 1.2046626806259155, G Loss: 0.8209885358810425\n",
      "Epoch: 34/50, Step: 32600, D Loss: 1.2597019672393799, G Loss: 1.2011444568634033\n",
      "Epoch: 34/50, Step: 32700, D Loss: 1.4396988153457642, G Loss: 1.518322467803955\n",
      "Epoch: 35/50, Step: 32800, D Loss: 1.2250580787658691, G Loss: 0.7378736734390259\n",
      "Epoch: 35/50, Step: 32900, D Loss: 1.2016754150390625, G Loss: 1.3255627155303955\n",
      "Epoch: 35/50, Step: 33000, D Loss: 1.1598408222198486, G Loss: 0.9177361726760864\n",
      "Epoch: 35/50, Step: 33100, D Loss: 1.2182292938232422, G Loss: 1.0636540651321411\n",
      "Epoch: 35/50, Step: 33200, D Loss: 1.2980656623840332, G Loss: 0.9482142925262451\n",
      "Epoch: 35/50, Step: 33300, D Loss: 1.3540945053100586, G Loss: 1.0627357959747314\n",
      "Epoch: 35/50, Step: 33400, D Loss: 1.1942760944366455, G Loss: 0.7118359804153442\n",
      "Epoch: 35/50, Step: 33500, D Loss: 1.1951991319656372, G Loss: 0.8601397275924683\n",
      "Epoch: 35/50, Step: 33600, D Loss: 1.2576578855514526, G Loss: 0.9416972994804382\n",
      "Epoch: 35/50, Step: 33700, D Loss: 1.209525227546692, G Loss: 1.0577778816223145\n",
      "Epoch: 36/50, Step: 33800, D Loss: 1.204667329788208, G Loss: 1.0255203247070312\n",
      "Epoch: 36/50, Step: 33900, D Loss: 1.1989684104919434, G Loss: 0.9873369932174683\n",
      "Epoch: 36/50, Step: 34000, D Loss: 1.3067703247070312, G Loss: 1.1465823650360107\n",
      "Epoch: 36/50, Step: 34100, D Loss: 1.2837764024734497, G Loss: 1.0072802305221558\n",
      "Epoch: 36/50, Step: 34200, D Loss: 1.3044425249099731, G Loss: 1.156259298324585\n",
      "Epoch: 36/50, Step: 34300, D Loss: 1.2056188583374023, G Loss: 1.0182381868362427\n",
      "Epoch: 36/50, Step: 34400, D Loss: 1.2643738985061646, G Loss: 0.9614315032958984\n",
      "Epoch: 36/50, Step: 34500, D Loss: 1.3192930221557617, G Loss: 0.8524658679962158\n",
      "Epoch: 36/50, Step: 34600, D Loss: 1.2528836727142334, G Loss: 1.2799036502838135\n",
      "Epoch: 37/50, Step: 34700, D Loss: 1.2573869228363037, G Loss: 0.8599958419799805\n",
      "Epoch: 37/50, Step: 34800, D Loss: 1.1725984811782837, G Loss: 1.3081600666046143\n",
      "Epoch: 37/50, Step: 34900, D Loss: 1.25221586227417, G Loss: 0.8222669363021851\n",
      "Epoch: 37/50, Step: 35000, D Loss: 1.1952428817749023, G Loss: 1.0186481475830078\n",
      "Epoch: 37/50, Step: 35100, D Loss: 1.1851698160171509, G Loss: 0.9595387578010559\n",
      "Epoch: 37/50, Step: 35200, D Loss: 1.247169852256775, G Loss: 0.7011709213256836\n",
      "Epoch: 37/50, Step: 35300, D Loss: 1.2376629114151, G Loss: 1.092707633972168\n",
      "Epoch: 37/50, Step: 35400, D Loss: 1.2605233192443848, G Loss: 0.9264761209487915\n",
      "Epoch: 37/50, Step: 35500, D Loss: 1.1233935356140137, G Loss: 0.964928388595581\n",
      "Epoch: 37/50, Step: 35600, D Loss: 1.2031008005142212, G Loss: 0.9948196411132812\n",
      "Epoch: 38/50, Step: 35700, D Loss: 1.2745552062988281, G Loss: 0.9842804074287415\n",
      "Epoch: 38/50, Step: 35800, D Loss: 1.3056312799453735, G Loss: 0.7977616786956787\n",
      "Epoch: 38/50, Step: 35900, D Loss: 1.1895256042480469, G Loss: 1.0907657146453857\n",
      "Epoch: 38/50, Step: 36000, D Loss: 1.2979581356048584, G Loss: 0.7753040194511414\n",
      "Epoch: 38/50, Step: 36100, D Loss: 1.3153116703033447, G Loss: 1.3459755182266235\n",
      "Epoch: 38/50, Step: 36200, D Loss: 1.1623234748840332, G Loss: 1.046003818511963\n",
      "Epoch: 38/50, Step: 36300, D Loss: 1.2046648263931274, G Loss: 0.9625626802444458\n",
      "Epoch: 38/50, Step: 36400, D Loss: 1.1874940395355225, G Loss: 1.1779396533966064\n",
      "Epoch: 38/50, Step: 36500, D Loss: 1.1999504566192627, G Loss: 1.027659296989441\n",
      "Epoch: 39/50, Step: 36600, D Loss: 1.2035362720489502, G Loss: 0.8651690483093262\n",
      "Epoch: 39/50, Step: 36700, D Loss: 1.1562621593475342, G Loss: 0.9754357933998108\n",
      "Epoch: 39/50, Step: 36800, D Loss: 1.251892328262329, G Loss: 0.5901049375534058\n",
      "Epoch: 39/50, Step: 36900, D Loss: 1.277130126953125, G Loss: 0.8790773749351501\n",
      "Epoch: 39/50, Step: 37000, D Loss: 1.212507724761963, G Loss: 1.150827407836914\n",
      "Epoch: 39/50, Step: 37100, D Loss: 1.2381174564361572, G Loss: 1.063865303993225\n",
      "Epoch: 39/50, Step: 37200, D Loss: 1.2560280561447144, G Loss: 0.9694295525550842\n",
      "Epoch: 39/50, Step: 37300, D Loss: 1.225442886352539, G Loss: 0.8690224885940552\n",
      "Epoch: 39/50, Step: 37400, D Loss: 1.2482178211212158, G Loss: 0.9233623743057251\n",
      "Epoch: 40/50, Step: 37500, D Loss: 1.1405808925628662, G Loss: 1.0717651844024658\n",
      "Epoch: 40/50, Step: 37600, D Loss: 1.3234984874725342, G Loss: 1.1344659328460693\n",
      "Epoch: 40/50, Step: 37700, D Loss: 1.1851081848144531, G Loss: 0.9512386918067932\n",
      "Epoch: 40/50, Step: 37800, D Loss: 1.2702488899230957, G Loss: 1.276825189590454\n",
      "Epoch: 40/50, Step: 37900, D Loss: 1.2990796566009521, G Loss: 1.0228497982025146\n",
      "Epoch: 40/50, Step: 38000, D Loss: 1.1657326221466064, G Loss: 1.331925630569458\n",
      "Epoch: 40/50, Step: 38100, D Loss: 1.2448980808258057, G Loss: 0.9437596797943115\n",
      "Epoch: 40/50, Step: 38200, D Loss: 1.361630916595459, G Loss: 0.900732159614563\n",
      "Epoch: 40/50, Step: 38300, D Loss: 1.139716625213623, G Loss: 0.7612392902374268\n",
      "Epoch: 40/50, Step: 38400, D Loss: 1.206517219543457, G Loss: 1.153896689414978\n",
      "Epoch: 41/50, Step: 38500, D Loss: 1.1179249286651611, G Loss: 1.0247217416763306\n",
      "Epoch: 41/50, Step: 38600, D Loss: 1.2161377668380737, G Loss: 0.9279412627220154\n",
      "Epoch: 41/50, Step: 38700, D Loss: 1.2111742496490479, G Loss: 0.7811870574951172\n",
      "Epoch: 41/50, Step: 38800, D Loss: 1.2445619106292725, G Loss: 0.9319475889205933\n",
      "Epoch: 41/50, Step: 38900, D Loss: 1.3297486305236816, G Loss: 0.7641939520835876\n",
      "Epoch: 41/50, Step: 39000, D Loss: 1.268157958984375, G Loss: 0.974425733089447\n",
      "Epoch: 41/50, Step: 39100, D Loss: 1.3058664798736572, G Loss: 0.7416825294494629\n",
      "Epoch: 41/50, Step: 39200, D Loss: 1.2750303745269775, G Loss: 1.0587196350097656\n",
      "Epoch: 41/50, Step: 39300, D Loss: 1.285602331161499, G Loss: 1.0798803567886353\n",
      "Epoch: 42/50, Step: 39400, D Loss: 1.1466481685638428, G Loss: 0.8888238072395325\n",
      "Epoch: 42/50, Step: 39500, D Loss: 1.2985601425170898, G Loss: 0.857285737991333\n",
      "Epoch: 42/50, Step: 39600, D Loss: 1.2886089086532593, G Loss: 1.0050108432769775\n",
      "Epoch: 42/50, Step: 39700, D Loss: 1.0997414588928223, G Loss: 1.1347441673278809\n",
      "Epoch: 42/50, Step: 39800, D Loss: 1.350433588027954, G Loss: 1.3179497718811035\n",
      "Epoch: 42/50, Step: 39900, D Loss: 1.2715165615081787, G Loss: 0.878556489944458\n",
      "Epoch: 42/50, Step: 40000, D Loss: 1.173454761505127, G Loss: 0.6953525543212891\n",
      "Epoch: 42/50, Step: 40100, D Loss: 1.2161270380020142, G Loss: 0.9230181574821472\n",
      "Epoch: 42/50, Step: 40200, D Loss: 1.2438760995864868, G Loss: 0.8983690142631531\n"
     ]
    },
    {
     "name": "stdout",
     "output_type": "stream",
     "text": [
      "Epoch: 43/50, Step: 40300, D Loss: 1.2671339511871338, G Loss: 0.8715578317642212\n",
      "Epoch: 43/50, Step: 40400, D Loss: 1.1369638442993164, G Loss: 0.9362446665763855\n",
      "Epoch: 43/50, Step: 40500, D Loss: 1.200079083442688, G Loss: 1.1189543008804321\n",
      "Epoch: 43/50, Step: 40600, D Loss: 1.3150529861450195, G Loss: 0.7439093589782715\n",
      "Epoch: 43/50, Step: 40700, D Loss: 1.2304681539535522, G Loss: 0.7889236807823181\n",
      "Epoch: 43/50, Step: 40800, D Loss: 1.3195154666900635, G Loss: 0.69771808385849\n",
      "Epoch: 43/50, Step: 40900, D Loss: 1.237633228302002, G Loss: 0.8163778781890869\n",
      "Epoch: 43/50, Step: 41000, D Loss: 1.2536416053771973, G Loss: 1.062206506729126\n",
      "Epoch: 43/50, Step: 41100, D Loss: 1.3234291076660156, G Loss: 0.8421131372451782\n",
      "Epoch: 43/50, Step: 41200, D Loss: 1.2624945640563965, G Loss: 1.0797982215881348\n",
      "Epoch: 44/50, Step: 41300, D Loss: 1.3040547370910645, G Loss: 0.8745784759521484\n",
      "Epoch: 44/50, Step: 41400, D Loss: 1.248758316040039, G Loss: 0.819257915019989\n",
      "Epoch: 44/50, Step: 41500, D Loss: 1.2484033107757568, G Loss: 0.8414314985275269\n",
      "Epoch: 44/50, Step: 41600, D Loss: 1.2775979042053223, G Loss: 1.2029948234558105\n",
      "Epoch: 44/50, Step: 41700, D Loss: 1.2064316272735596, G Loss: 0.9886420369148254\n",
      "Epoch: 44/50, Step: 41800, D Loss: 1.2541640996932983, G Loss: 1.1874451637268066\n",
      "Epoch: 44/50, Step: 41900, D Loss: 1.1576189994812012, G Loss: 0.7891532182693481\n",
      "Epoch: 44/50, Step: 42000, D Loss: 1.1962511539459229, G Loss: 1.0087721347808838\n",
      "Epoch: 44/50, Step: 42100, D Loss: 1.2239000797271729, G Loss: 1.244746208190918\n",
      "Epoch: 45/50, Step: 42200, D Loss: 1.1280311346054077, G Loss: 0.8784191608428955\n",
      "Epoch: 45/50, Step: 42300, D Loss: 1.1700245141983032, G Loss: 0.8256258964538574\n",
      "Epoch: 45/50, Step: 42400, D Loss: 1.2739894390106201, G Loss: 1.1052969694137573\n",
      "Epoch: 45/50, Step: 42500, D Loss: 1.1678037643432617, G Loss: 0.8961098790168762\n",
      "Epoch: 45/50, Step: 42600, D Loss: 1.2924749851226807, G Loss: 0.9189406633377075\n",
      "Epoch: 45/50, Step: 42700, D Loss: 1.2485487461090088, G Loss: 1.29738450050354\n",
      "Epoch: 45/50, Step: 42800, D Loss: 1.157265305519104, G Loss: 0.9963184595108032\n",
      "Epoch: 45/50, Step: 42900, D Loss: 1.2426986694335938, G Loss: 0.6674853563308716\n",
      "Epoch: 45/50, Step: 43000, D Loss: 1.2148418426513672, G Loss: 0.890792727470398\n",
      "Epoch: 45/50, Step: 43100, D Loss: 1.240767478942871, G Loss: 0.9478980302810669\n",
      "Epoch: 46/50, Step: 43200, D Loss: 1.2091747522354126, G Loss: 0.7080556154251099\n",
      "Epoch: 46/50, Step: 43300, D Loss: 1.2484796047210693, G Loss: 0.9084612131118774\n",
      "Epoch: 46/50, Step: 43400, D Loss: 1.2039605379104614, G Loss: 0.9033199548721313\n",
      "Epoch: 46/50, Step: 43500, D Loss: 1.1997287273406982, G Loss: 0.875247597694397\n",
      "Epoch: 46/50, Step: 43600, D Loss: 1.2544035911560059, G Loss: 0.7267091274261475\n",
      "Epoch: 46/50, Step: 43700, D Loss: 1.2010512351989746, G Loss: 0.5923932790756226\n",
      "Epoch: 46/50, Step: 43800, D Loss: 1.3050612211227417, G Loss: 0.8113607168197632\n",
      "Epoch: 46/50, Step: 43900, D Loss: 1.2905526161193848, G Loss: 1.0954461097717285\n",
      "Epoch: 46/50, Step: 44000, D Loss: 1.2154014110565186, G Loss: 0.7849315404891968\n",
      "Epoch: 47/50, Step: 44100, D Loss: 1.3073737621307373, G Loss: 1.1124365329742432\n",
      "Epoch: 47/50, Step: 44200, D Loss: 1.1890820264816284, G Loss: 0.87711501121521\n",
      "Epoch: 47/50, Step: 44300, D Loss: 1.249503493309021, G Loss: 1.555011510848999\n",
      "Epoch: 47/50, Step: 44400, D Loss: 1.1360602378845215, G Loss: 0.9276514053344727\n",
      "Epoch: 47/50, Step: 44500, D Loss: 1.2430593967437744, G Loss: 0.882981538772583\n",
      "Epoch: 47/50, Step: 44600, D Loss: 1.253286600112915, G Loss: 0.8704495429992676\n",
      "Epoch: 47/50, Step: 44700, D Loss: 1.2433907985687256, G Loss: 1.1349327564239502\n",
      "Epoch: 47/50, Step: 44800, D Loss: 1.2132601737976074, G Loss: 0.7072693705558777\n",
      "Epoch: 47/50, Step: 44900, D Loss: 1.1863152980804443, G Loss: 0.8685986995697021\n",
      "Epoch: 48/50, Step: 45000, D Loss: 1.220975637435913, G Loss: 0.999184787273407\n",
      "Epoch: 48/50, Step: 45100, D Loss: 1.2298252582550049, G Loss: 0.906997561454773\n",
      "Epoch: 48/50, Step: 45200, D Loss: 1.171065092086792, G Loss: 0.8764926791191101\n",
      "Epoch: 48/50, Step: 45300, D Loss: 1.254621982574463, G Loss: 1.121368646621704\n",
      "Epoch: 48/50, Step: 45400, D Loss: 1.123760461807251, G Loss: 1.102616786956787\n",
      "Epoch: 48/50, Step: 45500, D Loss: 1.1970198154449463, G Loss: 0.9131219983100891\n",
      "Epoch: 48/50, Step: 45600, D Loss: 1.235490322113037, G Loss: 1.0944409370422363\n",
      "Epoch: 48/50, Step: 45700, D Loss: 1.2333694696426392, G Loss: 0.8908747434616089\n",
      "Epoch: 48/50, Step: 45800, D Loss: 1.2430384159088135, G Loss: 0.9997708797454834\n",
      "Epoch: 48/50, Step: 45900, D Loss: 1.2540042400360107, G Loss: 0.8386843800544739\n",
      "Epoch: 49/50, Step: 46000, D Loss: 1.3032110929489136, G Loss: 0.7934931516647339\n",
      "Epoch: 49/50, Step: 46100, D Loss: 1.2122366428375244, G Loss: 0.6930758357048035\n",
      "Epoch: 49/50, Step: 46200, D Loss: 1.1820088624954224, G Loss: 0.9424937963485718\n",
      "Epoch: 49/50, Step: 46300, D Loss: 1.1937928199768066, G Loss: 1.2224006652832031\n",
      "Epoch: 49/50, Step: 46400, D Loss: 1.2443552017211914, G Loss: 0.9473430514335632\n",
      "Epoch: 49/50, Step: 46500, D Loss: 1.1523809432983398, G Loss: 0.7589169144630432\n",
      "Epoch: 49/50, Step: 46600, D Loss: 1.1736565828323364, G Loss: 1.3270739316940308\n",
      "Epoch: 49/50, Step: 46700, D Loss: 1.2918261289596558, G Loss: 0.9021583199501038\n",
      "Epoch: 49/50, Step: 46800, D Loss: 1.1745171546936035, G Loss: 0.9097059965133667\n"
     ]
    }
   ],
   "source": [
    "for epoch in range(max_epoch):\n",
    "    for idx, (images, _) in enumerate(data_loader):\n",
    "        # Training Discriminator\n",
    "        x = images.to(DEVICE)\n",
    "        x_outputs = D(x)\n",
    "        D_x_loss = criterion(x_outputs, D_labels)\n",
    "\n",
    "        z = torch.randn(batch_size, n_noise).to(DEVICE)\n",
    "        z_outputs = D(G(z))\n",
    "        D_z_loss = criterion(z_outputs, D_fakes)\n",
    "        D_loss = D_x_loss + D_z_loss\n",
    "        \n",
    "        D.zero_grad()\n",
    "        D_loss.backward()\n",
    "        D_opt.step()\n",
    "\n",
    "        if step % n_critic == 0:\n",
    "            # Training Generator\n",
    "            z = torch.randn(batch_size, n_noise).to(DEVICE)\n",
    "            z_outputs = D(G(z))\n",
    "            G_loss = criterion(z_outputs, D_labels)\n",
    "\n",
    "            G.zero_grad()\n",
    "            G_loss.backward()\n",
    "            G_opt.step()\n",
    "        \n",
    "        if step % 500 == 0:\n",
    "            print('Epoch: {}/{}, Step: {}, D Loss: {}, G Loss: {}'.format(epoch, max_epoch, step, D_loss.item(), G_loss.item()))\n",
    "        \n",
    "        if step % 1000 == 0:\n",
    "            G.eval()\n",
    "            img = get_sample_image(G, n_noise)\n",
    "            imsave('samples/{}_step{}.jpg'.format(MODEL_NAME, str(step).zfill(3)), img, cmap='gray')\n",
    "            G.train()\n",
    "        step += 1"
   ]
  },
  {
   "cell_type": "markdown",
   "metadata": {},
   "source": [
    "## Visualize Sample"
   ]
  },
  {
   "cell_type": "code",
   "execution_count": 20,
   "metadata": {},
   "outputs": [
    {
     "data": {
      "text/plain": [
       "<matplotlib.image.AxesImage at 0x269aa4a9278>"
      ]
     },
     "execution_count": 20,
     "metadata": {},
     "output_type": "execute_result"
    },
    {
     "data": {
      "image/png": "[encoded data removed]",
      "text/plain": [
       "<matplotlib.figure.Figure at 0x269abf50ef0>"
      ]
     },
     "metadata": {},
     "output_type": "display_data"
    }
   ],
   "source": [
    "# generation to image\n",
    "G.eval()\n",
    "imshow(get_sample_image(G, n_noise), cmap='gray')"
   ]
  },
  {
   "cell_type": "code",
   "execution_count": 14,
   "metadata": {
    "collapsed": true
   },
   "outputs": [],
   "source": [
    "# Saving params.\n",
    "torch.save(D.state_dict(), 'D.pkl')\n",
    "torch.save(G.state_dict(), 'G.pkl')"
   ]
  },
  {
   "cell_type": "code",
   "execution_count": null,
   "metadata": {
    "collapsed": true
   },
   "outputs": [],
   "source": []
  }
 ],
 "metadata": {
  "kernelspec": {
   "display_name": "Python 3",
   "language": "python",
   "name": "python3"
  },
  "language_info": {
   "codemirror_mode": {
    "name": "ipython",
    "version": 3
   },
   "file_extension": ".py",
   "mimetype": "text/x-python",
   "name": "python",
   "nbconvert_exporter": "python",
   "pygments_lexer": "ipython3",
   "version": "3.6.3"
  }
 },
 "nbformat": 4,
 "nbformat_minor": 2
}
