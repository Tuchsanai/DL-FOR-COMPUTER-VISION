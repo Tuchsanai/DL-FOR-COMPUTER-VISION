{
 "cells": [
  {
   "cell_type": "markdown",
   "id": "41b88b7b",
   "metadata": {},
   "source": [
    "# HomeWork นับจำนวนครั้ง วิดพื้น หรือการทำ Push-Up \n",
    "\n",
    "https://www.youtube.com/watch?v=WDIpL0pjun0"
   ]
  },
  {
   "cell_type": "markdown",
   "id": "3137728d",
   "metadata": {},
   "source": [
    "[![Video Title](https://img.youtube.com/vi/WDIpL0pjun0/0.jpg)](https://www.youtube.com/watch?v=WDIpL0pjun0)\n"
   ]
  },
  {
   "cell_type": "markdown",
   "id": "cec4213e",
   "metadata": {},
   "source": []
  },
  {
   "cell_type": "code",
   "execution_count": null,
   "id": "2f33ad23-754e-4ea3-887c-9bbfc869000b",
   "metadata": {},
   "outputs": [],
   "source": []
  }
 ],
 "metadata": {
  "kernelspec": {
   "display_name": "Python 3 (ipykernel)",
   "language": "python",
   "name": "python3"
  },
  "language_info": {
   "codemirror_mode": {
    "name": "ipython",
    "version": 3
   },
   "file_extension": ".py",
   "mimetype": "text/x-python",
   "name": "python",
   "nbconvert_exporter": "python",
   "pygments_lexer": "ipython3",
   "version": "3.10.12"
  }
 },
 "nbformat": 4,
 "nbformat_minor": 5
}
