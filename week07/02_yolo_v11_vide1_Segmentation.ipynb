{
 "cells": [
  {
   "cell_type": "code",
   "execution_count": 2,
   "id": "0e18e848-4962-463d-b6a4-9c39265dec3b",
   "metadata": {},
   "outputs": [
    {
     "name": "stdout",
     "output_type": "stream",
     "text": [
      "Notebook cleaned.\n"
     ]
    }
   ],
   "source": [
    "import IPython\n",
    "import sys\n",
    "\n",
    "def clean_notebook():\n",
    "    IPython.display.clear_output(wait=True)\n",
    "    print(\"Notebook cleaned.\")\n",
    "\n",
    "# Run the installation commands\n",
    "!pip install opendatasets\n",
    "!pip install ultralytics\n",
    "!pip install pytubefix\n",
    "\n",
    "# Clean up the notebook\n",
    "clean_notebook()\n",
    "\n"
   ]
  },
  {
   "cell_type": "code",
   "execution_count": 4,
   "id": "31cc169c-6bdf-4653-8375-24325d140089",
   "metadata": {},
   "outputs": [
    {
     "name": "stdout",
     "output_type": "stream",
     "text": [
      "Ultralytics 8.3.47 🚀 Python-3.10.12 torch-2.5.1+cu121 CUDA:0 (NVIDIA A100-SXM4-80GB MIG 7g.80gb, 81051MiB)\n",
      "Setup complete ✅ (256 CPUs, 2015.7 GB RAM, 288.1/3519.1 GB disk)\n"
     ]
    }
   ],
   "source": [
    "\n",
    "import ultralytics\n",
    "ultralytics.checks()"
   ]
  },
  {
   "cell_type": "markdown",
   "id": "dd2087c2-1756-4235-a356-2b7066170413",
   "metadata": {},
   "source": [
    "# Yolo 11 with Video files"
   ]
  },
  {
   "cell_type": "code",
   "execution_count": null,
   "id": "8dfce0ce-820a-469a-99c9-0c9e8a1db5ad",
   "metadata": {},
   "outputs": [],
   "source": [
    "import cv2\n",
    "from ultralytics import YOLO\n",
    "from IPython.display import display, Image, clear_output\n",
    "import numpy as np\n",
    "\n",
    "# Set the desired width for resizing frames\n",
    "set_width = 800\n",
    "\n",
    "# Load the YOLO model\n",
    "model = YOLO(\"yolo11n-seg.pt\")\n",
    "\n",
    "# Class names (ensure these match your model's training dataset, e.g., COCO)\n",
    "class_names = model.names  # Assuming `model.names` provides the class name mapping\n",
    "\n",
    "# Initialize video capture (0 for webcam, or provide a video file path)\n",
    "video_path = \".././Videos/video4.mp4\"\n",
    "cap = cv2.VideoCapture(video_path)\n",
    "\n",
    "if not cap.isOpened():\n",
    "    print(f\"Error: Could not open video source: {video_path}\")\n",
    "    cap.release()\n",
    "    raise RuntimeError(\"Video initialization failed.\")\n",
    "\n",
    "try:\n",
    "    while True:\n",
    "        # Read a frame from the video\n",
    "        ret, frame = cap.read()\n",
    "        if not ret:\n",
    "            print(\"End of video or failed to grab frame.\")\n",
    "            break\n",
    "        \n",
    "        # Resize the frame for faster processing\n",
    "        ratio = set_width / frame.shape[1]\n",
    "        frame = cv2.resize(frame, (set_width, int(frame.shape[0] * ratio)))\n",
    "\n",
    "        # Convert BGR frame to RGB for YOLO inference\n",
    "        rgb_frame = cv2.cvtColor(frame, cv2.COLOR_BGR2RGB)\n",
    "\n",
    "        # Run YOLO inference on the frame\n",
    "        results = model(rgb_frame, imgsz=640, verbose=False)\n",
    "\n",
    "        # Draw segmentation masks and bounding boxes if results are available\n",
    "        if len(results) > 0 and hasattr(results[0], 'masks'):\n",
    "            masks = results[0].masks\n",
    "            object_count = len(masks.data)\n",
    "\n",
    "            # Create a combined mask initialized to zeros\n",
    "            height, width = frame.shape[:2]\n",
    "            combined_mask = np.zeros((height, width), dtype=np.uint8)\n",
    "\n",
    "            for i in range(object_count):\n",
    "                mask_array = masks.data[i].cpu().numpy().astype(np.uint8) * 255\n",
    "\n",
    "                # Resize mask to match the frame if needed\n",
    "                if mask_array.shape[:2] != (height, width):\n",
    "                    mask_array = cv2.resize(mask_array, (width, height), interpolation=cv2.INTER_NEAREST)\n",
    "\n",
    "                # Combine masks\n",
    "                combined_mask = cv2.bitwise_or(combined_mask, mask_array)\n",
    "\n",
    "                # Draw the mask on the frame\n",
    "                frame[mask_array > 0] = [0, 255, 0]  # Example: green mask overlay\n",
    "\n",
    "                # Get bounding box and label information\n",
    "                if hasattr(masks, 'boxes'):\n",
    "                    for box in masks.boxes:\n",
    "                        # Extract bounding box coordinates\n",
    "                        x1, y1, x2, y2 = map(int, box.xyxy[0])\n",
    "\n",
    "                        # Draw rectangle\n",
    "                        cv2.rectangle(frame, (x1, y1), (x2, y2), (0, 255, 0), 2)\n",
    "\n",
    "                        # Get class ID and confidence\n",
    "                        class_id = int(box.cls[0]) if hasattr(box.cls, '__iter__') else int(box.cls)\n",
    "                        confidence = float(box.conf[0]) if hasattr(box.conf, '__iter__') else float(box.conf)\n",
    "\n",
    "                        # Get class name\n",
    "                        class_name = class_names[class_id] if class_id < len(class_names) else f\"ID {class_id}\"\n",
    "\n",
    "                        # Create label text\n",
    "                        label = f\"{class_name}: {confidence:.2f}\"\n",
    "                        cv2.putText(frame, label, (x1, y1 - 10), \n",
    "                                    cv2.FONT_HERSHEY_SIMPLEX, 0.5, (0, 255, 0), 2)\n",
    "\n",
    "        # Encode the frame as JPEG\n",
    "        _, buffer = cv2.imencode('.jpg', frame)\n",
    "        img_bytes = buffer.tobytes()\n",
    "\n",
    "        # Display the frame inline in the notebook\n",
    "        display(Image(data=img_bytes))\n",
    "        clear_output(wait=True)\n",
    "finally:\n",
    "    cap.release()\n"
   ]
  }
 ],
 "metadata": {
  "kernelspec": {
   "display_name": "Python 3 (ipykernel)",
   "language": "python",
   "name": "python3"
  },
  "language_info": {
   "codemirror_mode": {
    "name": "ipython",
    "version": 3
   },
   "file_extension": ".py",
   "mimetype": "text/x-python",
   "name": "python",
   "nbconvert_exporter": "python",
   "pygments_lexer": "ipython3",
   "version": "3.10.12"
  }
 },
 "nbformat": 4,
 "nbformat_minor": 5
}
