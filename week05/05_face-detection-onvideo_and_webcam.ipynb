{
 "cells": [
  {
   "cell_type": "code",
   "execution_count": 1,
   "id": "ed829912-468f-4284-9d59-36114b2a4fcc",
   "metadata": {},
   "outputs": [
    {
     "name": "stdout",
     "output_type": "stream",
     "text": [
      "Notebook cleaned.\n"
     ]
    }
   ],
   "source": [
    "import IPython\n",
    "import sys\n",
    "\n",
    "def clean_notebook():\n",
    "    IPython.display.clear_output(wait=True)\n",
    "    print(\"Notebook cleaned.\")\n",
    "!pip install facenet-pytorch\n",
    "# Clean up the notebook\n",
    "clean_notebook()\n"
   ]
  },
  {
   "cell_type": "markdown",
   "id": "cf616093-b95b-44c0-affc-9cc9ebbd0003",
   "metadata": {},
   "source": [
    "# Face detection from Webcam"
   ]
  },
  {
   "cell_type": "code",
   "execution_count": 2,
   "id": "5de3397b-b013-4b6c-a9c1-a9e746e70f63",
   "metadata": {},
   "outputs": [
    {
     "name": "stdout",
     "output_type": "stream",
     "text": [
      "Failed to grab frame.\n"
     ]
    },
    {
     "name": "stderr",
     "output_type": "stream",
     "text": [
      "[ WARN:0@2.984] global cap_v4l.cpp:999 open VIDEOIO(V4L2:/dev/video0): can't open camera by index\n",
      "[ERROR:0@2.984] global obsensor_uvc_stream_channel.cpp:158 getStreamChannelGroup Camera index out of range\n"
     ]
    }
   ],
   "source": [
    "import cv2\n",
    "import numpy as np\n",
    "import torch\n",
    "from facenet_pytorch import MTCNN\n",
    "\n",
    "# Initialize the MTCNN model for face detection\n",
    "mtcnn = MTCNN(keep_all=True, device=torch.device('cuda:0' if torch.cuda.is_available() else 'cpu'))\n",
    "\n",
    "# Our sketch generating function for the detected face\n",
    "def sketch(image):\n",
    "    # Convert image to grayscale\n",
    "    img_gray = cv2.cvtColor(image, cv2.COLOR_BGR2GRAY)\n",
    "    \n",
    "    # Clean up image using Gaussian Blur\n",
    "    img_gray_blur = cv2.GaussianBlur(img_gray, (5, 5), 0)\n",
    "    \n",
    "    # Extract edges\n",
    "    canny_edges = cv2.Canny(img_gray_blur, 10, 70)\n",
    "    \n",
    "    # Invert binarize the image\n",
    "    _, mask = cv2.threshold(canny_edges, 70, 255, cv2.THRESH_BINARY_INV)\n",
    "    return mask\n",
    "\n",
    "\n",
    "if not cap.isOpened():\n",
    "    print(\"Error: Could not access the webcam.\")\n",
    "    cap.release()\n",
    "    raise RuntimeError(\"Webcam initialization failed.\")\n",
    "\n",
    "while True:\n",
    "    # Capture frame-by-frame\n",
    "    ret, frame = cap.read()\n",
    "    if not ret:\n",
    "        print(\"Failed to grab frame.\")\n",
    "        break\n",
    "    \n",
    "    # Convert frame to RGB (MTCNN expects RGB images)\n",
    "    rgb_frame = cv2.cvtColor(frame, cv2.COLOR_BGR2RGB)\n",
    "    \n",
    "    # Detect faces using MTCNN\n",
    "    boxes, _ = mtcnn.detect(rgb_frame)\n",
    "    \n",
    "    if boxes is not None:\n",
    "        for box in boxes:\n",
    "            x1, y1, x2, y2 = map(int, box)\n",
    "            # Ensure the bounding box is within the frame\n",
    "            x1, y1 = max(0, x1), max(0, y1)\n",
    "            x2, y2 = min(frame.shape[1], x2), min(frame.shape[0], y2)\n",
    "            \n",
    "            # Extract the face region\n",
    "            face_region = frame[y1:y2, x1:x2]\n",
    "            \n",
    "            # Apply sketch effect to the face region\n",
    "            face_sketch = sketch(face_region)\n",
    "            \n",
    "            # Convert sketch to 3 channels to overlay on the original frame\n",
    "            face_sketch_color = cv2.cvtColor(face_sketch, cv2.COLOR_GRAY2BGR)\n",
    "            \n",
    "            # Replace the face region in the original frame with the sketch\n",
    "            frame[y1:y2, x1:x2] = cv2.resize(face_sketch_color, (x2 - x1, y2 - y1))\n",
    "    \n",
    "    # Display the frame with face sketches\n",
    "    cv2.imshow('Live Sketch with Face Detection', frame)\n",
    "    \n",
    "    # Break loop on pressing 'Enter'\n",
    "    if cv2.waitKey(1) == 13:  # 13 is the Enter Key\n",
    "        break\n",
    "\n",
    "# Release camera and close windows\n",
    "cap.release()\n",
    "cv2.destroyAllWindows()"
   ]
  },
  {
   "cell_type": "code",
   "execution_count": null,
   "id": "1116e423-f935-42ab-a47d-06012ca62628",
   "metadata": {},
   "outputs": [],
   "source": []
  }
 ],
 "metadata": {
  "kernelspec": {
   "display_name": "Python 3 (ipykernel)",
   "language": "python",
   "name": "python3"
  },
  "language_info": {
   "codemirror_mode": {
    "name": "ipython",
    "version": 3
   },
   "file_extension": ".py",
   "mimetype": "text/x-python",
   "name": "python",
   "nbconvert_exporter": "python",
   "pygments_lexer": "ipython3",
   "version": "3.10.12"
  }
 },
 "nbformat": 4,
 "nbformat_minor": 5
}
