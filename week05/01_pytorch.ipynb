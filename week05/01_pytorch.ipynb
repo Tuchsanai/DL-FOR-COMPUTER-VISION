{
  "cells": [
    {
      "cell_type": "markdown",
      "metadata": {
        "id": "aeG__6p8FZHC"
      },
      "source": [
        "# PyTorch Workflow\n",
        "\n",
        "Let's explore a an example PyTorch end-to-end workflow.\n",
        "\n"
      ]
    },
    {
      "cell_type": "code",
      "execution_count": 1,
      "metadata": {
        "colab": {
          "base_uri": "https://localhost:8080/",
          "height": 35
        },
        "id": "OJN3I__OGWOe",
        "outputId": "1e270c8b-bbb2-4901-b1c7-bcf3e0f1e9f5"
      },
      "outputs": [
        {
          "data": {
            "text/plain": [
              "'2.1.1'"
            ]
          },
          "execution_count": 1,
          "metadata": {},
          "output_type": "execute_result"
        }
      ],
      "source": [
        "import torch\n",
        "from torch import nn # nn contains all of PyTorch's building blocks for neural networks \n",
        "import numpy as np\n",
        "import matplotlib.pyplot as plt\n",
        "\n",
        "# Check PyTorch version\n",
        "torch.__version__"
      ]
    },
    {
      "cell_type": "code",
      "execution_count": 2,
      "metadata": {},
      "outputs": [
        {
          "data": {
            "text/plain": [
              "'mps'"
            ]
          },
          "execution_count": 2,
          "metadata": {},
          "output_type": "execute_result"
        }
      ],
      "source": [
        "device = \"mps\" if torch.backends.mps.is_built() \\\n",
        "    else \"gpu\" if torch.cuda.is_available() else \"cpu\"\n",
        "device"
      ]
    },
    {
      "cell_type": "code",
      "execution_count": 3,
      "metadata": {},
      "outputs": [
        {
          "data": {
            "text/plain": [
              "tensor([1., 1., 1.], requires_grad=True)"
            ]
          },
          "execution_count": 3,
          "metadata": {},
          "output_type": "execute_result"
        }
      ],
      "source": [
        "\n",
        "\n",
        "# define variable\n",
        "var = torch.ones(3, requires_grad = True)\n",
        "var"
      ]
    },
    {
      "cell_type": "markdown",
      "metadata": {},
      "source": [
        "## y = x^3+2x"
      ]
    },
    {
      "cell_type": "code",
      "execution_count": 4,
      "metadata": {},
      "outputs": [
        {
          "data": {
            "text/plain": [
              "tensor([135.], grad_fn=<AddBackward0>)"
            ]
          },
          "execution_count": 4,
          "metadata": {},
          "output_type": "execute_result"
        }
      ],
      "source": [
        "import numpy as np\n",
        "# lets make basic backward propagation\n",
        "# we have an equation that is y = x^3+2x\n",
        "array = np.array([5.0], dtype=np.float32)\n",
        "\n",
        "x = torch.tensor(array, requires_grad=True)\n",
        "\n",
        "y = x**3 + 2*x\n",
        "y"
      ]
    },
    {
      "cell_type": "markdown",
      "metadata": {},
      "source": [
        "# Hint grad(y) = 3x^2+2\n",
        "\n",
        "grad(y,x=5) = 3*5^2+2 = 77"
      ]
    },
    {
      "cell_type": "code",
      "execution_count": 5,
      "metadata": {},
      "outputs": [
        {
          "name": "stdout",
          "output_type": "stream",
          "text": [
            "gradients:  tensor([77.])\n",
            "real gradient 77.0\n"
          ]
        }
      ],
      "source": [
        "y.backward() # calculates gradients\n",
        "\n",
        "# As I defined, variables accumulates gradients. In this part there is only one variable x.\n",
        "# Therefore variable x should be have gradients\n",
        "# Lets look at gradients with x.grad\n",
        "print(\"gradients: \",x.grad)\n",
        "print(\"real gradient\",3*array[0]**2+2)\n"
      ]
    },
    {
      "cell_type": "markdown",
      "metadata": {},
      "source": [
        "In order to get familiar with the concept of a computation graph, we will create one for the following function:\n",
        "\n",
        "$$y = \\frac{1}{|x|}\\sum_i \\left[(x_i + 2)^2 + 3\\right]$$\n",
        "\n",
        "You could imagine that $x$ are our parameters, and we want to optimize (either maximize or minimize) the output $y$. For this, we want to obtain the gradients $\\partial y / \\partial \\mathbf{x}$. For our example, we'll use $\\mathbf{x}=[0,1,2]$ as our input."
      ]
    },
    {
      "cell_type": "code",
      "execution_count": 6,
      "metadata": {},
      "outputs": [
        {
          "name": "stdout",
          "output_type": "stream",
          "text": [
            "X tensor([0., 1., 2.], requires_grad=True)\n"
          ]
        }
      ],
      "source": [
        "x = torch.arange(3, dtype=torch.float32, requires_grad=True) # Only float tensors can have gradients\n",
        "print(\"X\", x)"
      ]
    },
    {
      "cell_type": "code",
      "execution_count": 7,
      "metadata": {},
      "outputs": [
        {
          "name": "stdout",
          "output_type": "stream",
          "text": [
            "Y tensor(12.6667, grad_fn=<MeanBackward0>)\n"
          ]
        }
      ],
      "source": [
        "a = x + 2\n",
        "b = a ** 2\n",
        "c = b + 3\n",
        "y = c.mean()\n",
        "print(\"Y\", y)"
      ]
    },
    {
      "cell_type": "code",
      "execution_count": 8,
      "metadata": {},
      "outputs": [
        {
          "name": "stdout",
          "output_type": "stream",
          "text": [
            "tensor([2., 3., 4.], grad_fn=<AddBackward0>)\n",
            "tensor([ 4.,  9., 16.], grad_fn=<PowBackward0>)\n",
            "tensor([ 7., 12., 19.], grad_fn=<AddBackward0>)\n",
            "tensor(12.6667, grad_fn=<MeanBackward0>)\n"
          ]
        }
      ],
      "source": [
        "print(a)\n",
        "print(b)\n",
        "print(c)\n",
        "print(y)"
      ]
    },
    {
      "cell_type": "markdown",
      "metadata": {},
      "source": [
        "Using the statements above, we have created a computation graph that looks similar to the figure below:\n",
        "\n",
        "<center style=\"width: 100%\"><img src=\"https://uvadlc-notebooks.readthedocs.io/en/latest/_images/pytorch_computation_graph.svg\" width=\"200px\"></center>\n",
        "\n",
        "We calculate $a$ based on the inputs $x$ and the constant $2$, $b$ is $a$ squared, and so on. The visualization is an abstraction of the dependencies between inputs and outputs of the operations we have applied.\n",
        "Each node of the computation graph has automatically defined a function for calculating the gradients with respect to its inputs, `grad_fn`. You can see this when we printed the output tensor $y$. This is why the computation graph is usually visualized in the reverse direction (arrows point from the result to the inputs). We can perform backpropagation on the computation graph by calling the function `backward()` on the last output, which effectively calculates the gradients for each tensor that has the property `requires_grad=True`:"
      ]
    },
    {
      "cell_type": "code",
      "execution_count": 22,
      "metadata": {},
      "outputs": [],
      "source": [
        "y.backward()"
      ]
    },
    {
      "cell_type": "markdown",
      "metadata": {},
      "source": [
        "x.grad will now contain the gradient  ∂𝑦/∂x , and this gradient indicates how a change in  𝐱  will affect output  𝑦  given the current input  𝐱=[0,1,2] :"
      ]
    },
    {
      "cell_type": "code",
      "execution_count": 23,
      "metadata": {},
      "outputs": [
        {
          "name": "stdout",
          "output_type": "stream",
          "text": [
            "tensor([1.3333, 2.0000, 2.6667])\n"
          ]
        }
      ],
      "source": [
        "print(x.grad)"
      ]
    },
    {
      "cell_type": "markdown",
      "metadata": {},
      "source": [
        "We can also verify these gradients by hand. We will calculate the gradients using the chain rule, in the same way as PyTorch did it:\n",
        "\n",
        "$$\\frac{\\partial y}{\\partial x_i} = \\frac{\\partial y}{\\partial c_i}\\frac{\\partial c_i}{\\partial b_i}\\frac{\\partial b_i}{\\partial a_i}\\frac{\\partial a_i}{\\partial x_i}$$\n",
        "\n",
        "Note that we have simplified this equation to index notation, and by using the fact that all operation besides the mean do not combine the elements in the tensor. The partial derivatives are:\n",
        "\n",
        "$$\n",
        "\\frac{\\partial a_i}{\\partial x_i} = 1,\\hspace{1cm}\n",
        "\\frac{\\partial b_i}{\\partial a_i} = 2\\cdot a_i\\hspace{1cm}\n",
        "\\frac{\\partial c_i}{\\partial b_i} = 1\\hspace{1cm}\n",
        "\\frac{\\partial y}{\\partial c_i} = \\frac{1}{3}\n",
        "$$\n",
        "\n",
        "Hence, with the input being $\\mathbf{x}=[0,1,2]$, our gradients are $\\partial y/\\partial \\mathbf{x}=[4/3,2,8/3]$. The previous code cell should have printed the same result."
      ]
    },
    {
      "cell_type": "markdown",
      "metadata": {},
      "source": [
        "# Problem : Linear Regression"
      ]
    },
    {
      "cell_type": "markdown",
      "metadata": {
        "id": "bg1IBDfEG207"
      },
      "source": [
        "##### 1. Data (preparing and loading)\n",
        "\n"
      ]
    },
    {
      "cell_type": "code",
      "execution_count": 9,
      "metadata": {
        "colab": {
          "base_uri": "https://localhost:8080/"
        },
        "id": "5hCumNpHHCTU",
        "outputId": "ca51def4-8b84-4b2a-80f8-2da542907aed"
      },
      "outputs": [
        {
          "data": {
            "text/plain": [
              "(tensor([[0.0000],\n",
              "         [0.0200],\n",
              "         [0.0400],\n",
              "         [0.0600],\n",
              "         [0.0800],\n",
              "         [0.1000],\n",
              "         [0.1200],\n",
              "         [0.1400],\n",
              "         [0.1600],\n",
              "         [0.1800]]),\n",
              " tensor([[0.3000],\n",
              "         [0.3140],\n",
              "         [0.3280],\n",
              "         [0.3420],\n",
              "         [0.3560],\n",
              "         [0.3700],\n",
              "         [0.3840],\n",
              "         [0.3980],\n",
              "         [0.4120],\n",
              "         [0.4260]]))"
            ]
          },
          "execution_count": 9,
          "metadata": {},
          "output_type": "execute_result"
        }
      ],
      "source": [
        "# Create *known* parameters\n",
        "weight = 0.7\n",
        "bias = 0.3\n",
        "\n",
        "X = torch.arange(0, 1, 0.02).unsqueeze(dim=1)\n",
        "y = weight * X + bias \n",
        "\n",
        "X[:10], y[:10]\n",
        "\n",
        "# Q: create qua"
      ]
    },
    {
      "cell_type": "code",
      "execution_count": 10,
      "metadata": {
        "colab": {
          "base_uri": "https://localhost:8080/"
        },
        "id": "lrPJV_XkJgRT",
        "outputId": "a7c152d0-59d6-455f-c61d-4445f1311014"
      },
      "outputs": [
        {
          "data": {
            "text/plain": [
              "(50, 50)"
            ]
          },
          "execution_count": 10,
          "metadata": {},
          "output_type": "execute_result"
        }
      ],
      "source": [
        "len(X), len(y)"
      ]
    },
    {
      "cell_type": "markdown",
      "metadata": {
        "id": "5GTAEnvLJlq6"
      },
      "source": [
        "##### 2. Splitting data into training and test sets (one of the most important concepts in machine learning in general)\n",
        "\n",
        "##### Let's create a training and test set with our data."
      ]
    },
    {
      "cell_type": "code",
      "execution_count": 11,
      "metadata": {
        "colab": {
          "base_uri": "https://localhost:8080/"
        },
        "id": "vpMm7mp_KtNH",
        "outputId": "ff199d0c-6974-47f7-8ba7-e51b7df4c6b6"
      },
      "outputs": [
        {
          "data": {
            "text/plain": [
              "(40, 40, 10, 10)"
            ]
          },
          "execution_count": 11,
          "metadata": {},
          "output_type": "execute_result"
        }
      ],
      "source": [
        "# Create a train/test split\n",
        "train_split = int(0.8 * len(X))\n",
        "X_train, y_train = X[:train_split], y[:train_split]\n",
        "X_test, y_test = X[train_split:], y[train_split:] \n",
        "\n",
        "len(X_train), len(y_train), len(X_test), len(y_test)"
      ]
    },
    {
      "cell_type": "code",
      "execution_count": 12,
      "metadata": {},
      "outputs": [],
      "source": [
        "def plot_predictions(train_data=X_train,\n",
        "                     train_labels=y_train,\n",
        "                     test_data=X_test,\n",
        "                     test_labels=y_test,\n",
        "                     predictions=None):\n",
        "  \"\"\"\n",
        "  Plots training data, test data and compares predictions.\n",
        "  \"\"\"\n",
        "  plt.figure(figsize=(10, 7))\n",
        "\n",
        "  # Plot training data in blue\n",
        "  plt.scatter(train_data, train_labels, c=\"b\", s=4, label=\"Training data\")\n",
        "\n",
        "  # Plot test data in green\n",
        "  plt.scatter(test_data, test_labels, c=\"g\", s=4, label=\"Testing data\")\n",
        "\n",
        "  # Are there predictions?\n",
        "  if predictions is not None:\n",
        "    # Plot the predictions if they exist\n",
        "    plt.scatter(test_data, predictions, c=\"r\", s=4, label=\"Predictions\")\n",
        "  \n",
        "  # Show the legend\n",
        "  plt.legend(prop={\"size\": 14});"
      ]
    },
    {
      "cell_type": "markdown",
      "metadata": {},
      "source": [
        "# Solution Method 1"
      ]
    },
    {
      "cell_type": "code",
      "execution_count": 13,
      "metadata": {},
      "outputs": [
        {
          "name": "stdout",
          "output_type": "stream",
          "text": [
            "Progress: 0 Loss: 0.4899999797344208\n",
            "Progress: 0 Loss: 0.47886404395103455\n",
            "Progress: 0 Loss: 0.4680596590042114\n",
            "Progress: 0 Loss: 0.45755431056022644\n",
            "Progress: 0 Loss: 0.4473169445991516\n",
            "Progress: 0 Loss: 0.43731966614723206\n",
            "Progress: 0 Loss: 0.42753636837005615\n",
            "Progress: 0 Loss: 0.4179431200027466\n",
            "Progress: 0 Loss: 0.4085177183151245\n",
            "Progress: 0 Loss: 0.3992401659488678\n",
            "Progress: 0 Loss: 0.3900919556617737\n",
            "Progress: 0 Loss: 0.38105669617652893\n",
            "Progress: 0 Loss: 0.37211886048316956\n",
            "Progress: 0 Loss: 0.36326539516448975\n",
            "Progress: 0 Loss: 0.3544841706752777\n",
            "Progress: 0 Loss: 0.34576481580734253\n",
            "Progress: 0 Loss: 0.33709827065467834\n",
            "Progress: 0 Loss: 0.3284766376018524\n",
            "Progress: 0 Loss: 0.3198937475681305\n",
            "Progress: 0 Loss: 0.3113446831703186\n",
            "Progress: 0 Loss: 0.30282530188560486\n",
            "Progress: 0 Loss: 0.2943333089351654\n",
            "Progress: 0 Loss: 0.28586703538894653\n",
            "Progress: 0 Loss: 0.27742621302604675\n",
            "Progress: 0 Loss: 0.26901161670684814\n",
            "Progress: 0 Loss: 0.2606249451637268\n",
            "Progress: 0 Loss: 0.25226891040802\n",
            "Progress: 0 Loss: 0.24394716322422028\n",
            "Progress: 0 Loss: 0.23566393554210663\n",
            "Progress: 0 Loss: 0.22742494940757751\n",
            "Progress: 0 Loss: 0.21923582255840302\n",
            "Progress: 0 Loss: 0.21110351383686066\n",
            "Progress: 0 Loss: 0.2030346840620041\n",
            "Progress: 0 Loss: 0.19503769278526306\n",
            "Progress: 0 Loss: 0.18712028861045837\n",
            "Progress: 0 Loss: 0.17929121851921082\n",
            "Progress: 0 Loss: 0.1715591847896576\n",
            "Progress: 0 Loss: 0.16393311321735382\n",
            "Progress: 0 Loss: 0.15642237663269043\n",
            "Progress: 0 Loss: 0.14903588593006134\n",
            "Progress: 10 Loss: 0.0002555930404923856\n",
            "Progress: 10 Loss: 0.00022460993204731494\n",
            "Progress: 10 Loss: 0.0001961802481673658\n",
            "Progress: 10 Loss: 0.00017017080972436816\n",
            "Progress: 10 Loss: 0.0001464564265916124\n",
            "Progress: 10 Loss: 0.000124920072266832\n",
            "Progress: 10 Loss: 0.00010545085388002917\n",
            "Progress: 10 Loss: 8.794830500846729e-05\n",
            "Progress: 10 Loss: 7.231401832541451e-05\n",
            "Progress: 10 Loss: 5.845712803420611e-05\n",
            "Progress: 10 Loss: 4.6290217142086476e-05\n",
            "Progress: 10 Loss: 3.572992864064872e-05\n",
            "Progress: 10 Loss: 2.6697041903389618e-05\n",
            "Progress: 10 Loss: 1.911360777739901e-05\n",
            "Progress: 10 Loss: 1.2905135918117594e-05\n",
            "Progress: 10 Loss: 7.999617992027197e-06\n",
            "Progress: 10 Loss: 4.3252571231278125e-06\n",
            "Progress: 10 Loss: 1.8136206563212909e-06\n",
            "Progress: 10 Loss: 3.9595082057530817e-07\n",
            "Progress: 10 Loss: 5.235975208961463e-09\n",
            "Progress: 10 Loss: 5.74823388888035e-07\n",
            "Progress: 10 Loss: 2.038866568909725e-06\n",
            "Progress: 10 Loss: 4.3322015699232e-06\n",
            "Progress: 10 Loss: 7.3899627750506625e-06\n",
            "Progress: 10 Loss: 1.1146881661261432e-05\n",
            "Progress: 10 Loss: 1.5540874301223084e-05\n",
            "Progress: 10 Loss: 2.0505896827671677e-05\n",
            "Progress: 10 Loss: 2.5980945792980492e-05\n",
            "Progress: 10 Loss: 3.190278948750347e-05\n",
            "Progress: 10 Loss: 3.820920392172411e-05\n",
            "Progress: 10 Loss: 4.48386199423112e-05\n",
            "Progress: 10 Loss: 5.1731949497479945e-05\n",
            "Progress: 10 Loss: 5.8828674809774384e-05\n",
            "Progress: 10 Loss: 6.607289833482355e-05\n",
            "Progress: 10 Loss: 7.340430602198467e-05\n",
            "Progress: 10 Loss: 8.077170059550554e-05\n",
            "Progress: 10 Loss: 8.811943553155288e-05\n",
            "Progress: 10 Loss: 9.53942071646452e-05\n",
            "Progress: 10 Loss: 0.00010255266533931717\n",
            "Progress: 10 Loss: 0.00010954546451102942\n",
            "Progress: 20 Loss: 0.00012350513134151697\n",
            "Progress: 20 Loss: 0.00010857628512894735\n",
            "Progress: 20 Loss: 9.48756278376095e-05\n",
            "Progress: 20 Loss: 8.233806147472933e-05\n",
            "Progress: 20 Loss: 7.090377039276063e-05\n",
            "Progress: 20 Loss: 6.051612217561342e-05\n",
            "Progress: 20 Loss: 5.112284634378739e-05\n",
            "Progress: 20 Loss: 4.267420808901079e-05\n",
            "Progress: 20 Loss: 3.512469629640691e-05\n",
            "Progress: 20 Loss: 2.8429196390789002e-05\n",
            "Progress: 20 Loss: 2.254620812891517e-05\n",
            "Progress: 20 Loss: 1.74356628122041e-05\n",
            "Progress: 20 Loss: 1.305933346884558e-05\n",
            "Progress: 20 Loss: 9.380284609505907e-06\n",
            "Progress: 20 Loss: 6.362547082972014e-06\n",
            "Progress: 20 Loss: 3.971338173869299e-06\n",
            "Progress: 20 Loss: 2.1723919871874386e-06\n",
            "Progress: 20 Loss: 9.326043937107897e-07\n",
            "Progress: 20 Loss: 2.1942938133179268e-07\n",
            "Progress: 20 Loss: 3.240216983613209e-10\n",
            "Progress: 20 Loss: 2.434506995996344e-07\n",
            "Progress: 20 Loss: 9.172418344860489e-07\n",
            "Progress: 20 Loss: 1.990138571272837e-06\n",
            "Progress: 20 Loss: 3.431802042541676e-06\n",
            "Progress: 20 Loss: 5.210079507378396e-06\n",
            "Progress: 20 Loss: 7.295639079529792e-06\n",
            "Progress: 20 Loss: 9.656112524680793e-06\n",
            "Progress: 20 Loss: 1.226366566697834e-05\n",
            "Progress: 20 Loss: 1.508605510025518e-05\n",
            "Progress: 20 Loss: 1.8094853658112697e-05\n",
            "Progress: 20 Loss: 2.1259813365759328e-05\n",
            "Progress: 20 Loss: 2.4553735784138553e-05\n",
            "Progress: 20 Loss: 2.7945347028435208e-05\n",
            "Progress: 20 Loss: 3.1409814255312085e-05\n",
            "Progress: 20 Loss: 3.4917287848657e-05\n",
            "Progress: 20 Loss: 3.84438899345696e-05\n",
            "Progress: 20 Loss: 4.196154623059556e-05\n",
            "Progress: 20 Loss: 4.5447337470250204e-05\n",
            "Progress: 20 Loss: 4.8876983782975e-05\n",
            "Progress: 20 Loss: 5.2228719141567126e-05\n",
            "Progress: 30 Loss: 5.922983473283239e-05\n",
            "Progress: 30 Loss: 5.207032154430635e-05\n",
            "Progress: 30 Loss: 4.549958975985646e-05\n",
            "Progress: 30 Loss: 3.948713856516406e-05\n",
            "Progress: 30 Loss: 3.4003380278591067e-05\n",
            "Progress: 30 Loss: 2.9021783120697364e-05\n",
            "Progress: 30 Loss: 2.4517124984413385e-05\n",
            "Progress: 30 Loss: 2.0465429770410992e-05\n",
            "Progress: 30 Loss: 1.6844678611960262e-05\n",
            "Progress: 30 Loss: 1.3633733033202589e-05\n",
            "Progress: 30 Loss: 1.0812517757585738e-05\n",
            "Progress: 30 Loss: 8.36152412375668e-06\n",
            "Progress: 30 Loss: 6.262809620238841e-06\n",
            "Progress: 30 Loss: 4.498520866036415e-06\n",
            "Progress: 30 Loss: 3.0512185276165837e-06\n",
            "Progress: 30 Loss: 1.9044726968786563e-06\n",
            "Progress: 30 Loss: 1.041767063725274e-06\n",
            "Progress: 30 Loss: 4.47245440682309e-07\n",
            "Progress: 30 Loss: 1.0521490878545592e-07\n",
            "Progress: 30 Loss: 1.566746732351021e-10\n",
            "Progress: 30 Loss: 1.1676806366267556e-07\n",
            "Progress: 30 Loss: 4.399410045152763e-07\n",
            "Progress: 30 Loss: 9.54605866354541e-07\n",
            "Progress: 30 Loss: 1.6459102880617138e-06\n",
            "Progress: 30 Loss: 2.498660478522652e-06\n",
            "Progress: 30 Loss: 3.4988188417628407e-06\n",
            "Progress: 30 Loss: 4.630957846529782e-06\n",
            "Progress: 30 Loss: 5.881564902665559e-06\n",
            "Progress: 30 Loss: 7.235230441438034e-06\n",
            "Progress: 30 Loss: 8.678326594235841e-06\n",
            "Progress: 30 Loss: 1.0196524272032548e-05\n",
            "Progress: 30 Loss: 1.1776003702834714e-05\n",
            "Progress: 30 Loss: 1.3402315744315274e-05\n",
            "Progress: 30 Loss: 1.5063837963680271e-05\n",
            "Progress: 30 Loss: 1.674623490544036e-05\n",
            "Progress: 30 Loss: 1.8437225662637502e-05\n",
            "Progress: 30 Loss: 2.012387994909659e-05\n",
            "Progress: 30 Loss: 2.1795764041598886e-05\n",
            "Progress: 30 Loss: 2.344076165172737e-05\n",
            "Progress: 30 Loss: 2.5047658709809184e-05\n",
            "Progress: 40 Loss: 2.840504930645693e-05\n",
            "Progress: 40 Loss: 2.4971648599603213e-05\n",
            "Progress: 40 Loss: 2.1820258552907035e-05\n",
            "Progress: 40 Loss: 1.893682019726839e-05\n",
            "Progress: 40 Loss: 1.6307178157148883e-05\n",
            "Progress: 40 Loss: 1.3918229342380073e-05\n",
            "Progress: 40 Loss: 1.1757601896533743e-05\n",
            "Progress: 40 Loss: 9.814561963139568e-06\n",
            "Progress: 40 Loss: 8.078371138253715e-06\n",
            "Progress: 40 Loss: 6.538449724757811e-06\n",
            "Progress: 40 Loss: 5.185619102121564e-06\n",
            "Progress: 40 Loss: 4.010155407740967e-06\n",
            "Progress: 40 Loss: 3.0036164844204905e-06\n",
            "Progress: 40 Loss: 2.1574828679149505e-06\n",
            "Progress: 40 Loss: 1.463316721128649e-06\n",
            "Progress: 40 Loss: 9.133641469816212e-07\n",
            "Progress: 40 Loss: 4.996390430278552e-07\n",
            "Progress: 40 Loss: 2.1448762765885476e-07\n",
            "Progress: 40 Loss: 5.046758033699916e-08\n",
            "Progress: 40 Loss: 7.469580509678053e-11\n",
            "Progress: 40 Loss: 5.5993965020206815e-08\n",
            "Progress: 40 Loss: 2.109687926576953e-07\n",
            "Progress: 40 Loss: 4.576694436764228e-07\n",
            "Progress: 40 Loss: 7.891615041444311e-07\n",
            "Progress: 40 Loss: 1.1981046554865316e-06\n",
            "Progress: 40 Loss: 1.6778749341028742e-06\n",
            "Progress: 40 Loss: 2.220801434305031e-06\n",
            "Progress: 40 Loss: 2.820453119056765e-06\n",
            "Progress: 40 Loss: 3.4696690818236675e-06\n",
            "Progress: 40 Loss: 4.161716788075864e-06\n",
            "Progress: 40 Loss: 4.8897268243308645e-06\n",
            "Progress: 40 Loss: 5.647453690471593e-06\n",
            "Progress: 40 Loss: 6.4273604039044585e-06\n",
            "Progress: 40 Loss: 7.22433242117404e-06\n",
            "Progress: 40 Loss: 8.031005563680083e-06\n",
            "Progress: 40 Loss: 8.842038369039074e-06\n",
            "Progress: 40 Loss: 9.651296750234906e-06\n",
            "Progress: 40 Loss: 1.045238968799822e-05\n",
            "Progress: 40 Loss: 1.1241007996432018e-05\n",
            "Progress: 40 Loss: 1.2012399565719534e-05\n",
            "Progress: 50 Loss: 1.3623611266666558e-05\n",
            "Progress: 50 Loss: 1.197689380205702e-05\n",
            "Progress: 50 Loss: 1.0465690138516948e-05\n",
            "Progress: 50 Loss: 9.082748874789104e-06\n",
            "Progress: 50 Loss: 7.821417966624722e-06\n",
            "Progress: 50 Loss: 6.675569238723256e-06\n",
            "Progress: 50 Loss: 5.63938283448806e-06\n",
            "Progress: 50 Loss: 4.7073326641111635e-06\n",
            "Progress: 50 Loss: 3.8745347410440445e-06\n",
            "Progress: 50 Loss: 3.1359238619188545e-06\n",
            "Progress: 50 Loss: 2.4870851120795123e-06\n",
            "Progress: 50 Loss: 1.923355966937379e-06\n",
            "Progress: 50 Loss: 1.4406210766537697e-06\n",
            "Progress: 50 Loss: 1.0347825991630089e-06\n",
            "Progress: 50 Loss: 7.018138035164156e-07\n",
            "Progress: 50 Loss: 4.3804539018310606e-07\n",
            "Progress: 50 Loss: 2.39642503174764e-07\n",
            "Progress: 50 Loss: 1.0286939300385711e-07\n",
            "Progress: 50 Loss: 2.4201440851356892e-08\n",
            "Progress: 50 Loss: 3.552713678800501e-11\n",
            "Progress: 50 Loss: 2.6847860823409064e-08\n",
            "Progress: 50 Loss: 1.0119396165464423e-07\n",
            "Progress: 50 Loss: 2.1954107864985417e-07\n",
            "Progress: 50 Loss: 3.7859254575778323e-07\n",
            "Progress: 50 Loss: 5.747330078520463e-07\n",
            "Progress: 50 Loss: 8.04912417606829e-07\n",
            "Progress: 50 Loss: 1.065136302713654e-06\n",
            "Progress: 50 Loss: 1.3528598401535419e-06\n",
            "Progress: 50 Loss: 1.664006390456052e-06\n",
            "Progress: 50 Loss: 1.996197397602373e-06\n",
            "Progress: 50 Loss: 2.3452537334378576e-06\n",
            "Progress: 50 Loss: 2.708668944251258e-06\n",
            "Progress: 50 Loss: 3.082742523474735e-06\n",
            "Progress: 50 Loss: 3.4650074667297304e-06\n",
            "Progress: 50 Loss: 3.8520411180797964e-06\n",
            "Progress: 50 Loss: 4.241128863213817e-06\n",
            "Progress: 50 Loss: 4.629162503988482e-06\n",
            "Progress: 50 Loss: 5.013338068238227e-06\n",
            "Progress: 50 Loss: 5.391491413320182e-06\n",
            "Progress: 50 Loss: 5.761339707532898e-06\n",
            "Progress: 60 Loss: 6.5338781496393494e-06\n",
            "Progress: 60 Loss: 5.744184363720706e-06\n",
            "Progress: 60 Loss: 5.019345280743437e-06\n",
            "Progress: 60 Loss: 4.356178578746039e-06\n",
            "Progress: 60 Loss: 3.7511683785851346e-06\n",
            "Progress: 60 Loss: 3.2016002933232812e-06\n",
            "Progress: 60 Loss: 2.7045505248679547e-06\n",
            "Progress: 60 Loss: 2.257547976114438e-06\n",
            "Progress: 60 Loss: 1.858200334936555e-06\n",
            "Progress: 60 Loss: 1.5039724985399516e-06\n",
            "Progress: 60 Loss: 1.192760805679427e-06\n",
            "Progress: 60 Loss: 9.223866754837218e-07\n",
            "Progress: 60 Loss: 6.908714453857101e-07\n",
            "Progress: 60 Loss: 4.961901822753134e-07\n",
            "Progress: 60 Loss: 3.3655314268798975e-07\n",
            "Progress: 60 Loss: 2.1003899064453435e-07\n",
            "Progress: 60 Loss: 1.1490175211292808e-07\n",
            "Progress: 60 Loss: 4.932259400902694e-08\n",
            "Progress: 60 Loss: 1.1600494786989657e-08\n",
            "Progress: 60 Loss: 1.7408297026122455e-11\n",
            "Progress: 60 Loss: 1.2879354471806437e-08\n",
            "Progress: 60 Loss: 4.8531546781305224e-08\n",
            "Progress: 60 Loss: 1.0529225846767076e-07\n",
            "Progress: 60 Loss: 1.8152201164411963e-07\n",
            "Progress: 60 Loss: 2.7562259674596135e-07\n",
            "Progress: 60 Loss: 3.8596300555582275e-07\n",
            "Progress: 60 Loss: 5.107384595248732e-07\n",
            "Progress: 60 Loss: 6.487296673185483e-07\n",
            "Progress: 60 Loss: 7.97975644672988e-07\n",
            "Progress: 60 Loss: 9.571699592925142e-07\n",
            "Progress: 60 Loss: 1.1247566362726502e-06\n",
            "Progress: 60 Loss: 1.2989170272703632e-06\n",
            "Progress: 60 Loss: 1.4782074231334263e-06\n",
            "Progress: 60 Loss: 1.6615468894087826e-06\n",
            "Progress: 60 Loss: 1.847166686275159e-06\n",
            "Progress: 60 Loss: 2.0337633941380773e-06\n",
            "Progress: 60 Loss: 2.219913085355074e-06\n",
            "Progress: 60 Loss: 2.4042215045483317e-06\n",
            "Progress: 60 Loss: 2.585709353297716e-06\n",
            "Progress: 60 Loss: 2.763089469226543e-06\n",
            "Progress: 70 Loss: 3.1339186534751207e-06\n",
            "Progress: 70 Loss: 2.75506999969366e-06\n",
            "Progress: 70 Loss: 2.4074572593235644e-06\n",
            "Progress: 70 Loss: 2.08930373446492e-06\n",
            "Progress: 70 Loss: 1.7992008451983565e-06\n",
            "Progress: 70 Loss: 1.5356423546109e-06\n",
            "Progress: 70 Loss: 1.2972193417226663e-06\n",
            "Progress: 70 Loss: 1.0828644008142874e-06\n",
            "Progress: 70 Loss: 8.912832072383026e-07\n",
            "Progress: 70 Loss: 7.213723165477859e-07\n",
            "Progress: 70 Loss: 5.721151410398306e-07\n",
            "Progress: 70 Loss: 4.4239556018510484e-07\n",
            "Progress: 70 Loss: 3.3138633170892717e-07\n",
            "Progress: 70 Loss: 2.3804038562502683e-07\n",
            "Progress: 70 Loss: 1.6143914649546787e-07\n",
            "Progress: 70 Loss: 1.0077725676183036e-07\n",
            "Progress: 70 Loss: 5.512291423315219e-08\n",
            "Progress: 70 Loss: 2.3648283331567654e-08\n",
            "Progress: 70 Loss: 5.560000460036463e-09\n",
            "Progress: 70 Loss: 8.185452315956354e-12\n",
            "Progress: 70 Loss: 6.180872702543638e-09\n",
            "Progress: 70 Loss: 2.3283064365386963e-08\n",
            "Progress: 70 Loss: 5.049436424542364e-08\n",
            "Progress: 70 Loss: 8.70855387802294e-08\n",
            "Progress: 70 Loss: 1.3219647598816664e-07\n",
            "Progress: 70 Loss: 1.85094691573795e-07\n",
            "Progress: 70 Loss: 2.449824023642577e-07\n",
            "Progress: 70 Loss: 3.111853175141732e-07\n",
            "Progress: 70 Loss: 3.827850036941527e-07\n",
            "Progress: 70 Loss: 4.5920302227386856e-07\n",
            "Progress: 70 Loss: 5.395020821197249e-07\n",
            "Progress: 70 Loss: 6.231585416571761e-07\n",
            "Progress: 70 Loss: 7.091230145306326e-07\n",
            "Progress: 70 Loss: 7.970174920046702e-07\n",
            "Progress: 70 Loss: 8.860015441314317e-07\n",
            "Progress: 70 Loss: 9.75450461737637e-07\n",
            "Progress: 70 Loss: 1.0647672752384096e-06\n",
            "Progress: 70 Loss: 1.1531265045050532e-06\n",
            "Progress: 70 Loss: 1.2402233551256359e-06\n",
            "Progress: 70 Loss: 1.3252708868094487e-06\n",
            "Progress: 80 Loss: 1.503022417637112e-06\n",
            "Progress: 80 Loss: 1.3212941212259466e-06\n",
            "Progress: 80 Loss: 1.1545990901140613e-06\n",
            "Progress: 80 Loss: 1.0020614809036488e-06\n",
            "Progress: 80 Loss: 8.628711611891049e-07\n",
            "Progress: 80 Loss: 7.36486072128173e-07\n",
            "Progress: 80 Loss: 6.221708304110507e-07\n",
            "Progress: 80 Loss: 5.193793413127423e-07\n",
            "Progress: 80 Loss: 4.274588150110503e-07\n",
            "Progress: 80 Loss: 3.459541062511562e-07\n",
            "Progress: 80 Loss: 2.7437232574811787e-07\n",
            "Progress: 80 Loss: 2.1217510948190466e-07\n",
            "Progress: 80 Loss: 1.5891055227257311e-07\n",
            "Progress: 80 Loss: 1.1413527545300894e-07\n",
            "Progress: 80 Loss: 7.741442686892697e-08\n",
            "Progress: 80 Loss: 4.832168087887112e-08\n",
            "Progress: 80 Loss: 2.641985830109661e-08\n",
            "Progress: 80 Loss: 1.1332431881783123e-08\n",
            "Progress: 80 Loss: 2.6705357925038697e-09\n",
            "Progress: 80 Loss: 4.106937012693379e-12\n",
            "Progress: 80 Loss: 2.9679227964152233e-09\n",
            "Progress: 80 Loss: 1.116805847800606e-08\n",
            "Progress: 80 Loss: 2.421998956947391e-08\n",
            "Progress: 80 Loss: 4.177295309659712e-08\n",
            "Progress: 80 Loss: 6.3388142734766e-08\n",
            "Progress: 80 Loss: 8.881784197001252e-08\n",
            "Progress: 80 Loss: 1.1746159600534156e-07\n",
            "Progress: 80 Loss: 1.4927196900771378e-07\n",
            "Progress: 80 Loss: 1.83559279776091e-07\n",
            "Progress: 80 Loss: 2.201559254899621e-07\n",
            "Progress: 80 Loss: 2.586805010196258e-07\n",
            "Progress: 80 Loss: 2.9887411301388056e-07\n",
            "Progress: 80 Loss: 3.400198806957633e-07\n",
            "Progress: 80 Loss: 3.82268893872606e-07\n",
            "Progress: 80 Loss: 4.248906861903379e-07\n",
            "Progress: 80 Loss: 4.6788733243374736e-07\n",
            "Progress: 80 Loss: 5.106533080834197e-07\n",
            "Progress: 80 Loss: 5.52893311578373e-07\n",
            "Progress: 80 Loss: 5.946952796875848e-07\n",
            "Progress: 80 Loss: 6.354521246976219e-07\n",
            "Progress: 90 Loss: 7.206131158454809e-07\n",
            "Progress: 90 Loss: 6.335055786621524e-07\n",
            "Progress: 90 Loss: 5.535582658922067e-07\n",
            "Progress: 90 Loss: 4.80446431083692e-07\n",
            "Progress: 90 Loss: 4.136981601732259e-07\n",
            "Progress: 90 Loss: 3.531075094542757e-07\n",
            "Progress: 90 Loss: 2.982878584134596e-07\n",
            "Progress: 90 Loss: 2.4898133688111557e-07\n",
            "Progress: 90 Loss: 2.049348211130564e-07\n",
            "Progress: 90 Loss: 1.6587580375926336e-07\n",
            "Progress: 90 Loss: 1.315471251928102e-07\n",
            "Progress: 90 Loss: 1.017255613078305e-07\n",
            "Progress: 90 Loss: 7.619206598974415e-08\n",
            "Progress: 90 Loss: 5.473177466797097e-08\n",
            "Progress: 90 Loss: 3.713399010507601e-08\n",
            "Progress: 90 Loss: 2.3174052898866648e-08\n",
            "Progress: 90 Loss: 1.2677222827051082e-08\n",
            "Progress: 90 Loss: 5.445045303531515e-09\n",
            "Progress: 90 Loss: 1.2832437334964197e-09\n",
            "Progress: 90 Loss: 1.7195134205394424e-12\n",
            "Progress: 90 Loss: 1.4145520310648863e-09\n",
            "Progress: 90 Loss: 5.339998665476742e-09\n",
            "Progress: 90 Loss: 1.158765883246815e-08\n",
            "Progress: 90 Loss: 2.0022653757223452e-08\n",
            "Progress: 90 Loss: 3.037490614588023e-08\n",
            "Progress: 90 Loss: 4.2556255408499055e-08\n",
            "Progress: 90 Loss: 5.6276405757671455e-08\n",
            "Progress: 90 Loss: 7.155927050916944e-08\n",
            "Progress: 90 Loss: 8.796723705017939e-08\n",
            "Progress: 90 Loss: 1.055632026236708e-07\n",
            "Progress: 90 Loss: 1.2404754556882835e-07\n",
            "Progress: 90 Loss: 1.432542973134332e-07\n",
            "Progress: 90 Loss: 1.6302364258535817e-07\n",
            "Progress: 90 Loss: 1.832529648027048e-07\n",
            "Progress: 90 Loss: 2.0369549247334362e-07\n",
            "Progress: 90 Loss: 2.242580308120523e-07\n",
            "Progress: 90 Loss: 2.448054203796346e-07\n",
            "Progress: 90 Loss: 2.6508587325224653e-07\n",
            "Progress: 90 Loss: 2.850265730103274e-07\n",
            "Progress: 90 Loss: 3.0463667144431383e-07\n",
            "w = 0.7012452483177185 b = 0.299412339925766\n"
          ]
        }
      ],
      "source": [
        "import torch\n",
        "from torch.autograd import Variable\n",
        "import torch.nn as nn\n",
        "\n",
        "# Assuming X_train and y_train are defined somewhere in your script\n",
        "\n",
        "w = torch.tensor([1.0], requires_grad=True)\n",
        "b = torch.tensor([1.0], requires_grad=True)\n",
        "\n",
        "def forward(x):\n",
        "    return x * w + b\n",
        "\n",
        "def loss_function(y_pred, y):\n",
        "    return (y_pred - y) ** 2\n",
        "\n",
        "# Using an optimizer (e.g., Stochastic Gradient Descent)\n",
        "optimizer = torch.optim.SGD([w, b], lr=0.01)\n",
        "\n",
        "# Training loop\n",
        "for epoch in range(100):\n",
        "    for x_val, y_val in zip(X_train, y_train):\n",
        "        optimizer.zero_grad()  # Zero the gradients\n",
        "        y_pred = forward(x_val)\n",
        "        loss = loss_function(y_pred, y_val)\n",
        "        loss.backward()\n",
        "        optimizer.step()  # Perform a single optimization step\n",
        "\n",
        "        if epoch % 10 == 0:\n",
        "            print('Progress:', epoch, 'Loss:', loss.item())\n",
        "\n",
        "print('w =', w.item(), 'b =', b.item())\n"
      ]
    },
    {
      "cell_type": "code",
      "execution_count": 14,
      "metadata": {},
      "outputs": [
        {
          "data": {
            "text/plain": [
              "tensor([[0.8600],\n",
              "        [0.8740],\n",
              "        [0.8880],\n",
              "        [0.9020],\n",
              "        [0.9160],\n",
              "        [0.9300],\n",
              "        [0.9440],\n",
              "        [0.9580],\n",
              "        [0.9720],\n",
              "        [0.9860]])"
            ]
          },
          "execution_count": 14,
          "metadata": {},
          "output_type": "execute_result"
        }
      ],
      "source": [
        "y_test"
      ]
    },
    {
      "cell_type": "code",
      "execution_count": 15,
      "metadata": {},
      "outputs": [
        {
          "data": {
            "text/plain": [
              "tensor([[0.8604],\n",
              "        [0.8744],\n",
              "        [0.8885],\n",
              "        [0.9025],\n",
              "        [0.9165],\n",
              "        [0.9305],\n",
              "        [0.9446],\n",
              "        [0.9586],\n",
              "        [0.9726],\n",
              "        [0.9866]], grad_fn=<AddBackward0>)"
            ]
          },
          "execution_count": 15,
          "metadata": {},
          "output_type": "execute_result"
        }
      ],
      "source": [
        "preds =forward(X_test)\n",
        "preds"
      ]
    },
    {
      "cell_type": "markdown",
      "metadata": {
        "id": "0z7q5QhLOv_q"
      },
      "source": [
        "## Solution Method 2\n"
      ]
    },
    {
      "cell_type": "markdown",
      "metadata": {},
      "source": [
        "#### nn.Module\n",
        "\n",
        "In PyTorch, a neural network is built up out of modules. Modules can contain other modules, and a neural network is considered to be a module itself as well. The basic template of a module is as follows:\n",
        "```\n",
        "from torch import nn\n",
        "\n",
        "class MyModule(nn.Module):\n",
        "    \n",
        "    def __init__(self):\n",
        "        super().__init__()\n",
        "        # Some init for my module\n",
        "        \n",
        "    def forward(self, x):\n",
        "        # Function for performing the calculation of the module.\n",
        "        pass\n",
        "```"
      ]
    },
    {
      "cell_type": "code",
      "execution_count": 22,
      "metadata": {
        "id": "qirhP4VUkOky"
      },
      "outputs": [],
      "source": [
        "from torch import nn\n",
        "\n",
        "# Create linear regression model class\n",
        "class LinearRegressionModel(nn.Module): # <- almost everything in PyTorch inherhits from nn.Module\n",
        "  def __init__(self):\n",
        "    super().__init__()\n",
        "    self.weights = nn.Parameter(torch.randn(1, # <- start with a random weight and try to adjust it to the ideal weight\n",
        "                                            requires_grad=True, # <- can this parameter be updated via gradient descent?\n",
        "                                            dtype=torch.float)) # <- PyTorch loves the datatype torch.float32\n",
        "    \n",
        "    self.bias = nn.Parameter(torch.randn(1, # <- start with a random bias and try to adjust it to the ideal bias\n",
        "                                         requires_grad=True, # <- can this parameter be updated via gradient descent?\n",
        "                                         dtype=torch.float)) # <- PyTorch loves the datatype torch.float32 \n",
        "    \n",
        "  # Forward method to define the computation in the model\n",
        "  def forward(self, x: torch.Tensor) -> torch.Tensor: # <- \"x\" is the input data\n",
        "    return self.weights * x + self.bias # this is the linear regression formula"
      ]
    },
    {
      "cell_type": "markdown",
      "metadata": {},
      "source": [
        "hint"
      ]
    },
    {
      "cell_type": "code",
      "execution_count": 23,
      "metadata": {},
      "outputs": [
        {
          "data": {
            "text/plain": [
              "tensor([0.0180, 0.0865])"
            ]
          },
          "execution_count": 23,
          "metadata": {},
          "output_type": "execute_result"
        }
      ],
      "source": [
        "Weights = torch.distributions.Uniform(0, 0.1).sample((2,))\n",
        "Weights"
      ]
    },
    {
      "cell_type": "code",
      "execution_count": 18,
      "metadata": {},
      "outputs": [],
      "source": [
        "from torch import nn\n",
        "\n",
        "# Create linear regression model class\n",
        "class LinearRegressionModel(nn.Module): # <- almost everything in PyTorch inherhits from nn.Module\n",
        "  def __init__(self):\n",
        "    super().__init__()\n",
        "   \n",
        "    weights = torch.distributions.Uniform(0, 0.1).sample((2,))\n",
        "        # make weights torch parameters\n",
        "    self.weights = nn.Parameter(weights)    \n",
        "    \n",
        "  # Forward method to define the computation in the model\n",
        "  def forward(self, x: torch.Tensor) :\n",
        "    w, b = self.weights\n",
        "    return x*w+b# this is the linear regression formula"
      ]
    },
    {
      "cell_type": "markdown",
      "metadata": {
        "id": "JH_vD6ICnRUO"
      },
      "source": [
        "### PyTorch model building essentials\n",
        "\n",
        "* torch.nn - contains all of the buildings for computational graphs (a neural network can be considered a computational graph)\n",
        "* torch.nn.Parameter - what parameters should our model try and learn, often a PyTorch layer from torch.nn will set these for us \n",
        "* torch.nn.Module - The base class for all neural network modules, if you subclass it, you should overwrite forward()\n",
        "* torch.optim - this where the optimizers in PyTorch live, they will help with gradient descent\n",
        "* def forward() - All nn.Module subclasses require you to overwrite forward(), this method defines what happens in the forward computation \n",
        "\n",
        "See more of these essential modules via the PyTorch cheatsheet - https://pytorch.org/tutorials/beginner/ptcheat.html "
      ]
    },
    {
      "cell_type": "code",
      "execution_count": 19,
      "metadata": {
        "colab": {
          "base_uri": "https://localhost:8080/"
        },
        "id": "0737rQGNtDxP",
        "outputId": "2a477df1-d234-4db1-c25d-f6eb734cbf86"
      },
      "outputs": [
        {
          "data": {
            "text/plain": [
              "[Parameter containing:\n",
              " tensor([0.0882, 0.0915], requires_grad=True)]"
            ]
          },
          "execution_count": 19,
          "metadata": {},
          "output_type": "execute_result"
        }
      ],
      "source": [
        "# Create a random seed\n",
        "torch.manual_seed(42)\n",
        "\n",
        "# Create an instance of the model (this is a subclass of nn.Module)\n",
        "model = LinearRegressionModel()\n",
        "\n",
        "# Check out the parameters\n",
        "list(model.parameters())"
      ]
    },
    {
      "cell_type": "code",
      "execution_count": 20,
      "metadata": {
        "colab": {
          "base_uri": "https://localhost:8080/"
        },
        "id": "hdzvifGftWYZ",
        "outputId": "983cdf2a-c582-4fbf-e8d8-9060bb32bb30"
      },
      "outputs": [
        {
          "data": {
            "text/plain": [
              "OrderedDict([('weights', tensor([0.0882, 0.0915]))])"
            ]
          },
          "execution_count": 20,
          "metadata": {},
          "output_type": "execute_result"
        }
      ],
      "source": [
        "# List named parameters\n",
        "model.state_dict()"
      ]
    },
    {
      "cell_type": "markdown",
      "metadata": {
        "id": "XlAsG4S-uJO5"
      },
      "source": [
        "### Making prediction using `torch.inference_mode()`\n",
        "\n"
      ]
    },
    {
      "cell_type": "code",
      "execution_count": 21,
      "metadata": {
        "colab": {
          "base_uri": "https://localhost:8080/"
        },
        "id": "j_nRrqGMwm0N",
        "outputId": "f9cbe561-5994-4f99-e4e2-96f70b06fbb8"
      },
      "outputs": [
        {
          "data": {
            "text/plain": [
              "tensor([[0.1621],\n",
              "        [0.1638],\n",
              "        [0.1656],\n",
              "        [0.1674],\n",
              "        [0.1691],\n",
              "        [0.1709],\n",
              "        [0.1727],\n",
              "        [0.1744],\n",
              "        [0.1762],\n",
              "        [0.1780]], grad_fn=<AddBackward0>)"
            ]
          },
          "execution_count": 21,
          "metadata": {},
          "output_type": "execute_result"
        }
      ],
      "source": [
        "y_preds = model( X_test) \n",
        "y_preds"
      ]
    },
    {
      "cell_type": "code",
      "execution_count": 22,
      "metadata": {},
      "outputs": [
        {
          "data": {
            "text/plain": [
              "tensor([[0.1621],\n",
              "        [0.1638],\n",
              "        [0.1656],\n",
              "        [0.1674],\n",
              "        [0.1691],\n",
              "        [0.1709],\n",
              "        [0.1727],\n",
              "        [0.1744],\n",
              "        [0.1762],\n",
              "        [0.1780]])"
            ]
          },
          "execution_count": 22,
          "metadata": {},
          "output_type": "execute_result"
        }
      ],
      "source": [
        " with torch.no_grad():\n",
        "   y_preds = model(X_test)\n",
        "\n",
        "y_preds"
      ]
    },
    {
      "cell_type": "markdown",
      "metadata": {
        "id": "HYHvIyDsxL65"
      },
      "source": [
        "See more on inference mode here - https://twitter.com/PyTorch/status/1437838231505096708?s=20&t=cnKavO9iTgwQ-rfri6u7PQ "
      ]
    },
    {
      "cell_type": "code",
      "execution_count": 30,
      "metadata": {
        "colab": {
          "base_uri": "https://localhost:8080/"
        },
        "id": "FVREWa_BvzI0",
        "outputId": "a89181a5-a12c-4f52-ef03-e01943da9561"
      },
      "outputs": [
        {
          "data": {
            "text/plain": [
              "tensor([[0.8600],\n",
              "        [0.8740],\n",
              "        [0.8880],\n",
              "        [0.9020],\n",
              "        [0.9160],\n",
              "        [0.9300],\n",
              "        [0.9440],\n",
              "        [0.9580],\n",
              "        [0.9720],\n",
              "        [0.9860]])"
            ]
          },
          "execution_count": 30,
          "metadata": {},
          "output_type": "execute_result"
        }
      ],
      "source": [
        "y_test"
      ]
    },
    {
      "cell_type": "code",
      "execution_count": 31,
      "metadata": {
        "colab": {
          "base_uri": "https://localhost:8080/",
          "height": 428
        },
        "id": "331WoqFewSnl",
        "outputId": "059f3ceb-bc54-42b4-88c5-433930e8a50d"
      },
      "outputs": [
        {
          "data": {
            "image/png": "[encoded data removed]",
            "text/plain": [
              "<Figure size 1000x700 with 1 Axes>"
            ]
          },
          "metadata": {},
          "output_type": "display_data"
        }
      ],
      "source": [
        "plot_predictions(predictions=y_preds)"
      ]
    },
    {
      "cell_type": "markdown",
      "metadata": {
        "id": "FC7cHOnqwWi8"
      },
      "source": [
        "\n",
        "\n",
        "* **Loss function:** A function to measure how wrong your model's predictions are to the ideal outputs, lower is better.\n",
        "* **Optimizer:** Takes into account the loss of a model and adjusts the model's parameters (e.g. weight & bias in our case) to improve the loss function - https://pytorch.org/docs/stable/optim.html#module-torch.optim\n",
        "  * Inside the optimizer you'll often have to set two parameters:\n",
        "    * `params` - the model parameters you'd like to optimize, for example `params=model_0.parameters()`\n",
        "    * `lr` (learning rate) - the learning rate is a hyperparameter that defines how big/small the optimizer changes the parameters with each step (a small `lr` results in small changes, a large `lr` results in large changes)\n",
        "\n",
        "And specifically for PyTorch, we need:\n",
        "* A training loop\n",
        "* A testing loop"
      ]
    },
    {
      "cell_type": "code",
      "execution_count": 24,
      "metadata": {
        "colab": {
          "base_uri": "https://localhost:8080/"
        },
        "id": "gR7Xy8FqQ1x1",
        "outputId": "85ea9234-292b-4269-c450-3a9088e3d65a"
      },
      "outputs": [
        {
          "data": {
            "text/plain": [
              "[Parameter containing:\n",
              " tensor([0.0882, 0.0915], requires_grad=True)]"
            ]
          },
          "execution_count": 24,
          "metadata": {},
          "output_type": "execute_result"
        }
      ],
      "source": [
        "list(model.parameters())"
      ]
    },
    {
      "cell_type": "code",
      "execution_count": 25,
      "metadata": {
        "colab": {
          "base_uri": "https://localhost:8080/"
        },
        "id": "MeA8r0whRzVM",
        "outputId": "3bf7b029-3a6d-4f4d-cb37-e493fff66f16"
      },
      "outputs": [
        {
          "data": {
            "text/plain": [
              "OrderedDict([('weights', tensor([0.0882, 0.0915]))])"
            ]
          },
          "execution_count": 25,
          "metadata": {},
          "output_type": "execute_result"
        }
      ],
      "source": [
        "# Check out our model's parameters (a parameter is a value that the model sets itself)\n",
        "model.state_dict()"
      ]
    },
    {
      "cell_type": "code",
      "execution_count": 26,
      "metadata": {
        "id": "FhpnOr3vR5jI"
      },
      "outputs": [],
      "source": [
        "# Setup a loss function\n",
        "loss_fn = nn.L1Loss()\n",
        "\n",
        "# Setup an optimizer (stochastic gradient descent)\n",
        "optimizer = torch.optim.SGD(params=model.parameters(), # we want to optimize the parameters present in our model\n",
        "                            lr=0.01) # lr = learning rate = possibly the most important hyperparameter you can set"
      ]
    },
    {
      "cell_type": "markdown",
      "metadata": {
        "id": "Ffr8kYJTXwkD"
      },
      "source": [
        "### Building a training loop (and a testing loop) in PyTorch\n"
      ]
    },
    {
      "cell_type": "code",
      "execution_count": 31,
      "metadata": {
        "colab": {
          "base_uri": "https://localhost:8080/"
        },
        "id": "TV8WOxYPaTlP",
        "outputId": "e05110b7-2289-48c9-e99c-cfca09e0f9b3"
      },
      "outputs": [
        {
          "name": "stdout",
          "output_type": "stream",
          "text": [
            "Epoch: 0 | Loss: 0.007522708736360073 | Test loss: 0.007204174995422363\n",
            "Epoch: 10 | Loss: 0.007522708736360073 | Test loss: 0.007204174995422363\n",
            "Epoch: 20 | Loss: 0.007522708736360073 | Test loss: 0.007204174995422363\n",
            "Epoch: 30 | Loss: 0.007522708736360073 | Test loss: 0.007204174995422363\n",
            "Epoch: 40 | Loss: 0.007522708736360073 | Test loss: 0.007204174995422363\n",
            "Epoch: 50 | Loss: 0.007522708736360073 | Test loss: 0.007204174995422363\n",
            "Epoch: 60 | Loss: 0.007522708736360073 | Test loss: 0.007204174995422363\n",
            "Epoch: 70 | Loss: 0.007522708736360073 | Test loss: 0.007204174995422363\n",
            "Epoch: 80 | Loss: 0.007522708736360073 | Test loss: 0.007204174995422363\n",
            "Epoch: 90 | Loss: 0.007522708736360073 | Test loss: 0.007204174995422363\n",
            "Epoch: 100 | Loss: 0.007522708736360073 | Test loss: 0.007204174995422363\n",
            "Epoch: 110 | Loss: 0.007522708736360073 | Test loss: 0.007204174995422363\n",
            "Epoch: 120 | Loss: 0.007522708736360073 | Test loss: 0.007204174995422363\n",
            "Epoch: 130 | Loss: 0.007522708736360073 | Test loss: 0.007204174995422363\n",
            "Epoch: 140 | Loss: 0.007522708736360073 | Test loss: 0.007204174995422363\n",
            "Epoch: 150 | Loss: 0.007522708736360073 | Test loss: 0.007204174995422363\n",
            "Epoch: 160 | Loss: 0.007522708736360073 | Test loss: 0.007204174995422363\n",
            "Epoch: 170 | Loss: 0.007522708736360073 | Test loss: 0.007204174995422363\n",
            "Epoch: 180 | Loss: 0.007522708736360073 | Test loss: 0.007204174995422363\n",
            "Epoch: 190 | Loss: 0.007522708736360073 | Test loss: 0.007204174995422363\n",
            "Epoch: 200 | Loss: 0.007522708736360073 | Test loss: 0.007204174995422363\n",
            "Epoch: 210 | Loss: 0.007522708736360073 | Test loss: 0.007204174995422363\n",
            "Epoch: 220 | Loss: 0.007522708736360073 | Test loss: 0.007204174995422363\n",
            "Epoch: 230 | Loss: 0.007522708736360073 | Test loss: 0.007204174995422363\n",
            "Epoch: 240 | Loss: 0.007522708736360073 | Test loss: 0.007204174995422363\n",
            "Epoch: 250 | Loss: 0.007522708736360073 | Test loss: 0.007204174995422363\n",
            "Epoch: 260 | Loss: 0.007522708736360073 | Test loss: 0.007204174995422363\n",
            "Epoch: 270 | Loss: 0.007522708736360073 | Test loss: 0.007204174995422363\n",
            "Epoch: 280 | Loss: 0.007522708736360073 | Test loss: 0.007204174995422363\n",
            "Epoch: 290 | Loss: 0.007522708736360073 | Test loss: 0.007204174995422363\n",
            "---------------------------------------------------------\n",
            "OrderedDict([('weights', tensor([0.6975, 0.3085]))])\n"
          ]
        }
      ],
      "source": [
        "torch.manual_seed(42)\n",
        "\n",
        "# An epoch is one loop through the data... (this is a hyperparameter because we've set it ourselves)\n",
        "epochs = 300\n",
        "\n",
        "# Track different values\n",
        "epoch_count = [] \n",
        "loss_values = []\n",
        "test_loss_values = [] \n",
        "\n",
        "### Training\n",
        "# 0. Loop through the data\n",
        "for epoch in range(epochs): \n",
        "  # Set the model to training mode\n",
        "  model.train() # train mode in PyTorch sets all parameters that require gradients to require gradients \n",
        "\n",
        "  # 1. Forward pass\n",
        "  y_pred = model(X_train)\n",
        "\n",
        "  # 2. Calculate the loss\n",
        "  loss = loss_fn(y_pred, y_train)\n",
        "\n",
        "  # 3. Optimizer zero grad\n",
        "  optimizer.zero_grad() \n",
        "\n",
        "  # 4. Perform backpropagation on the loss with respect to the parameters of the model (calculate gradients of each parameter)\n",
        "  loss.backward()\n",
        "\n",
        "  # 5. Step the optimizer (perform gradient descent)\n",
        "  optimizer.step() # by default how the optimizer changes will acculumate through the loop so... we have to zero them above in step 3 for the next iteration of the loop\n",
        "\n",
        "  ### Testing\n",
        "  model.eval() # turns off different settings in the model not needed for evaluation/testing (dropout/batch norm layers)\n",
        "  with torch.inference_mode(): # turns off gradient tracking & a couple more things behind the scenes - https://twitter.com/PyTorch/status/1437838231505096708?s=20&t=aftDZicoiUGiklEP179x7A\n",
        "    test_pred = model(X_test)\n",
        "\n",
        "    # 2. Calculate the loss\n",
        "    test_loss = loss_fn(test_pred, y_test)\n",
        "\n",
        "  # Print out what's happenin'\n",
        "  if epoch % 10 == 0:\n",
        "    epoch_count.append(epoch)\n",
        "    loss_values.append(loss)\n",
        "    test_loss_values.append(test_loss)\n",
        "    print(f\"Epoch: {epoch} | Loss: {loss} | Test loss: {test_loss}\")\n",
        "    # Print out model state_dict()\n",
        "    #print(model.state_dict())\n",
        "\n",
        "\n",
        "print(\"---------------------------------------------------------\")\n",
        "print(model.state_dict())"
      ]
    },
    {
      "cell_type": "code",
      "execution_count": 32,
      "metadata": {
        "colab": {
          "base_uri": "https://localhost:8080/",
          "height": 295
        },
        "id": "ccr-GEYe7da1",
        "outputId": "68b6980f-85ab-4811-cd53-be0d1091ff10"
      },
      "outputs": [
        {
          "data": {
            "image/png": "[encoded data removed]",
            "text/plain": [
              "<Figure size 640x480 with 1 Axes>"
            ]
          },
          "metadata": {},
          "output_type": "display_data"
        }
      ],
      "source": [
        "# Plot the loss curves\n",
        "plt.plot(epoch_count, np.array(torch.tensor(loss_values).numpy()), label=\"Train loss\")\n",
        "plt.plot(epoch_count, test_loss_values, label=\"Test loss\")\n",
        "plt.title(\"Training and test loss curves\")\n",
        "plt.ylabel(\"Loss\")\n",
        "plt.xlabel(\"Epochs\")\n",
        "plt.legend();"
      ]
    },
    {
      "cell_type": "code",
      "execution_count": 33,
      "metadata": {
        "id": "vfl9oAt_09Fd"
      },
      "outputs": [],
      "source": [
        "with torch.inference_mode():\n",
        "  y_preds_new = model(X_test)"
      ]
    },
    {
      "cell_type": "code",
      "execution_count": 34,
      "metadata": {
        "colab": {
          "base_uri": "https://localhost:8080/"
        },
        "id": "i3Y-ilS3jCdG",
        "outputId": "4bc413d2-3b5b-4f4d-c822-5f3693f3796d"
      },
      "outputs": [
        {
          "data": {
            "text/plain": [
              "OrderedDict([('weights', tensor([0.6975, 0.3085]))])"
            ]
          },
          "execution_count": 34,
          "metadata": {},
          "output_type": "execute_result"
        }
      ],
      "source": [
        "model.state_dict()"
      ]
    },
    {
      "cell_type": "code",
      "execution_count": 35,
      "metadata": {
        "colab": {
          "base_uri": "https://localhost:8080/"
        },
        "id": "cE8uVRUeg39p",
        "outputId": "9abe949e-3ba1-4d7e-91ee-f0dc59371641"
      },
      "outputs": [
        {
          "data": {
            "text/plain": [
              "(0.7, 0.3)"
            ]
          },
          "execution_count": 35,
          "metadata": {},
          "output_type": "execute_result"
        }
      ],
      "source": [
        "weight, bias"
      ]
    },
    {
      "cell_type": "code",
      "execution_count": 36,
      "metadata": {
        "colab": {
          "base_uri": "https://localhost:8080/",
          "height": 428
        },
        "id": "f_gboBMSl13p",
        "outputId": "3c5bce1a-ad41-44ac-bf7f-326d4b5c4308"
      },
      "outputs": [
        {
          "data": {
            "image/png": "[encoded data removed]",
            "text/plain": [
              "<Figure size 1000x700 with 1 Axes>"
            ]
          },
          "metadata": {},
          "output_type": "display_data"
        }
      ],
      "source": [
        "plot_predictions(predictions=y_preds);"
      ]
    },
    {
      "cell_type": "code",
      "execution_count": 143,
      "metadata": {
        "colab": {
          "base_uri": "https://localhost:8080/",
          "height": 428
        },
        "id": "9y-u_rVC16XJ",
        "outputId": "354933d7-7c14-46c5-9a71-eee4cb7200c2"
      },
      "outputs": [
        {
          "data": {
            "image/png": "[encoded data removed]",
            "text/plain": [
              "<Figure size 1000x700 with 1 Axes>"
            ]
          },
          "metadata": {},
          "output_type": "display_data"
        }
      ],
      "source": [
        "plot_predictions(predictions=y_preds_new);"
      ]
    },
    {
      "cell_type": "markdown",
      "metadata": {
        "id": "GXusQ2JP1_S1"
      },
      "source": [
        "## Saving a model in PyTorch\n",
        "\n",
        "There are three main methods you should about for saving and loading models in PyTorch.\n",
        "\n",
        "1. `torch.save()` - allows you save a PyTorch object in Python's pickle format \n",
        "2. `torch.load()` - allows you load a saved PyTorch object\n",
        "3. `torch.nn.Module.load_state_dict()` - this allows to load a model's saved state dictionary \n",
        "\n",
        "PyTorch save & load code tutorial + extra-curriculum - https://pytorch.org/tutorials/beginner/saving_loading_models.html#saving-loading-model-for-inference"
      ]
    },
    {
      "cell_type": "code",
      "execution_count": 144,
      "metadata": {
        "colab": {
          "base_uri": "https://localhost:8080/"
        },
        "id": "1a0iaBiX5JAG",
        "outputId": "dbe254f6-1696-4fa8-a3d3-619aebf930aa"
      },
      "outputs": [
        {
          "name": "stdout",
          "output_type": "stream",
          "text": [
            "Saving model to: models/01_pytorch_workflow_model_0.pth\n"
          ]
        }
      ],
      "source": [
        "# Saving our PyTorch model\n",
        "from pathlib import Path\n",
        "\n",
        "# 1. Create models directory \n",
        "MODEL_PATH = Path(\"models\")\n",
        "MODEL_PATH.mkdir(parents=True, exist_ok=True)\n",
        "\n",
        "# 2. Create model save path\n",
        "MODEL_NAME = \"01_pytorch_workflow_model_0.pth\"\n",
        "MODEL_SAVE_PATH = MODEL_PATH / MODEL_NAME\n",
        "\n",
        "# 3. Save the model state dict\n",
        "print(f\"Saving model to: {MODEL_SAVE_PATH}\")\n",
        "torch.save(obj=model_0.state_dict(),\n",
        "           f=MODEL_SAVE_PATH)"
      ]
    },
    {
      "cell_type": "code",
      "execution_count": 145,
      "metadata": {
        "colab": {
          "base_uri": "https://localhost:8080/"
        },
        "id": "Os6BGzXT54Xq",
        "outputId": "2529729e-a3c5-486a-e913-b3031a5fe9ab"
      },
      "outputs": [
        {
          "name": "stdout",
          "output_type": "stream",
          "text": [
            "total 8\n",
            "-rw-r--r--  1 tuchsanai  staff  935 Aug 30 19:13 01_pytorch_workflow_model_0.pth\n"
          ]
        }
      ],
      "source": [
        "!ls -l models"
      ]
    },
    {
      "cell_type": "markdown",
      "metadata": {
        "id": "uib6vQMB7Ds1"
      },
      "source": [
        "## Loading a PyTorch model\n",
        "\n",
        "Since we saved our model's `state_dict()` rather the entire model, we'll create a new instance of our model class and load the saved `state_dict()` into that. "
      ]
    },
    {
      "cell_type": "code",
      "execution_count": 146,
      "metadata": {
        "colab": {
          "base_uri": "https://localhost:8080/"
        },
        "id": "9U-uXVaC85PP",
        "outputId": "a2c8ea18-fbb5-49a7-d985-eab4a76b2875"
      },
      "outputs": [
        {
          "data": {
            "text/plain": [
              "OrderedDict([('weights', tensor([0.6975, 0.3085]))])"
            ]
          },
          "execution_count": 146,
          "metadata": {},
          "output_type": "execute_result"
        }
      ],
      "source": [
        "model.state_dict()"
      ]
    },
    {
      "cell_type": "code",
      "execution_count": 147,
      "metadata": {
        "colab": {
          "base_uri": "https://localhost:8080/"
        },
        "id": "lTghUxOH89lz",
        "outputId": "354c3ac5-96d5-499b-d734-d3e56b8ba3e7"
      },
      "outputs": [
        {
          "data": {
            "text/plain": [
              "<All keys matched successfully>"
            ]
          },
          "execution_count": 147,
          "metadata": {},
          "output_type": "execute_result"
        }
      ],
      "source": [
        "# To load in a saved state_dict we have to instantiate a new instance of our model class\n",
        "loaded_model= LinearRegressionModel()\n",
        "\n",
        "# Load the saved state_dict of model_0 (this will update the new instance with updated parameters)\n",
        "loaded_model.load_state_dict(torch.load(f=MODEL_SAVE_PATH))"
      ]
    },
    {
      "cell_type": "code",
      "execution_count": 148,
      "metadata": {
        "colab": {
          "base_uri": "https://localhost:8080/"
        },
        "id": "_44x4te89OjW",
        "outputId": "a8537d36-f89a-4409-90b3-3563f836231e"
      },
      "outputs": [
        {
          "data": {
            "text/plain": [
              "OrderedDict([('weights', tensor([0.6975, 0.3085]))])"
            ]
          },
          "execution_count": 148,
          "metadata": {},
          "output_type": "execute_result"
        }
      ],
      "source": [
        "loaded_model.state_dict()"
      ]
    },
    {
      "cell_type": "code",
      "execution_count": 102,
      "metadata": {
        "colab": {
          "base_uri": "https://localhost:8080/"
        },
        "id": "BxPDLIU09Q0i",
        "outputId": "887f395e-1719-4f68-f3d9-23e17088eb14"
      },
      "outputs": [
        {
          "data": {
            "text/plain": [
              "tensor([[0.8665],\n",
              "        [0.8804],\n",
              "        [0.8944],\n",
              "        [0.9083],\n",
              "        [0.9223],\n",
              "        [0.9362],\n",
              "        [0.9502],\n",
              "        [0.9641],\n",
              "        [0.9781],\n",
              "        [0.9920]])"
            ]
          },
          "execution_count": 102,
          "metadata": {},
          "output_type": "execute_result"
        }
      ],
      "source": [
        "# Make some predictions with our loaded model\n",
        "loaded_model.eval()\n",
        "with torch.inference_mode():\n",
        "  loaded_model_preds = loaded_model(X_test)\n",
        "\n",
        "loaded_model_preds"
      ]
    },
    {
      "cell_type": "code",
      "execution_count": 103,
      "metadata": {
        "colab": {
          "base_uri": "https://localhost:8080/"
        },
        "id": "3BP9cufq99K-",
        "outputId": "191daad3-6df1-4018-95c9-de755eb4f381"
      },
      "outputs": [
        {
          "data": {
            "text/plain": [
              "tensor([[0.8665],\n",
              "        [0.8804],\n",
              "        [0.8944],\n",
              "        [0.9083],\n",
              "        [0.9223],\n",
              "        [0.9362],\n",
              "        [0.9502],\n",
              "        [0.9641],\n",
              "        [0.9781],\n",
              "        [0.9920]])"
            ]
          },
          "execution_count": 103,
          "metadata": {},
          "output_type": "execute_result"
        }
      ],
      "source": [
        "# Make some models preds\n",
        "model.eval()\n",
        "with torch.inference_mode():\n",
        "  y_preds = model(X_test)\n",
        "\n",
        "y_preds"
      ]
    },
    {
      "cell_type": "code",
      "execution_count": 104,
      "metadata": {
        "colab": {
          "base_uri": "https://localhost:8080/"
        },
        "id": "sSbACbvI94XX",
        "outputId": "853b8d5f-7830-41c2-ffd2-93a7fc0b2270"
      },
      "outputs": [
        {
          "data": {
            "text/plain": [
              "tensor([[True],\n",
              "        [True],\n",
              "        [True],\n",
              "        [True],\n",
              "        [True],\n",
              "        [True],\n",
              "        [True],\n",
              "        [True],\n",
              "        [True],\n",
              "        [True]])"
            ]
          },
          "execution_count": 104,
          "metadata": {},
          "output_type": "execute_result"
        }
      ],
      "source": [
        "# Compare loaded model preds with original model preds\n",
        "y_preds == loaded_model_preds"
      ]
    }
  ],
  "metadata": {
    "accelerator": "GPU",
    "colab": {
      "authorship_tag": "ABX9TyPiZqHPF/YamI5YlikNi4KW",
      "collapsed_sections": [],
      "include_colab_link": true,
      "name": "01_pytorch_workflow_video.ipynb",
      "provenance": []
    },
    "kernelspec": {
      "display_name": "Python 3.9.13 ('torch')",
      "language": "python",
      "name": "python3"
    },
    "language_info": {
      "codemirror_mode": {
        "name": "ipython",
        "version": 3
      },
      "file_extension": ".py",
      "mimetype": "text/x-python",
      "name": "python",
      "nbconvert_exporter": "python",
      "pygments_lexer": "ipython3",
      "version": "3.1.0"
    },
    "vscode": {
      "interpreter": {
        "hash": "7288f315087fdb0a15835a979a50c8db3e0e21492381bafafe9d84f995bbb7dd"
      }
    }
  },
  "nbformat": 4,
  "nbformat_minor": 0
}
