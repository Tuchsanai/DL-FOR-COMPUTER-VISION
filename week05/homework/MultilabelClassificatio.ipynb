{
 "cells": [
  {
   "cell_type": "code",
   "execution_count": 3,
   "metadata": {},
   "outputs": [
    {
     "name": "stdout",
     "output_type": "stream",
     "text": [
      "X_train: (8000, 12), y_train: (8000, 5), X_test: (2000, 12), y_test: (2000, 5)\n"
     ]
    }
   ],
   "source": [
    "#%% packages\n",
    "from sklearn.datasets import make_multilabel_classification\n",
    "from sklearn.model_selection import train_test_split\n",
    "from sklearn.metrics import accuracy_score\n",
    "import torch\n",
    "import torch.nn as nn\n",
    "from torch.utils.data import Dataset, DataLoader \n",
    "import seaborn as sns\n",
    "import numpy as np\n",
    "from collections import Counter\n",
    "import seaborn as sns\n",
    "# %% data prep\n",
    "\n",
    "X, y = make_multilabel_classification(n_samples=10000, n_features=12, n_classes=5, n_labels=2)\n",
    "\n",
    "# %% train test split\n",
    "X_train, X_test, y_train, y_test = train_test_split(X, y, test_size = 0.2)\n",
    "\n",
    "\n",
    "# display size of train and test with description\n",
    "print(f\"X_train: {X_train.shape}, y_train: {y_train.shape}, X_test: {X_test.shape}, y_test: {y_test.shape}\")\n",
    "\n"
   ]
  },
  {
   "cell_type": "code",
   "execution_count": 26,
   "metadata": {},
   "outputs": [
    {
     "name": "stdout",
     "output_type": "stream",
     "text": [
      "i= 0 : X_train = tensor([15.,  6.,  5., 16.,  1.,  1.,  3.]) : y = tensor([0., 0., 0., 1., 0.])\n",
      "i= 1 : X_train = tensor([10.,  4.,  4., 11.,  8.,  4., 11.]) : y = tensor([1., 1., 0., 1., 0.])\n",
      "i= 2 : X_train = tensor([ 9.,  6.,  5., 12.,  6.,  8.,  8.]) : y = tensor([0., 1., 0., 1., 1.])\n",
      "i= 3 : X_train = tensor([ 7.,  7.,  7., 16.,  1.,  2.,  8.]) : y = tensor([0., 0., 0., 1., 1.])\n",
      "i= 4 : X_train = tensor([ 9., 10., 13.,  7.,  3.,  4.,  4.]) : y = tensor([0., 0., 0., 0., 0.])\n",
      "i= 5 : X_train = tensor([11.,  1.,  3.,  0.,  2.,  8., 15.]) : y = tensor([1., 0., 0., 0., 0.])\n",
      "i= 6 : X_train = tensor([ 7.,  9.,  7.,  9.,  7.,  6., 10.]) : y = tensor([0., 0., 0., 0., 0.])\n",
      "i= 7 : X_train = tensor([10.,  3.,  7., 10.,  2.,  4.,  8.]) : y = tensor([0., 1., 0., 1., 1.])\n",
      "i= 8 : X_train = tensor([ 9.,  6.,  2., 12.,  6.,  6.,  3.]) : y = tensor([0., 1., 0., 1., 0.])\n",
      "i= 9 : X_train = tensor([16.,  3.,  1.,  2.,  5., 11., 10.]) : y = tensor([1., 1., 0., 0., 0.])\n"
     ]
    }
   ],
   "source": [
    "for i in range(10):\n",
    "    print(f\"i= {i} : X_train = {X_train[i]} : y = {y_train[i]}\")"
   ]
  },
  {
   "cell_type": "code",
   "execution_count": null,
   "metadata": {},
   "outputs": [],
   "source": []
  }
 ],
 "metadata": {
  "kernelspec": {
   "display_name": "pytorch",
   "language": "python",
   "name": "python3"
  },
  "language_info": {
   "codemirror_mode": {
    "name": "ipython",
    "version": 3
   },
   "file_extension": ".py",
   "mimetype": "text/x-python",
   "name": "python",
   "nbconvert_exporter": "python",
   "pygments_lexer": "ipython3",
   "version": "3.10.13"
  }
 },
 "nbformat": 4,
 "nbformat_minor": 2
}
