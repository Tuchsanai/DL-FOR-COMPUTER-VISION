{
 "cells": [
  {
   "cell_type": "code",
   "execution_count": null,
   "metadata": {},
   "outputs": [],
   "source": [
    "import IPython\n",
    "import sys\n",
    "\n",
    "def clean_notebook():\n",
    "    IPython.display.clear_output(wait=True)\n",
    "    print(\"Notebook cleaned.\")\n",
    "!pip install facenet-pytorch\n",
    "# Clean up the notebook\n",
    "clean_notebook()\n"
   ]
  },
  {
   "cell_type": "markdown",
   "metadata": {},
   "source": [
    "# Display Video from Local Computer"
   ]
  },
  {
   "cell_type": "code",
   "execution_count": null,
   "metadata": {
    "id": "qCX0RgGzYt4C",
    "outputId": "58b55629-313f-494f-c1d7-4e41aca06bdc"
   },
   "outputs": [],
   "source": [
    "import cv2\n",
    "\n",
    "# Try to open the video file\n",
    "cap = cv2.VideoCapture('./videos/drummer.mp4')\n",
    "\n",
    "\n",
    "if not cap.isOpened():\n",
    "    print(\"Error: Could not access the file.\")\n",
    "    cap.release()\n",
    "    raise RuntimeError(\"oepncv initialization failed.\")\n",
    "\n",
    "\n",
    "while True:\n",
    "    # It contains a boolean indicating if it was successful (ret)\n",
    "    # It also contains the images collected from the webcam (frame)\n",
    "    ret, frame = cap.read()\n",
    "\n",
    "    if not ret:\n",
    "        print(\"Failed to grab frame.\")\n",
    "        break\n",
    "\n",
    "    \n",
    "    cv2.imshow('Our Webcam Video', frame)\n",
    "\n",
    "    if cv2.waitKey(1) == 13:  # 13 is the Enter Key\n",
    "        break\n",
    "\n",
    "# Release camera and close windows\n",
    "cap.release()\n"
   ]
  },
  {
   "cell_type": "markdown",
   "metadata": {},
   "source": [
    "# Display video from Notebook"
   ]
  },
  {
   "cell_type": "code",
   "execution_count": null,
   "metadata": {},
   "outputs": [],
   "source": [
    "import cv2\n",
    "from IPython.display import display, Image, clear_output\n",
    "import numpy as np\n",
    "\n",
    "# Open the video file\n",
    "cap = cv2.VideoCapture('./videos/drummer.mp4')\n",
    "\n",
    "if not cap.isOpened():\n",
    "    print(\"Cannot open video file\")\n",
    "    exit()\n",
    "\n",
    "while cap.isOpened():\n",
    "    ret, frame = cap.read()\n",
    "    \n",
    "    if not ret:\n",
    "        print(\"Stream stopped.\")\n",
    "        break\n",
    "\n",
    "    # Convert the frame to JPEG format for display in Jupyter\n",
    "    _, buffer = cv2.imencode('.jpg', frame)\n",
    "    img_bytes = buffer.tobytes()\n",
    "\n",
    "    # Display the frame in Jupyter Notebook\n",
    "    display(Image(data=img_bytes))\n",
    "    clear_output(wait=True)  # Clear previous frame for smoother playback\n",
    "\n",
    "  \n",
    "    \n",
    "cap.release()\n",
    "print(\"Video stream ended.\")"
   ]
  },
  {
   "cell_type": "markdown",
   "metadata": {
    "id": "GWWX4woPYt4H"
   },
   "source": [
    "**You can see index 3 and 4 correspond to the video dimensions**"
   ]
  },
  {
   "cell_type": "code",
   "execution_count": null,
   "metadata": {},
   "outputs": [],
   "source": []
  }
 ],
 "metadata": {
  "colab": {
   "name": "2. Opening Video Files.ipynb",
   "provenance": []
  },
  "kernelspec": {
   "display_name": "Python 3 (ipykernel)",
   "language": "python",
   "name": "python3"
  },
  "language_info": {
   "codemirror_mode": {
    "name": "ipython",
    "version": 3
   },
   "file_extension": ".py",
   "mimetype": "text/x-python",
   "name": "python",
   "nbconvert_exporter": "python",
   "pygments_lexer": "ipython3",
   "version": "3.10.12"
  }
 },
 "nbformat": 4,
 "nbformat_minor": 4
}
