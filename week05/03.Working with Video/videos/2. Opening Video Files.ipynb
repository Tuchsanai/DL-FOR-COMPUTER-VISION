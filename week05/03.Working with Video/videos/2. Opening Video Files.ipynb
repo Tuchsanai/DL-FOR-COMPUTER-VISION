{
 "cells": [
  {
   "cell_type": "code",
   "execution_count": 1,
   "metadata": {
    "id": "qCX0RgGzYt4C",
    "outputId": "58b55629-313f-494f-c1d7-4e41aca06bdc"
   },
   "outputs": [
    {
     "name": "stdout",
     "output_type": "stream",
     "text": [
      "Stream stopped.\n"
     ]
    },
    {
     "ename": "",
     "evalue": "",
     "output_type": "error",
     "traceback": [
      "\u001b[1;31mThe Kernel crashed while executing code in the the current cell or a previous cell. Please review the code in the cell(s) to identify a possible cause of the failure. Click <a href='https://aka.ms/vscodeJupyterKernelCrash'>here</a> for more info. View Jupyter <a href='command:jupyter.viewOutput'>log</a> for further details."
     ]
    }
   ],
   "source": [
    "import cv2\n",
    "\n",
    "cap = cv2.VideoCapture('./videos/drummer.mp4')\n",
    "\n",
    "while cap.isOpened():\n",
    "    \n",
    "    ret, frame = cap.read()\n",
    "    \n",
    "    # if frame is read correctly ret is True\n",
    "    if not ret:\n",
    "        print(\"Stream stopped.\")\n",
    "        break\n",
    "\n",
    "    cv2.imshow('Video', frame)\n",
    "    \n",
    "    if cv2.waitKey(1) == ord('q'):\n",
    "        break\n",
    "    \n",
    "        \n",
    "cap.release()\n",
    "cv2.destroyAllWindows()"
   ]
  },
  {
   "cell_type": "markdown",
   "metadata": {},
   "source": [
    "# Display video from Notebook"
   ]
  },
  {
   "cell_type": "code",
   "execution_count": 2,
   "metadata": {},
   "outputs": [
    {
     "name": "stdout",
     "output_type": "stream",
     "text": [
      "Stream stopped.\n",
      "Video stream ended.\n"
     ]
    }
   ],
   "source": [
    "import cv2\n",
    "from IPython.display import display, Image, clear_output\n",
    "import numpy as np\n",
    "\n",
    "# Open the video file\n",
    "cap = cv2.VideoCapture('./videos/drummer.mp4')\n",
    "\n",
    "if not cap.isOpened():\n",
    "    print(\"Cannot open video file\")\n",
    "    exit()\n",
    "\n",
    "while cap.isOpened():\n",
    "    ret, frame = cap.read()\n",
    "    \n",
    "    if not ret:\n",
    "        print(\"Stream stopped.\")\n",
    "        break\n",
    "\n",
    "    # Convert the frame to JPEG format for display in Jupyter\n",
    "    _, buffer = cv2.imencode('.jpg', frame)\n",
    "    img_bytes = buffer.tobytes()\n",
    "\n",
    "    # Display the frame in Jupyter Notebook\n",
    "    display(Image(data=img_bytes))\n",
    "    clear_output(wait=True)  # Clear previous frame for smoother playback\n",
    "\n",
    "    # Optional: Use a break condition if needed\n",
    "    # To stop manually, you can stop the kernel or add conditions here.\n",
    "    \n",
    "cap.release()\n",
    "print(\"Video stream ended.\")"
   ]
  },
  {
   "cell_type": "markdown",
   "metadata": {
    "id": "VZRFV9CjYt4G"
   },
   "source": [
    "## ```cap.get(id)``` \n",
    "Is a method where id is a number from 0 to 18. Each number denotes a property of the video (if it is applicable to that video)"
   ]
  },
  {
   "cell_type": "code",
   "execution_count": 3,
   "metadata": {
    "id": "zyi9DZv5Yt4G",
    "outputId": "ccecac0e-8415-42a3-b813-142172c0fd13"
   },
   "outputs": [
    {
     "name": "stdout",
     "output_type": "stream",
     "text": [
      "0.0\n",
      "0.0\n",
      "3.3333333333333335e-05\n",
      "640.0\n",
      "360.0\n",
      "30.0\n",
      "828601953.0\n",
      "466.0\n",
      "0.0\n",
      "0.0\n",
      "0.0\n",
      "0.0\n",
      "0.0\n",
      "0.0\n",
      "0.0\n",
      "0.0\n",
      "0.0\n",
      "0.0\n"
     ]
    }
   ],
   "source": [
    "import cv2\n",
    "\n",
    "cap = cv2.VideoCapture('./videos/drummer.mp4')\n",
    "\n",
    "for i in range(0,18):\n",
    "    print(cap.get(i))"
   ]
  },
  {
   "cell_type": "markdown",
   "metadata": {
    "id": "GWWX4woPYt4H"
   },
   "source": [
    "**You can see index 3 and 4 correspond to the video dimensions**"
   ]
  },
  {
   "cell_type": "code",
   "execution_count": null,
   "metadata": {
    "id": "ri8XoZCvYt4I"
   },
   "outputs": [
    {
     "name": "stderr",
     "output_type": "stream",
     "text": [
      "2024-12-01 13:45:58.046 python[38991:4475326] WARNING: AVCaptureDeviceTypeExternal is deprecated for Continuity Cameras. Please use AVCaptureDeviceTypeContinuityCamera and add NSCameraUseContinuityCameraDeviceType to your Info.plist.\n",
      "2024-12-01 13:46:00.571 python[38991:4475326] +[IMKClient subclass]: chose IMKClient_Modern\n",
      "2024-12-01 13:46:00.571 python[38991:4475326] +[IMKInputSession subclass]: chose IMKInputSession_Modern\n"
     ]
    }
   ],
   "source": [
    "import cv2\n",
    "import numpy as np\n",
    "import torch\n",
    "from facenet_pytorch import MTCNN\n",
    "\n",
    "# Initialize the MTCNN model for face detection\n",
    "mtcnn = MTCNN(keep_all=True, device=torch.device('cuda:0' if torch.cuda.is_available() else 'cpu'))\n",
    "\n",
    "# Our sketch generating function for the detected face\n",
    "def sketch(image):\n",
    "    # Convert image to grayscale\n",
    "    img_gray = cv2.cvtColor(image, cv2.COLOR_BGR2GRAY)\n",
    "    \n",
    "    # Clean up image using Gaussian Blur\n",
    "    img_gray_blur = cv2.GaussianBlur(img_gray, (5, 5), 0)\n",
    "    \n",
    "    # Extract edges\n",
    "    canny_edges = cv2.Canny(img_gray_blur, 10, 70)\n",
    "    \n",
    "    # Invert binarize the image\n",
    "    _, mask = cv2.threshold(canny_edges, 70, 255, cv2.THRESH_BINARY_INV)\n",
    "    return mask\n",
    "\n",
    "\n",
    "# Initialize webcam\n",
    "cap = cv2.VideoCapture(0)\n",
    "\n",
    "while True:\n",
    "    # Capture frame-by-frame\n",
    "    ret, frame = cap.read()\n",
    "    if not ret:\n",
    "        print(\"Failed to grab frame.\")\n",
    "        break\n",
    "    \n",
    "    # Convert frame to RGB (MTCNN expects RGB images)\n",
    "    rgb_frame = cv2.cvtColor(frame, cv2.COLOR_BGR2RGB)\n",
    "    \n",
    "    # Detect faces using MTCNN\n",
    "    boxes, _ = mtcnn.detect(rgb_frame)\n",
    "    \n",
    "    if boxes is not None:\n",
    "        for box in boxes:\n",
    "            x1, y1, x2, y2 = map(int, box)\n",
    "            # Ensure the bounding box is within the frame\n",
    "            x1, y1 = max(0, x1), max(0, y1)\n",
    "            x2, y2 = min(frame.shape[1], x2), min(frame.shape[0], y2)\n",
    "            \n",
    "            # Extract the face region\n",
    "            face_region = frame[y1:y2, x1:x2]\n",
    "            \n",
    "            # Apply sketch effect to the face region\n",
    "            face_sketch = sketch(face_region)\n",
    "            \n",
    "            # Convert sketch to 3 channels to overlay on the original frame\n",
    "            face_sketch_color = cv2.cvtColor(face_sketch, cv2.COLOR_GRAY2BGR)\n",
    "            \n",
    "            # Replace the face region in the original frame with the sketch\n",
    "            frame[y1:y2, x1:x2] = cv2.resize(face_sketch_color, (x2 - x1, y2 - y1))\n",
    "    \n",
    "    # Display the frame with face sketches\n",
    "    cv2.imshow('Live Sketch with Face Detection', frame)\n",
    "    \n",
    "    # Break loop on pressing 'Enter'\n",
    "    if cv2.waitKey(1) == 13:  # 13 is the Enter Key\n",
    "        break\n",
    "\n",
    "# Release camera and close windows\n",
    "cap.release()\n",
    "cv2.destroyAllWindows()"
   ]
  },
  {
   "cell_type": "code",
   "execution_count": null,
   "metadata": {},
   "outputs": [],
   "source": []
  }
 ],
 "metadata": {
  "colab": {
   "name": "2. Opening Video Files.ipynb",
   "provenance": []
  },
  "kernelspec": {
   "display_name": "torch",
   "language": "python",
   "name": "python3"
  },
  "language_info": {
   "codemirror_mode": {
    "name": "ipython",
    "version": 3
   },
   "file_extension": ".py",
   "mimetype": "text/x-python",
   "name": "python",
   "nbconvert_exporter": "python",
   "pygments_lexer": "ipython3",
   "version": "3.12.7"
  }
 },
 "nbformat": 4,
 "nbformat_minor": 4
}
