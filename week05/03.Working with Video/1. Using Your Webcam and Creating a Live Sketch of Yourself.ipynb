{
 "cells": [
  {
   "cell_type": "markdown",
   "metadata": {},
   "source": [
    "# Display video From Computer"
   ]
  },
  {
   "cell_type": "code",
   "execution_count": null,
   "metadata": {
    "id": "cgzZxGfyYtJ7"
   },
   "outputs": [],
   "source": [
    "import cv2\n",
    "\n",
    "# Initialize webcam, cap is the object provided by VideoCapture\n",
    "cap = cv2.VideoCapture(0)\n",
    "\n",
    "if not cap.isOpened():\n",
    "    print(\"Error: Could not access the webcam.\")\n",
    "    exit()\n",
    "\n",
    "while True:\n",
    "    # It contains a boolean indicating if it was successful (ret)\n",
    "    # It also contains the images collected from the webcam (frame)\n",
    "    ret, frame = cap.read()\n",
    "\n",
    "    if not ret:\n",
    "        print(\"Failed to grab frame.\")\n",
    "        break\n",
    "\n",
    "    # resize the frame\n",
    "    frame = cv2.resize(frame, (800, 600))\n",
    "    \n",
    "    cv2.imshow('Our Webcam Video', frame)\n",
    "\n",
    "    if cv2.waitKey(1) == 13:  # 13 is the Enter Key\n",
    "        break\n",
    "\n",
    "# Release camera and close windows\n",
    "cap.release()\n",
    "cv2.destroyAllWindows()"
   ]
  },
  {
   "cell_type": "markdown",
   "metadata": {},
   "source": [
    "# Display video from Jupyter notebook"
   ]
  },
  {
   "cell_type": "code",
   "execution_count": null,
   "metadata": {},
   "outputs": [],
   "source": [
    "import cv2\n",
    "from IPython.display import display, Image, clear_output\n",
    "\n",
    "# Initialize webcam\n",
    "cap = cv2.VideoCapture(0)\n",
    "\n",
    "if not cap.isOpened():\n",
    "    print(\"Error: Could not access the webcam.\")\n",
    "    cap.release()\n",
    "    raise RuntimeError(\"Webcam initialization failed.\")\n",
    "\n",
    "try:\n",
    "    while True:\n",
    "        # Capture frame-by-frame\n",
    "        ret, frame = cap.read()\n",
    "        if not ret:\n",
    "            print(\"Failed to grab frame.\")\n",
    "            break\n",
    "        \n",
    "        # resize the frame\n",
    "        frame = cv2.resize(frame, (800, 600))\n",
    "        # Convert the frame to a format compatible with Jupyter Notebook\n",
    "        _, buffer = cv2.imencode('.jpg', frame)\n",
    "        img_bytes = buffer.tobytes()\n",
    "        \n",
    "        # Display the frame in Jupyter Notebook\n",
    "        display(Image(data=img_bytes))\n",
    "        clear_output(wait=True)  # Clear previous frame for smoother playback\n",
    "        \n",
    "except KeyboardInterrupt:\n",
    "    # Allow stopping with a keyboard interrupt\n",
    "    print(\"Video stream stopped.\")\n",
    "finally:\n",
    "    # Release the webcam and cleanup\n",
    "    cap.release()"
   ]
  },
  {
   "cell_type": "markdown",
   "metadata": {
    "id": "sWl8zjLWYtJ9"
   },
   "source": [
    "## **Use Your Webcam Feed to Create a Live Sketch of Yourself**"
   ]
  },
  {
   "cell_type": "code",
   "execution_count": null,
   "metadata": {
    "id": "NmCFf_7bYtJ-"
   },
   "outputs": [],
   "source": [
    "import cv2\n",
    "import numpy as np\n",
    "\n",
    "# Our sketch generating function\n",
    "def sketch(image):\n",
    "    # Convert image to grayscale\n",
    "    img_gray = cv2.cvtColor(image, cv2.COLOR_BGR2GRAY)\n",
    "    \n",
    "    # Clean up image using Guassian Blur\n",
    "    img_gray_blur = cv2.GaussianBlur(img_gray, (5,5), 0)\n",
    "    \n",
    "    # Extract edges\n",
    "    canny_edges = cv2.Canny(img_gray_blur, 10, 70)\n",
    "    \n",
    "    # Do an invert binarize the image \n",
    "    ret, mask = cv2.threshold(canny_edges, 70, 255, cv2.THRESH_BINARY_INV)\n",
    "    return mask\n",
    "\n",
    "\n",
    "# Initialize webcam, cap is the object provided by VideoCapture\n",
    "cap = cv2.VideoCapture(0)\n",
    "\n",
    "while True:\n",
    "    # It contains a boolean indicating if it was sucessful (ret)\n",
    "    # It also contains the images collected from the webcam (frame)\n",
    "    ret, frame = cap.read()\n",
    "    # We pass our frame to our sketch function directly inside cv2.imshow()\n",
    "    cv2.imshow('Our Live Sketcher', sketch(frame))\n",
    "    if cv2.waitKey(1) == 13: #13 is the Enter Key\n",
    "        break\n",
    "        \n",
    "# Release camera and close windows\n",
    "cap.release()\n",
    "cv2.destroyAllWindows()      "
   ]
  },
  {
   "cell_type": "code",
   "execution_count": null,
   "metadata": {},
   "outputs": [],
   "source": []
  }
 ],
 "metadata": {
  "colab": {
   "collapsed_sections": [],
   "name": "1. Using Your Webcam and Creating a Live Sketch of Yourself.ipynb",
   "provenance": []
  },
  "kernelspec": {
   "display_name": "torch",
   "language": "python",
   "name": "python3"
  },
  "language_info": {
   "codemirror_mode": {
    "name": "ipython",
    "version": 3
   },
   "file_extension": ".py",
   "mimetype": "text/x-python",
   "name": "python",
   "nbconvert_exporter": "python",
   "pygments_lexer": "ipython3",
   "version": "3.12.7"
  }
 },
 "nbformat": 4,
 "nbformat_minor": 4
}
