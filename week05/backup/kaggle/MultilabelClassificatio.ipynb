{
 "cells": [
  {
   "cell_type": "code",
   "execution_count": 10,
   "metadata": {},
   "outputs": [
    {
     "name": "stdout",
     "output_type": "stream",
     "text": [
      "X_train: (16000, 12), y_train: (16000, 5), X_test: (4000, 12), y_test: (4000, 5)\n"
     ]
    }
   ],
   "source": [
    "#%% packages\n",
    "from sklearn.datasets import make_multilabel_classification\n",
    "from sklearn.model_selection import train_test_split\n",
    "from sklearn.metrics import accuracy_score\n",
    "import torch\n",
    "import torch.nn as nn\n",
    "from torch.utils.data import Dataset, DataLoader \n",
    "import seaborn as sns\n",
    "import numpy as np\n",
    "from collections import Counter\n",
    "import seaborn as sns\n",
    "# %% data prep\n",
    "\n",
    "X, y = make_multilabel_classification(n_samples=20000, n_features=12, n_classes=5, n_labels=2)\n",
    "\n",
    "# %% train test split\n",
    "X_train, X_test, y_train, y_test = train_test_split(X, y, test_size = 0.2,shuffle=True)\n",
    "\n",
    "\n",
    "# display size of train and test with description\n",
    "print(f\"X_train: {X_train.shape}, y_train: {y_train.shape}, X_test: {X_test.shape}, y_test: {y_test.shape}\")\n",
    "\n"
   ]
  },
  {
   "cell_type": "code",
   "execution_count": 12,
   "metadata": {},
   "outputs": [
    {
     "name": "stdout",
     "output_type": "stream",
     "text": [
      "i= 0 : X_train = [ 3.  1.  2.  7.  0.  3.  7.  6. 11.  6.  9.  5.] : y = [0 0 1 1 0]\n",
      "i= 1 : X_train = [ 1.  0.  4.  7. 10.  1. 12.  5.  7.  1.  9.  4.] : y = [0 0 0 0 1]\n",
      "i= 2 : X_train = [ 9.  2.  2. 10.  3.  1.  7.  9.  9.  1.  4.  3.] : y = [0 0 1 1 1]\n",
      "i= 3 : X_train = [ 2.  2.  4.  6.  9.  0. 17. 12.  7.  0.  8.  1.] : y = [0 0 0 0 1]\n",
      "i= 4 : X_train = [6. 3. 2. 2. 8. 5. 1. 2. 3. 2. 0. 0.] : y = [1 0 0 0 0]\n",
      "i= 5 : X_train = [17.  2.  2.  6.  5.  3.  5.  7.  5.  4.  5.  3.] : y = [1 0 1 1 1]\n",
      "i= 6 : X_train = [ 3.  1.  3.  9.  0.  3.  9.  4. 12.  4.  3.  4.] : y = [1 1 1 1 1]\n",
      "i= 7 : X_train = [4. 5. 3. 7. 4. 2. 7. 8. 5. 3. 3. 1.] : y = [0 1 1 0 1]\n",
      "i= 8 : X_train = [ 4.  5.  4.  8.  2.  3.  2.  7.  4. 10.  8.  5.] : y = [0 0 0 0 0]\n",
      "i= 9 : X_train = [4. 3. 3. 8. 2. 0. 7. 8. 2. 3. 4. 2.] : y = [0 0 0 0 1]\n"
     ]
    }
   ],
   "source": [
    "for i in range(10):\n",
    "    print(f\"i= {i} : X_train = {X_train[i]} : y = {y_train[i]}\")"
   ]
  },
  {
   "cell_type": "code",
   "execution_count": 13,
   "metadata": {},
   "outputs": [],
   "source": [
    "np.savetxt('train.csv', np.column_stack((X_train, y_train)), delimiter=',', header='Feature 1,Feature 2,Feature 3,Feature 4,Feature 5,Feature 6,Feature 7,Feature 8,Feature 9,Feature 10,Feature 11,Feature 12,Label 1,Label 2,Label 3,Label 4,Label 5', comments='')\n"
   ]
  },
  {
   "cell_type": "code",
   "execution_count": null,
   "metadata": {},
   "outputs": [],
   "source": []
  }
 ],
 "metadata": {
  "kernelspec": {
   "display_name": "pytorch",
   "language": "python",
   "name": "python3"
  },
  "language_info": {
   "codemirror_mode": {
    "name": "ipython",
    "version": 3
   },
   "file_extension": ".py",
   "mimetype": "text/x-python",
   "name": "python",
   "nbconvert_exporter": "python",
   "pygments_lexer": "ipython3",
   "version": "3.10.13"
  }
 },
 "nbformat": 4,
 "nbformat_minor": 2
}
