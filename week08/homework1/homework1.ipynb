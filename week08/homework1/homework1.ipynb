{
 "cells": [
  {
   "cell_type": "code",
   "execution_count": null,
   "id": "4593318d-a7ef-4abb-9a62-50bde196d51f",
   "metadata": {},
   "outputs": [
    {
     "name": "stdout",
     "output_type": "stream",
     "text": [
      "Cannot open video file\n",
      "Video stream ended.\n"
     ]
    },
    {
     "name": "stderr",
     "output_type": "stream",
     "text": [
      "OpenCV: Couldn't read video stream from file \".././/Videos/1.mp4\"\n"
     ]
    },
    {
     "ename": "",
     "evalue": "",
     "output_type": "error",
     "traceback": [
      "\u001b[1;31mThe Kernel crashed while executing code in the current cell or a previous cell. \n",
      "\u001b[1;31mPlease review the code in the cell(s) to identify a possible cause of the failure. \n",
      "\u001b[1;31mClick <a href='https://aka.ms/vscodeJupyterKernelCrash'>here</a> for more info. \n",
      "\u001b[1;31mView Jupyter <a href='command:jupyter.viewOutput'>log</a> for further details."
     ]
    }
   ],
   "source": [
    "import cv2\n",
    "from IPython.display import display, Image, clear_output\n",
    "import numpy as np\n",
    "\n",
    "# Open the video file\n",
    "cap = cv2.VideoCapture('.././/Videos/1.mp4')\n",
    "\n",
    "if not cap.isOpened():\n",
    "    print(\"Cannot open video file\")\n",
    "    exit()\n",
    "\n",
    "while cap.isOpened():\n",
    "    ret, frame = cap.read()\n",
    "    \n",
    "    if not ret:\n",
    "        print(\"Stream stopped.\")\n",
    "        break\n",
    "    \n",
    "    frame = cv2.resize(frame, (frame.shape[1] // 2, frame.shape[0]//2))\n",
    "\n",
    "    # Convert the frame to JPEG format for display in Jupyter\n",
    "    _, buffer = cv2.imencode('.jpg', frame)\n",
    "    img_bytes = buffer.tobytes()\n",
    "\n",
    "    # Display the frame in Jupyter Notebook\n",
    "    display(Image(data=img_bytes))\n",
    "    clear_output(wait=True)  # Clear previous frame for smoother playback\n",
    "\n",
    "  \n",
    "    \n",
    "cap.release()\n",
    "print(\"Video stream ended.\")"
   ]
  },
  {
   "cell_type": "code",
   "execution_count": null,
   "id": "3178ffbe-52d0-4483-8cd8-86a31735b2a4",
   "metadata": {},
   "outputs": [],
   "source": []
  }
 ],
 "metadata": {
  "kernelspec": {
   "display_name": "torch",
   "language": "python",
   "name": "python3"
  },
  "language_info": {
   "codemirror_mode": {
    "name": "ipython",
    "version": 3
   },
   "file_extension": ".py",
   "mimetype": "text/x-python",
   "name": "python",
   "nbconvert_exporter": "python",
   "pygments_lexer": "ipython3",
   "version": "3.12.7"
  }
 },
 "nbformat": 4,
 "nbformat_minor": 5
}
