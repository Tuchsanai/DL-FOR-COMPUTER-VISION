{
 "cells": [
  {
   "cell_type": "code",
   "execution_count": 2,
   "metadata": {},
   "outputs": [],
   "source": [
    "import matplotlib.pyplot as plt\n",
    "import numpy as np\n",
    "\n",
    "import torch\n",
    "import torch.nn as nn"
   ]
  },
  {
   "cell_type": "code",
   "execution_count": 3,
   "metadata": {},
   "outputs": [],
   "source": [
    "# generate 20 data points\n",
    "N = 20\n",
    "\n",
    "#random data on x-axis\n",
    "x= np.random.rand(N)*10-5\n",
    "\n",
    "y = 0.5*x -1+ np.random.rand(N)"
   ]
  },
  {
   "cell_type": "code",
   "execution_count": 4,
   "metadata": {},
   "outputs": [
    {
     "data": {
      "text/plain": [
       "array([-3.2206038 ,  0.86753926, -0.36270969, -4.96132062, -3.04788765,\n",
       "        1.26421101,  3.0674081 ,  1.49260752,  0.24430836, -1.28498491,\n",
       "        0.08398784,  0.41179613,  2.89367959, -4.50473894, -1.97949128,\n",
       "       -0.37922362, -2.84523898,  2.03318066,  0.3623493 , -4.62508548])"
      ]
     },
     "execution_count": 4,
     "metadata": {},
     "output_type": "execute_result"
    }
   ],
   "source": [
    "x"
   ]
  },
  {
   "cell_type": "code",
   "execution_count": 5,
   "metadata": {},
   "outputs": [
    {
     "data": {
      "text/plain": [
       "array([-1.70619446, -0.34552256, -0.4215731 , -3.09264601, -1.7113127 ,\n",
       "        0.01070624,  0.79298804, -0.12407551, -0.76868047, -1.0273287 ,\n",
       "       -0.910074  ,  0.13458761,  1.14257471, -2.57695176, -1.81318458,\n",
       "       -1.15027375, -1.48654326,  0.52404642, -0.65786576, -2.59541732])"
      ]
     },
     "execution_count": 5,
     "metadata": {},
     "output_type": "execute_result"
    }
   ],
   "source": [
    "y"
   ]
  },
  {
   "cell_type": "code",
   "execution_count": 6,
   "metadata": {},
   "outputs": [
    {
     "data": {
      "text/plain": [
       "<matplotlib.collections.PathCollection at 0x14f9f5f70>"
      ]
     },
     "execution_count": 6,
     "metadata": {},
     "output_type": "execute_result"
    },
    {
     "data": {
      "image/png": "[encoded data removed]",
      "text/plain": [
       "<Figure size 640x480 with 1 Axes>"
      ]
     },
     "metadata": {},
     "output_type": "display_data"
    }
   ],
   "source": [
    "plt.scatter(x,y)"
   ]
  },
  {
   "cell_type": "code",
   "execution_count": 7,
   "metadata": {},
   "outputs": [],
   "source": [
    "# In ML we want our data to be of shape:\n",
    "# (num_samples x num_dimensions)\n",
    "X = x.reshape(N, 1)\n",
    "Y = y.reshape(N, 1)"
   ]
  },
  {
   "cell_type": "code",
   "execution_count": 8,
   "metadata": {},
   "outputs": [
    {
     "data": {
      "text/plain": [
       "(array([-177.55386441]), array([12.27295813]))"
      ]
     },
     "execution_count": 8,
     "metadata": {},
     "output_type": "execute_result"
    }
   ],
   "source": [
    "def Gradient(m,b) :\n",
    "    \n",
    "    grad_m =0; grad_b = 0;\n",
    "\n",
    "    for i in range(N) :\n",
    "        grad_m += -X[i]*(Y[i]- (m*X[i]+b))\n",
    "        grad_b += - (Y[i]- (m*X[i]+b) )\n",
    "\n",
    "    return grad_m, grad_b\n",
    "\n",
    "Gradient(-1,-1)"
   ]
  },
  {
   "cell_type": "code",
   "execution_count": 9,
   "metadata": {},
   "outputs": [
    {
     "data": {
      "text/plain": [
       "array([[ 0.45066541],\n",
       "       [-0.56262506]])"
      ]
     },
     "execution_count": 9,
     "metadata": {},
     "output_type": "execute_result"
    }
   ],
   "source": [
    "n_epochs      = 1000\n",
    "learning_rate = 0.01\n",
    "theta         = np.random.rand(2,1)\n",
    "\n",
    "for i in range(n_epochs) :\n",
    "    grad_m, grad_b = Gradient(theta[0], theta[1])\n",
    "    theta[0] -= learning_rate*grad_m\n",
    "    theta[1] -= learning_rate*grad_b\n",
    "\n",
    "\n",
    "theta "
   ]
  },
  {
   "cell_type": "code",
   "execution_count": 10,
   "metadata": {},
   "outputs": [
    {
     "data": {
      "text/plain": [
       "<matplotlib.collections.PathCollection at 0x10abb1b50>"
      ]
     },
     "execution_count": 10,
     "metadata": {},
     "output_type": "execute_result"
    },
    {
     "data": {
      "image/png": "[encoded data removed]",
      "text/plain": [
       "<Figure size 640x480 with 1 Axes>"
      ]
     },
     "metadata": {},
     "output_type": "display_data"
    }
   ],
   "source": [
    "predict = theta[0]*X + theta[1]\n",
    "plt.plot(X, predict, 'r')\n",
    "plt.scatter(x,y)"
   ]
  },
  {
   "cell_type": "code",
   "execution_count": 13,
   "metadata": {},
   "outputs": [
    {
     "data": {
      "text/plain": [
       "MyModel()"
      ]
     },
     "execution_count": 13,
     "metadata": {},
     "output_type": "execute_result"
    }
   ],
   "source": [
    "# Create the linear regression model\n",
    "\n",
    "class MyModel(nn.Module):\n",
    "    def __init__(self):\n",
    "        super(MyModel, self).__init__()\n",
    "        self.m = torch.nn.Parameter(torch.randn(1))\n",
    "        self.b = torch.nn.Parameter(torch.randn(1))\n",
    "\n",
    "    def forward(self, x):\n",
    "        return self.m*x + self.b\n",
    "\n",
    "\n",
    "model = MyModel()\n",
    "\n",
    "model\n"
   ]
  },
  {
   "cell_type": "code",
   "execution_count": 14,
   "metadata": {},
   "outputs": [],
   "source": [
    "# Loss and optimizer\n",
    "criterion = nn.MSELoss()\n",
    "optimizer = torch.optim.SGD(model.parameters(), lr=0.05)"
   ]
  },
  {
   "cell_type": "code",
   "execution_count": 15,
   "metadata": {},
   "outputs": [],
   "source": [
    "# In ML we want our data to be of shape:\n",
    "# (num_samples x num_dimensions)\n",
    "X = X.reshape(N, 1)\n",
    "Y = Y.reshape(N, 1)\n",
    "\n",
    "# PyTorch uses float32 by default\n",
    "# Numpy creates float64 by default\n",
    "inputs = torch.from_numpy(X.astype(np.float32))\n",
    "targets = torch.from_numpy(Y.astype(np.float32))"
   ]
  },
  {
   "cell_type": "code",
   "execution_count": 17,
   "metadata": {},
   "outputs": [
    {
     "name": "stdout",
     "output_type": "stream",
     "text": [
      "Epoch 1/30, Loss: 0.0812\n",
      "Epoch 2/30, Loss: 0.0812\n",
      "Epoch 3/30, Loss: 0.0812\n",
      "Epoch 4/30, Loss: 0.0812\n",
      "Epoch 5/30, Loss: 0.0812\n",
      "Epoch 6/30, Loss: 0.0812\n",
      "Epoch 7/30, Loss: 0.0812\n",
      "Epoch 8/30, Loss: 0.0812\n",
      "Epoch 9/30, Loss: 0.0812\n",
      "Epoch 10/30, Loss: 0.0812\n",
      "Epoch 11/30, Loss: 0.0812\n",
      "Epoch 12/30, Loss: 0.0812\n",
      "Epoch 13/30, Loss: 0.0812\n",
      "Epoch 14/30, Loss: 0.0812\n",
      "Epoch 15/30, Loss: 0.0812\n",
      "Epoch 16/30, Loss: 0.0812\n",
      "Epoch 17/30, Loss: 0.0812\n",
      "Epoch 18/30, Loss: 0.0812\n",
      "Epoch 19/30, Loss: 0.0812\n",
      "Epoch 20/30, Loss: 0.0812\n",
      "Epoch 21/30, Loss: 0.0812\n",
      "Epoch 22/30, Loss: 0.0812\n",
      "Epoch 23/30, Loss: 0.0812\n",
      "Epoch 24/30, Loss: 0.0812\n",
      "Epoch 25/30, Loss: 0.0812\n",
      "Epoch 26/30, Loss: 0.0812\n",
      "Epoch 27/30, Loss: 0.0812\n",
      "Epoch 28/30, Loss: 0.0812\n",
      "Epoch 29/30, Loss: 0.0812\n",
      "Epoch 30/30, Loss: 0.0812\n"
     ]
    }
   ],
   "source": [
    "# Train the model\n",
    "n_epochs = 30\n",
    "losses = []\n",
    "for it in range(n_epochs):\n",
    "  # zero the parameter gradients\n",
    "  optimizer.zero_grad()\n",
    "\n",
    "  # Forward pass\n",
    "  outputs = model(inputs)\n",
    "  loss = criterion(outputs, targets)\n",
    "\n",
    "  # keep the loss so we can plot it later\n",
    "  losses.append(loss.item())\n",
    "    \n",
    "  # Backward and optimize\n",
    "  loss.backward()\n",
    "  optimizer.step()\n",
    "    \n",
    "  print(f'Epoch {it+1}/{n_epochs}, Loss: {loss.item():.4f}')"
   ]
  },
  {
   "cell_type": "code",
   "execution_count": 18,
   "metadata": {},
   "outputs": [
    {
     "data": {
      "image/png": "[encoded data removed]",
      "text/plain": [
       "<Figure size 640x480 with 1 Axes>"
      ]
     },
     "metadata": {},
     "output_type": "display_data"
    }
   ],
   "source": [
    "# Plot the loss per iteration\n",
    "plt.plot(losses);"
   ]
  },
  {
   "cell_type": "code",
   "execution_count": 19,
   "metadata": {},
   "outputs": [
    {
     "data": {
      "image/png": "[encoded data removed]",
      "text/plain": [
       "<Figure size 640x480 with 1 Axes>"
      ]
     },
     "metadata": {},
     "output_type": "display_data"
    }
   ],
   "source": [
    "# Plot the graph\n",
    "predicted = model(inputs).detach().numpy()\n",
    "plt.scatter(X, Y, label='Original data')\n",
    "plt.plot(X, predicted, label='Fitted line')\n",
    "plt.legend()\n",
    "plt.show()"
   ]
  },
  {
   "cell_type": "code",
   "execution_count": 22,
   "metadata": {},
   "outputs": [
    {
     "name": "stdout",
     "output_type": "stream",
     "text": [
      "[0.45070335] [-0.5623406]\n"
     ]
    }
   ],
   "source": [
    "# Important!\n",
    "# In order to test the efficacy of our model, synthetic data is useful\n",
    "# Why?\n",
    "# Because ***we know the answer***\n",
    "# True values of (w, b) are (0.5, -1)\n",
    "m = model.m.data.numpy()\n",
    "b = model.b.data.numpy()\n",
    "print(m, b)"
   ]
  },
  {
   "cell_type": "code",
   "execution_count": null,
   "metadata": {},
   "outputs": [],
   "source": []
  }
 ],
 "metadata": {
  "kernelspec": {
   "display_name": "torch",
   "language": "python",
   "name": "python3"
  },
  "language_info": {
   "codemirror_mode": {
    "name": "ipython",
    "version": 3
   },
   "file_extension": ".py",
   "mimetype": "text/x-python",
   "name": "python",
   "nbconvert_exporter": "python",
   "pygments_lexer": "ipython3",
   "version": "3.9.13 | packaged by conda-forge | (main, May 27 2022, 17:00:33) \n[Clang 13.0.1 ]"
  },
  "orig_nbformat": 4,
  "vscode": {
   "interpreter": {
    "hash": "7288f315087fdb0a15835a979a50c8db3e0e21492381bafafe9d84f995bbb7dd"
   }
  }
 },
 "nbformat": 4,
 "nbformat_minor": 2
}
