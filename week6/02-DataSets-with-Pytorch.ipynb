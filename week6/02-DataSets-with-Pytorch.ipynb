{
 "cells": [
  {
   "cell_type": "markdown",
   "metadata": {},
   "source": [
    "# Datasets with PyTorch\n"
   ]
  },
  {
   "cell_type": "markdown",
   "metadata": {},
   "source": [
    "## Perform standard imports"
   ]
  },
  {
   "cell_type": "code",
   "execution_count": 1,
   "metadata": {},
   "outputs": [],
   "source": [
    "import torch\n",
    "import numpy as np\n",
    "import pandas as pd\n",
    "import matplotlib.pyplot as plt\n",
    "%matplotlib inline"
   ]
  },
  {
   "cell_type": "markdown",
   "metadata": {},
   "source": [
    "# Loading data from files\n",
    "We've seen how to load NumPy arrays into PyTorch, and anyone familiar with <tt>pandas.read_csv()</tt> can use it to prepare data before forming tensors. Here we'll load the <a href='https://en.wikipedia.org/wiki/Iris_flower_data_set'>iris flower dataset</a> saved as a .csv file."
   ]
  },
  {
   "cell_type": "code",
   "execution_count": 2,
   "metadata": {},
   "outputs": [
    {
     "data": {
      "text/html": [
       "<div>\n",
       "<style scoped>\n",
       "    .dataframe tbody tr th:only-of-type {\n",
       "        vertical-align: middle;\n",
       "    }\n",
       "\n",
       "    .dataframe tbody tr th {\n",
       "        vertical-align: top;\n",
       "    }\n",
       "\n",
       "    .dataframe thead th {\n",
       "        text-align: right;\n",
       "    }\n",
       "</style>\n",
       "<table border=\"1\" class=\"dataframe\">\n",
       "  <thead>\n",
       "    <tr style=\"text-align: right;\">\n",
       "      <th></th>\n",
       "      <th>sepal length (cm)</th>\n",
       "      <th>sepal width (cm)</th>\n",
       "      <th>petal length (cm)</th>\n",
       "      <th>petal width (cm)</th>\n",
       "      <th>target</th>\n",
       "    </tr>\n",
       "  </thead>\n",
       "  <tbody>\n",
       "    <tr>\n",
       "      <th>0</th>\n",
       "      <td>5.1</td>\n",
       "      <td>3.5</td>\n",
       "      <td>1.4</td>\n",
       "      <td>0.2</td>\n",
       "      <td>0.0</td>\n",
       "    </tr>\n",
       "    <tr>\n",
       "      <th>1</th>\n",
       "      <td>4.9</td>\n",
       "      <td>3.0</td>\n",
       "      <td>1.4</td>\n",
       "      <td>0.2</td>\n",
       "      <td>0.0</td>\n",
       "    </tr>\n",
       "    <tr>\n",
       "      <th>2</th>\n",
       "      <td>4.7</td>\n",
       "      <td>3.2</td>\n",
       "      <td>1.3</td>\n",
       "      <td>0.2</td>\n",
       "      <td>0.0</td>\n",
       "    </tr>\n",
       "    <tr>\n",
       "      <th>3</th>\n",
       "      <td>4.6</td>\n",
       "      <td>3.1</td>\n",
       "      <td>1.5</td>\n",
       "      <td>0.2</td>\n",
       "      <td>0.0</td>\n",
       "    </tr>\n",
       "    <tr>\n",
       "      <th>4</th>\n",
       "      <td>5.0</td>\n",
       "      <td>3.6</td>\n",
       "      <td>1.4</td>\n",
       "      <td>0.2</td>\n",
       "      <td>0.0</td>\n",
       "    </tr>\n",
       "  </tbody>\n",
       "</table>\n",
       "</div>"
      ],
      "text/plain": [
       "   sepal length (cm)  sepal width (cm)  petal length (cm)  petal width (cm)  \\\n",
       "0                5.1               3.5                1.4               0.2   \n",
       "1                4.9               3.0                1.4               0.2   \n",
       "2                4.7               3.2                1.3               0.2   \n",
       "3                4.6               3.1                1.5               0.2   \n",
       "4                5.0               3.6                1.4               0.2   \n",
       "\n",
       "   target  \n",
       "0     0.0  \n",
       "1     0.0  \n",
       "2     0.0  \n",
       "3     0.0  \n",
       "4     0.0  "
      ]
     },
     "execution_count": 2,
     "metadata": {},
     "output_type": "execute_result"
    }
   ],
   "source": [
    "df = pd.read_csv('iris.csv')\n",
    "df.head()"
   ]
  },
  {
   "cell_type": "code",
   "execution_count": 3,
   "metadata": {},
   "outputs": [
    {
     "data": {
      "text/plain": [
       "(150, 5)"
      ]
     },
     "execution_count": 3,
     "metadata": {},
     "output_type": "execute_result"
    }
   ],
   "source": [
    "df.shape"
   ]
  },
  {
   "cell_type": "code",
   "execution_count": 4,
   "metadata": {},
   "outputs": [
    {
     "data": {
      "text/plain": [
       "0.0    50\n",
       "1.0    50\n",
       "2.0    50\n",
       "Name: target, dtype: int64"
      ]
     },
     "execution_count": 4,
     "metadata": {},
     "output_type": "execute_result"
    }
   ],
   "source": [
    "df['target'].value_counts()"
   ]
  },
  {
   "cell_type": "markdown",
   "metadata": {},
   "source": [
    "## Plot the data"
   ]
  },
  {
   "cell_type": "code",
   "execution_count": 5,
   "metadata": {},
   "outputs": [
    {
     "data": {
      "image/png": "[encoded data removed]",
      "text/plain": [
       "<Figure size 1000x700 with 4 Axes>"
      ]
     },
     "metadata": {},
     "output_type": "display_data"
    }
   ],
   "source": [
    "fig, axes = plt.subplots(nrows=2, ncols=2, figsize=(10,7))\n",
    "fig.tight_layout()\n",
    "\n",
    "plots = [(0,1),(2,3),(0,2),(1,3)]\n",
    "colors = ['b', 'r', 'g']\n",
    "labels = ['Iris setosa','Iris virginica','Iris versicolor']\n",
    "\n",
    "for i, ax in enumerate(axes.flat):\n",
    "    for j in range(3):\n",
    "        x = df.columns[plots[i][0]]\n",
    "        y = df.columns[plots[i][1]]\n",
    "        ax.scatter(df[df['target']==j][x], df[df['target']==j][y], color=colors[j])\n",
    "        ax.set(xlabel=x, ylabel=y)\n",
    "\n",
    "fig.legend(labels=labels, loc=3, bbox_to_anchor=(1.0,0.85))\n",
    "plt.show()"
   ]
  },
  {
   "cell_type": "markdown",
   "metadata": {},
   "source": [
    "The iris dataset consists of 50 samples each from three species of Iris (<em>Iris setosa</em>, <em>Iris virginica</em> and <em>Iris versicolor</em>), for 150 total samples. We have four features (sepal length & width, petal length & width) and three unique labels:\n",
    "0. <em>Iris setosa</em>\n",
    "1. <em>Iris virginica</em>\n",
    "2. <em>Iris versicolor</em>\n",
    "\n",
    "### The classic method for building train/test split tensors\n",
    "Before introducing PyTorch's Dataset and DataLoader classes, we'll take a quick look at the alternative."
   ]
  },
  {
   "cell_type": "code",
   "execution_count": 5,
   "metadata": {},
   "outputs": [],
   "source": [
    "from sklearn.model_selection import train_test_split\n",
    "\n",
    "train_X, test_X, train_y, test_y = train_test_split(df.drop('target',axis=1).values,\n",
    "                                                    df['target'].values, test_size=0.2,\n",
    "                                                    random_state=33)\n",
    "\n",
    "X_train = torch.FloatTensor(train_X)\n",
    "X_test = torch.FloatTensor(test_X)\n",
    "y_train = torch.LongTensor(train_y).reshape(-1, 1)\n",
    "y_test = torch.LongTensor(test_y).reshape(-1, 1)"
   ]
  },
  {
   "cell_type": "code",
   "execution_count": 6,
   "metadata": {},
   "outputs": [
    {
     "name": "stdout",
     "output_type": "stream",
     "text": [
      "Training size: 120\n",
      "Labels: tensor([0, 1, 2])\n",
      "Counts: tensor([42, 42, 36])\n"
     ]
    }
   ],
   "source": [
    "print(f'Training size: {len(y_train)}')\n",
    "labels, counts = y_train.unique(return_counts=True)\n",
    "print(f'Labels: {labels}\\nCounts: {counts}')"
   ]
  },
  {
   "cell_type": "code",
   "execution_count": 8,
   "metadata": {},
   "outputs": [
    {
     "data": {
      "text/plain": [
       "torch.Size([120, 4])"
      ]
     },
     "execution_count": 8,
     "metadata": {},
     "output_type": "execute_result"
    }
   ],
   "source": [
    "X_train.size()"
   ]
  },
  {
   "cell_type": "code",
   "execution_count": 9,
   "metadata": {},
   "outputs": [
    {
     "data": {
      "text/plain": [
       "torch.Size([120, 1])"
      ]
     },
     "execution_count": 9,
     "metadata": {},
     "output_type": "execute_result"
    }
   ],
   "source": [
    "y_train.size()"
   ]
  },
  {
   "cell_type": "markdown",
   "metadata": {},
   "source": [
    "<div class=\"alert alert-info\"><strong>NOTE: </strong>It's up to us to remember which columns correspond to which features.</div>"
   ]
  },
  {
   "cell_type": "markdown",
   "metadata": {},
   "source": [
    "## Using PyTorch's Dataset and DataLoader classes\n",
    "A far better alternative is to leverage PyTorch's <a href='https://pytorch.org/docs/stable/data.html'><strong><tt>Dataset</tt></strong></a> and <a href='https://pytorch.org/docs/stable/data.html#torch.utils.data.DataLoader'><strong><tt>DataLoader</strong></tt></a> classes.\n",
    "\n",
    "Usually, to set up a Dataset specific to our investigation we would define our own custom class that inherits from <tt>torch.utils.data.Dataset</tt> (we'll do this in the CNN section). For now, we can use the built-in <a href='https://pytorch.org/docs/stable/data.html#torch.utils.data.TensorDataset'><strong><tt>TensorDataset</tt></strong></a> class."
   ]
  },
  {
   "cell_type": "code",
   "execution_count": 13,
   "metadata": {},
   "outputs": [],
   "source": [
    "from torch.utils.data import TensorDataset, DataLoader\n",
    "\n",
    "data = df.drop('target',axis=1).values\n",
    "labels = df['target'].values\n",
    "\n"
   ]
  },
  {
   "cell_type": "code",
   "execution_count": 14,
   "metadata": {},
   "outputs": [
    {
     "data": {
      "text/plain": [
       "(150, 4)"
      ]
     },
     "execution_count": 14,
     "metadata": {},
     "output_type": "execute_result"
    }
   ],
   "source": [
    "data.shape"
   ]
  },
  {
   "cell_type": "code",
   "execution_count": 15,
   "metadata": {},
   "outputs": [
    {
     "data": {
      "text/plain": [
       "(150,)"
      ]
     },
     "execution_count": 15,
     "metadata": {},
     "output_type": "execute_result"
    }
   ],
   "source": [
    "labels.shape"
   ]
  },
  {
   "cell_type": "code",
   "execution_count": 17,
   "metadata": {},
   "outputs": [],
   "source": [
    "iris = TensorDataset(torch.FloatTensor(data),torch.LongTensor(labels))"
   ]
  },
  {
   "cell_type": "code",
   "execution_count": 19,
   "metadata": {},
   "outputs": [
    {
     "data": {
      "text/plain": [
       "150"
      ]
     },
     "execution_count": 19,
     "metadata": {},
     "output_type": "execute_result"
    }
   ],
   "source": [
    "len(iris)"
   ]
  },
  {
   "cell_type": "code",
   "execution_count": 15,
   "metadata": {},
   "outputs": [
    {
     "data": {
      "text/plain": [
       "torch.utils.data.dataset.TensorDataset"
      ]
     },
     "execution_count": 15,
     "metadata": {},
     "output_type": "execute_result"
    }
   ],
   "source": [
    "type(iris)"
   ]
  },
  {
   "cell_type": "code",
   "execution_count": 21,
   "metadata": {},
   "outputs": [
    {
     "name": "stdout",
     "output_type": "stream",
     "text": [
      "x=  tensor([5.1000, 3.5000, 1.4000, 0.2000]) y= tensor(0) i 1\n",
      "x=  tensor([4.9000, 3.0000, 1.4000, 0.2000]) y= tensor(0) i 2\n",
      "x=  tensor([4.7000, 3.2000, 1.3000, 0.2000]) y= tensor(0) i 3\n",
      "x=  tensor([4.6000, 3.1000, 1.5000, 0.2000]) y= tensor(0) i 4\n",
      "x=  tensor([5.0000, 3.6000, 1.4000, 0.2000]) y= tensor(0) i 5\n",
      "x=  tensor([5.4000, 3.9000, 1.7000, 0.4000]) y= tensor(0) i 6\n",
      "x=  tensor([4.6000, 3.4000, 1.4000, 0.3000]) y= tensor(0) i 7\n",
      "x=  tensor([5.0000, 3.4000, 1.5000, 0.2000]) y= tensor(0) i 8\n",
      "x=  tensor([4.4000, 2.9000, 1.4000, 0.2000]) y= tensor(0) i 9\n",
      "x=  tensor([4.9000, 3.1000, 1.5000, 0.1000]) y= tensor(0) i 10\n",
      "x=  tensor([5.4000, 3.7000, 1.5000, 0.2000]) y= tensor(0) i 11\n",
      "x=  tensor([4.8000, 3.4000, 1.6000, 0.2000]) y= tensor(0) i 12\n",
      "x=  tensor([4.8000, 3.0000, 1.4000, 0.1000]) y= tensor(0) i 13\n",
      "x=  tensor([4.3000, 3.0000, 1.1000, 0.1000]) y= tensor(0) i 14\n",
      "x=  tensor([5.8000, 4.0000, 1.2000, 0.2000]) y= tensor(0) i 15\n",
      "x=  tensor([5.7000, 4.4000, 1.5000, 0.4000]) y= tensor(0) i 16\n",
      "x=  tensor([5.4000, 3.9000, 1.3000, 0.4000]) y= tensor(0) i 17\n",
      "x=  tensor([5.1000, 3.5000, 1.4000, 0.3000]) y= tensor(0) i 18\n",
      "x=  tensor([5.7000, 3.8000, 1.7000, 0.3000]) y= tensor(0) i 19\n",
      "x=  tensor([5.1000, 3.8000, 1.5000, 0.3000]) y= tensor(0) i 20\n",
      "x=  tensor([5.4000, 3.4000, 1.7000, 0.2000]) y= tensor(0) i 21\n",
      "x=  tensor([5.1000, 3.7000, 1.5000, 0.4000]) y= tensor(0) i 22\n",
      "x=  tensor([4.6000, 3.6000, 1.0000, 0.2000]) y= tensor(0) i 23\n",
      "x=  tensor([5.1000, 3.3000, 1.7000, 0.5000]) y= tensor(0) i 24\n",
      "x=  tensor([4.8000, 3.4000, 1.9000, 0.2000]) y= tensor(0) i 25\n",
      "x=  tensor([5.0000, 3.0000, 1.6000, 0.2000]) y= tensor(0) i 26\n",
      "x=  tensor([5.0000, 3.4000, 1.6000, 0.4000]) y= tensor(0) i 27\n",
      "x=  tensor([5.2000, 3.5000, 1.5000, 0.2000]) y= tensor(0) i 28\n",
      "x=  tensor([5.2000, 3.4000, 1.4000, 0.2000]) y= tensor(0) i 29\n",
      "x=  tensor([4.7000, 3.2000, 1.6000, 0.2000]) y= tensor(0) i 30\n",
      "x=  tensor([4.8000, 3.1000, 1.6000, 0.2000]) y= tensor(0) i 31\n",
      "x=  tensor([5.4000, 3.4000, 1.5000, 0.4000]) y= tensor(0) i 32\n",
      "x=  tensor([5.2000, 4.1000, 1.5000, 0.1000]) y= tensor(0) i 33\n",
      "x=  tensor([5.5000, 4.2000, 1.4000, 0.2000]) y= tensor(0) i 34\n",
      "x=  tensor([4.9000, 3.1000, 1.5000, 0.1000]) y= tensor(0) i 35\n",
      "x=  tensor([5.0000, 3.2000, 1.2000, 0.2000]) y= tensor(0) i 36\n",
      "x=  tensor([5.5000, 3.5000, 1.3000, 0.2000]) y= tensor(0) i 37\n",
      "x=  tensor([4.9000, 3.1000, 1.5000, 0.1000]) y= tensor(0) i 38\n",
      "x=  tensor([4.4000, 3.0000, 1.3000, 0.2000]) y= tensor(0) i 39\n",
      "x=  tensor([5.1000, 3.4000, 1.5000, 0.2000]) y= tensor(0) i 40\n",
      "x=  tensor([5.0000, 3.5000, 1.3000, 0.3000]) y= tensor(0) i 41\n",
      "x=  tensor([4.5000, 2.3000, 1.3000, 0.3000]) y= tensor(0) i 42\n",
      "x=  tensor([4.4000, 3.2000, 1.3000, 0.2000]) y= tensor(0) i 43\n",
      "x=  tensor([5.0000, 3.5000, 1.6000, 0.6000]) y= tensor(0) i 44\n",
      "x=  tensor([5.1000, 3.8000, 1.9000, 0.4000]) y= tensor(0) i 45\n",
      "x=  tensor([4.8000, 3.0000, 1.4000, 0.3000]) y= tensor(0) i 46\n",
      "x=  tensor([5.1000, 3.8000, 1.6000, 0.2000]) y= tensor(0) i 47\n",
      "x=  tensor([4.6000, 3.2000, 1.4000, 0.2000]) y= tensor(0) i 48\n",
      "x=  tensor([5.3000, 3.7000, 1.5000, 0.2000]) y= tensor(0) i 49\n",
      "x=  tensor([5.0000, 3.3000, 1.4000, 0.2000]) y= tensor(0) i 50\n",
      "x=  tensor([7.0000, 3.2000, 4.7000, 1.4000]) y= tensor(1) i 51\n",
      "x=  tensor([6.4000, 3.2000, 4.5000, 1.5000]) y= tensor(1) i 52\n",
      "x=  tensor([6.9000, 3.1000, 4.9000, 1.5000]) y= tensor(1) i 53\n",
      "x=  tensor([5.5000, 2.3000, 4.0000, 1.3000]) y= tensor(1) i 54\n",
      "x=  tensor([6.5000, 2.8000, 4.6000, 1.5000]) y= tensor(1) i 55\n",
      "x=  tensor([5.7000, 2.8000, 4.5000, 1.3000]) y= tensor(1) i 56\n",
      "x=  tensor([6.3000, 3.3000, 4.7000, 1.6000]) y= tensor(1) i 57\n",
      "x=  tensor([4.9000, 2.4000, 3.3000, 1.0000]) y= tensor(1) i 58\n",
      "x=  tensor([6.6000, 2.9000, 4.6000, 1.3000]) y= tensor(1) i 59\n",
      "x=  tensor([5.2000, 2.7000, 3.9000, 1.4000]) y= tensor(1) i 60\n",
      "x=  tensor([5.0000, 2.0000, 3.5000, 1.0000]) y= tensor(1) i 61\n",
      "x=  tensor([5.9000, 3.0000, 4.2000, 1.5000]) y= tensor(1) i 62\n",
      "x=  tensor([6.0000, 2.2000, 4.0000, 1.0000]) y= tensor(1) i 63\n",
      "x=  tensor([6.1000, 2.9000, 4.7000, 1.4000]) y= tensor(1) i 64\n",
      "x=  tensor([5.6000, 2.9000, 3.6000, 1.3000]) y= tensor(1) i 65\n",
      "x=  tensor([6.7000, 3.1000, 4.4000, 1.4000]) y= tensor(1) i 66\n",
      "x=  tensor([5.6000, 3.0000, 4.5000, 1.5000]) y= tensor(1) i 67\n",
      "x=  tensor([5.8000, 2.7000, 4.1000, 1.0000]) y= tensor(1) i 68\n",
      "x=  tensor([6.2000, 2.2000, 4.5000, 1.5000]) y= tensor(1) i 69\n",
      "x=  tensor([5.6000, 2.5000, 3.9000, 1.1000]) y= tensor(1) i 70\n",
      "x=  tensor([5.9000, 3.2000, 4.8000, 1.8000]) y= tensor(1) i 71\n",
      "x=  tensor([6.1000, 2.8000, 4.0000, 1.3000]) y= tensor(1) i 72\n",
      "x=  tensor([6.3000, 2.5000, 4.9000, 1.5000]) y= tensor(1) i 73\n",
      "x=  tensor([6.1000, 2.8000, 4.7000, 1.2000]) y= tensor(1) i 74\n",
      "x=  tensor([6.4000, 2.9000, 4.3000, 1.3000]) y= tensor(1) i 75\n",
      "x=  tensor([6.6000, 3.0000, 4.4000, 1.4000]) y= tensor(1) i 76\n",
      "x=  tensor([6.8000, 2.8000, 4.8000, 1.4000]) y= tensor(1) i 77\n",
      "x=  tensor([6.7000, 3.0000, 5.0000, 1.7000]) y= tensor(1) i 78\n",
      "x=  tensor([6.0000, 2.9000, 4.5000, 1.5000]) y= tensor(1) i 79\n",
      "x=  tensor([5.7000, 2.6000, 3.5000, 1.0000]) y= tensor(1) i 80\n",
      "x=  tensor([5.5000, 2.4000, 3.8000, 1.1000]) y= tensor(1) i 81\n",
      "x=  tensor([5.5000, 2.4000, 3.7000, 1.0000]) y= tensor(1) i 82\n",
      "x=  tensor([5.8000, 2.7000, 3.9000, 1.2000]) y= tensor(1) i 83\n",
      "x=  tensor([6.0000, 2.7000, 5.1000, 1.6000]) y= tensor(1) i 84\n",
      "x=  tensor([5.4000, 3.0000, 4.5000, 1.5000]) y= tensor(1) i 85\n",
      "x=  tensor([6.0000, 3.4000, 4.5000, 1.6000]) y= tensor(1) i 86\n",
      "x=  tensor([6.7000, 3.1000, 4.7000, 1.5000]) y= tensor(1) i 87\n",
      "x=  tensor([6.3000, 2.3000, 4.4000, 1.3000]) y= tensor(1) i 88\n",
      "x=  tensor([5.6000, 3.0000, 4.1000, 1.3000]) y= tensor(1) i 89\n",
      "x=  tensor([5.5000, 2.5000, 4.0000, 1.3000]) y= tensor(1) i 90\n",
      "x=  tensor([5.5000, 2.6000, 4.4000, 1.2000]) y= tensor(1) i 91\n",
      "x=  tensor([6.1000, 3.0000, 4.6000, 1.4000]) y= tensor(1) i 92\n",
      "x=  tensor([5.8000, 2.6000, 4.0000, 1.2000]) y= tensor(1) i 93\n",
      "x=  tensor([5.0000, 2.3000, 3.3000, 1.0000]) y= tensor(1) i 94\n",
      "x=  tensor([5.6000, 2.7000, 4.2000, 1.3000]) y= tensor(1) i 95\n",
      "x=  tensor([5.7000, 3.0000, 4.2000, 1.2000]) y= tensor(1) i 96\n",
      "x=  tensor([5.7000, 2.9000, 4.2000, 1.3000]) y= tensor(1) i 97\n",
      "x=  tensor([6.2000, 2.9000, 4.3000, 1.3000]) y= tensor(1) i 98\n",
      "x=  tensor([5.1000, 2.5000, 3.0000, 1.1000]) y= tensor(1) i 99\n",
      "x=  tensor([5.7000, 2.8000, 4.1000, 1.3000]) y= tensor(1) i 100\n",
      "x=  tensor([6.3000, 3.3000, 6.0000, 2.5000]) y= tensor(2) i 101\n",
      "x=  tensor([5.8000, 2.7000, 5.1000, 1.9000]) y= tensor(2) i 102\n",
      "x=  tensor([7.1000, 3.0000, 5.9000, 2.1000]) y= tensor(2) i 103\n",
      "x=  tensor([6.3000, 2.9000, 5.6000, 1.8000]) y= tensor(2) i 104\n",
      "x=  tensor([6.5000, 3.0000, 5.8000, 2.2000]) y= tensor(2) i 105\n",
      "x=  tensor([7.6000, 3.0000, 6.6000, 2.1000]) y= tensor(2) i 106\n",
      "x=  tensor([4.9000, 2.5000, 4.5000, 1.7000]) y= tensor(2) i 107\n",
      "x=  tensor([7.3000, 2.9000, 6.3000, 1.8000]) y= tensor(2) i 108\n",
      "x=  tensor([6.7000, 2.5000, 5.8000, 1.8000]) y= tensor(2) i 109\n",
      "x=  tensor([7.2000, 3.6000, 6.1000, 2.5000]) y= tensor(2) i 110\n",
      "x=  tensor([6.5000, 3.2000, 5.1000, 2.0000]) y= tensor(2) i 111\n",
      "x=  tensor([6.4000, 2.7000, 5.3000, 1.9000]) y= tensor(2) i 112\n",
      "x=  tensor([6.8000, 3.0000, 5.5000, 2.1000]) y= tensor(2) i 113\n",
      "x=  tensor([5.7000, 2.5000, 5.0000, 2.0000]) y= tensor(2) i 114\n",
      "x=  tensor([5.8000, 2.8000, 5.1000, 2.4000]) y= tensor(2) i 115\n",
      "x=  tensor([6.4000, 3.2000, 5.3000, 2.3000]) y= tensor(2) i 116\n",
      "x=  tensor([6.5000, 3.0000, 5.5000, 1.8000]) y= tensor(2) i 117\n",
      "x=  tensor([7.7000, 3.8000, 6.7000, 2.2000]) y= tensor(2) i 118\n",
      "x=  tensor([7.7000, 2.6000, 6.9000, 2.3000]) y= tensor(2) i 119\n",
      "x=  tensor([6.0000, 2.2000, 5.0000, 1.5000]) y= tensor(2) i 120\n",
      "x=  tensor([6.9000, 3.2000, 5.7000, 2.3000]) y= tensor(2) i 121\n",
      "x=  tensor([5.6000, 2.8000, 4.9000, 2.0000]) y= tensor(2) i 122\n",
      "x=  tensor([7.7000, 2.8000, 6.7000, 2.0000]) y= tensor(2) i 123\n",
      "x=  tensor([6.3000, 2.7000, 4.9000, 1.8000]) y= tensor(2) i 124\n",
      "x=  tensor([6.7000, 3.3000, 5.7000, 2.1000]) y= tensor(2) i 125\n",
      "x=  tensor([7.2000, 3.2000, 6.0000, 1.8000]) y= tensor(2) i 126\n",
      "x=  tensor([6.2000, 2.8000, 4.8000, 1.8000]) y= tensor(2) i 127\n",
      "x=  tensor([6.1000, 3.0000, 4.9000, 1.8000]) y= tensor(2) i 128\n",
      "x=  tensor([6.4000, 2.8000, 5.6000, 2.1000]) y= tensor(2) i 129\n",
      "x=  tensor([7.2000, 3.0000, 5.8000, 1.6000]) y= tensor(2) i 130\n",
      "x=  tensor([7.4000, 2.8000, 6.1000, 1.9000]) y= tensor(2) i 131\n",
      "x=  tensor([7.9000, 3.8000, 6.4000, 2.0000]) y= tensor(2) i 132\n",
      "x=  tensor([6.4000, 2.8000, 5.6000, 2.2000]) y= tensor(2) i 133\n",
      "x=  tensor([6.3000, 2.8000, 5.1000, 1.5000]) y= tensor(2) i 134\n",
      "x=  tensor([6.1000, 2.6000, 5.6000, 1.4000]) y= tensor(2) i 135\n",
      "x=  tensor([7.7000, 3.0000, 6.1000, 2.3000]) y= tensor(2) i 136\n",
      "x=  tensor([6.3000, 3.4000, 5.6000, 2.4000]) y= tensor(2) i 137\n",
      "x=  tensor([6.4000, 3.1000, 5.5000, 1.8000]) y= tensor(2) i 138\n",
      "x=  tensor([6.0000, 3.0000, 4.8000, 1.8000]) y= tensor(2) i 139\n",
      "x=  tensor([6.9000, 3.1000, 5.4000, 2.1000]) y= tensor(2) i 140\n",
      "x=  tensor([6.7000, 3.1000, 5.6000, 2.4000]) y= tensor(2) i 141\n",
      "x=  tensor([6.9000, 3.1000, 5.1000, 2.3000]) y= tensor(2) i 142\n",
      "x=  tensor([5.8000, 2.7000, 5.1000, 1.9000]) y= tensor(2) i 143\n",
      "x=  tensor([6.8000, 3.2000, 5.9000, 2.3000]) y= tensor(2) i 144\n",
      "x=  tensor([6.7000, 3.3000, 5.7000, 2.5000]) y= tensor(2) i 145\n",
      "x=  tensor([6.7000, 3.0000, 5.2000, 2.3000]) y= tensor(2) i 146\n",
      "x=  tensor([6.3000, 2.5000, 5.0000, 1.9000]) y= tensor(2) i 147\n",
      "x=  tensor([6.5000, 3.0000, 5.2000, 2.0000]) y= tensor(2) i 148\n",
      "x=  tensor([6.2000, 3.4000, 5.4000, 2.3000]) y= tensor(2) i 149\n",
      "x=  tensor([5.9000, 3.0000, 5.1000, 1.8000]) y= tensor(2) i 150\n"
     ]
    }
   ],
   "source": [
    "i = 0\n",
    "for x,y in iris:\n",
    "    i=i+1\n",
    "    print('x= ', x, 'y=',y,'i',i)\n",
    "  "
   ]
  },
  {
   "cell_type": "markdown",
   "metadata": {},
   "source": [
    "Once we have a dataset we can wrap it with a DataLoader. This gives us a powerful sampler that provides single- or multi-process iterators over the dataset."
   ]
  },
  {
   "cell_type": "code",
   "execution_count": 22,
   "metadata": {},
   "outputs": [],
   "source": [
    "iris_loader = DataLoader(iris, batch_size=20, shuffle=True)"
   ]
  },
  {
   "cell_type": "code",
   "execution_count": 25,
   "metadata": {
    "scrolled": false
   },
   "outputs": [
    {
     "name": "stdout",
     "output_type": "stream",
     "text": [
      "torch.Size([20, 4]) torch.Size([20])\n",
      "torch.Size([20, 4]) torch.Size([20])\n",
      "torch.Size([20, 4]) torch.Size([20])\n",
      "torch.Size([20, 4]) torch.Size([20])\n",
      "torch.Size([20, 4]) torch.Size([20])\n",
      "torch.Size([20, 4]) torch.Size([20])\n",
      "torch.Size([20, 4]) torch.Size([20])\n",
      "torch.Size([10, 4]) torch.Size([10])\n"
     ]
    }
   ],
   "source": [
    "for X, Y in iris_loader:\n",
    "    print(X.shape, Y.shape)"
   ]
  },
  {
   "cell_type": "code",
   "execution_count": null,
   "metadata": {},
   "outputs": [],
   "source": []
  },
  {
   "cell_type": "code",
   "execution_count": null,
   "metadata": {},
   "outputs": [],
   "source": []
  },
  {
   "cell_type": "code",
   "execution_count": null,
   "metadata": {},
   "outputs": [],
   "source": []
  }
 ],
 "metadata": {
  "kernelspec": {
   "display_name": "Python 3.9.13 ('torch')",
   "language": "python",
   "name": "python3"
  },
  "language_info": {
   "codemirror_mode": {
    "name": "ipython",
    "version": 3
   },
   "file_extension": ".py",
   "mimetype": "text/x-python",
   "name": "python",
   "nbconvert_exporter": "python",
   "pygments_lexer": "ipython3",
   "version": "3.9.13"
  },
  "vscode": {
   "interpreter": {
    "hash": "7288f315087fdb0a15835a979a50c8db3e0e21492381bafafe9d84f995bbb7dd"
   }
  }
 },
 "nbformat": 4,
 "nbformat_minor": 2
}
