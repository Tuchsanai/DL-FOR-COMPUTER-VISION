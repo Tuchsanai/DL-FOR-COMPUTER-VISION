{
 "cells": [
  {
   "cell_type": "markdown",
   "metadata": {
    "id": "_vm8yO-VYxp6"
   },
   "source": [
    "**You'll need to install:**\n",
    "1. pip install pafy\n",
    "2. pip install youtube-dl\n",
    "\n",
    "https://pypi.org/project/pafy/"
   ]
  },
  {
   "cell_type": "code",
   "execution_count": null,
   "metadata": {},
   "outputs": [],
   "source": []
  },
  {
   "cell_type": "code",
   "execution_count": null,
   "metadata": {},
   "outputs": [],
   "source": []
  },
  {
   "cell_type": "markdown",
   "metadata": {
    "id": "h2qUEpZDYxp6"
   },
   "source": [
    "## Display a YouTube Video in OpenCV"
   ]
  },
  {
   "cell_type": "code",
   "execution_count": null,
   "metadata": {
    "id": "4CyAVVIdYxp7"
   },
   "outputs": [],
   "source": [
    "import cv2\n",
    "import pafy\n",
    "\n",
    "url = 'https://youtu.be/EFEmTsfFL5A'\n",
    "video = pafy.new(url)\n",
    "\n",
    "best = video.getbest(preftype=\"mp4\")\n",
    "\n",
    "capture = cv2.VideoCapture()\n",
    "capture.open(best.url)\n",
    "\n",
    "while (True):\n",
    "    ret, frame = capture.read()\n",
    "    if ret == True:\n",
    "        cv2.imshow('src', frame)\n",
    "        \n",
    "    if cv2.waitKey(1) == 13: #13 is the Enter Key\n",
    "        break\n",
    "        \n",
    "# Release camera and close windows\n",
    "capture.release()\n",
    "cv2.destroyAllWindows()  "
   ]
  },
  {
   "cell_type": "markdown",
   "metadata": {
    "id": "nfLSqMqQYxp8"
   },
   "source": [
    "### Get Video META Data"
   ]
  },
  {
   "cell_type": "code",
   "execution_count": null,
   "metadata": {
    "id": "BHQZZ_fzYxp8",
    "outputId": "58d53155-817d-47ae-9fe6-606de6c891c5"
   },
   "outputs": [
    {
     "name": "stdout",
     "output_type": "stream",
     "text": [
      "Title: Paramore: Ain't It Fun [OFFICIAL VIDEO]\n",
      "Rating: 4.886775\n",
      "Viewcount: 131803127\n",
      "Author: Paramore\n",
      "Length: 228\n",
      "Duration: 00:03:48\n"
     ]
    }
   ],
   "source": [
    "import pafy\n",
    "\n",
    "url = 'https://youtu.be/EFEmTsfFL5A'\n",
    "video = pafy.new(url)\n",
    "\n",
    "print(\"Title: {}\".format(video.title))\n",
    "print(\"Rating: {}\".format(video.rating))\n",
    "print(\"Viewcount: {}\".format(video.viewcount))\n",
    "print(\"Author: {}\".format(video.author))\n",
    "print(\"Length: {}\".format(video.length))\n",
    "print(\"Duration: {}\".format(video.duration))"
   ]
  },
  {
   "cell_type": "markdown",
   "metadata": {
    "id": "enV5z4fZYxp-"
   },
   "source": [
    "### View the available Streams"
   ]
  },
  {
   "cell_type": "code",
   "execution_count": null,
   "metadata": {
    "id": "x7eY0fgaYxp-",
    "outputId": "f69774c3-2a5a-4847-ec88-dc97debb7787"
   },
   "outputs": [
    {
     "name": "stdout",
     "output_type": "stream",
     "text": [
      "640x360\n",
      "mp4\n",
      "17804861\n",
      "https://r2---sn-qpbpjxaugpop-2vnz.googlevideo.com/videoplayback?expire=1605956108&ei=rJ24X_CZF9K84QSokaLoCg&ip=161.0.154.225&id=o-AKpdr3GHNaJ-gFpaDsxkTwIWsGls6S3e1Or6k3DBmPSP&itag=18&source=youtube&requiressl=yes&mh=il&mm=31%2C29&mn=sn-qpbpjxaugpop-2vnz%2Csn-ab5szn7r&ms=au%2Crdu&mv=m&mvi=2&pl=24&initcwndbps=1002500&vprv=1&mime=video%2Fmp4&ns=RFKY1XHQl_dQAbCXcZXra48F&gir=yes&clen=17804861&ratebypass=yes&dur=227.950&lmt=1575740854354515&mt=1605934353&fvip=2&c=WEB&txp=5431432&n=l_1DOCW7V-oTE-UsS&sparams=expire%2Cei%2Cip%2Cid%2Citag%2Csource%2Crequiressl%2Cvprv%2Cmime%2Cns%2Cgir%2Cclen%2Cratebypass%2Cdur%2Clmt&lsparams=mh%2Cmm%2Cmn%2Cms%2Cmv%2Cmvi%2Cpl%2Cinitcwndbps&lsig=AG3C_xAwRAIgSg2W7T5IJBKYw9N0cbh-hGaYJc3zhcoGoPn_cVjWgdgCIFw9DeHnIRzLH2_MOd3C8eKgvriZcrb_cWk97dRlVTEi&sig=AOq0QJ8wRAIgewME3U03ta6pqVdjYKbnlpL3kVev3fNpbXFWqq9q_0gCIFi3f4bW1jm7FV4vuzJci6pm2HLj3WALVMQQdvnkf9vp\n"
     ]
    }
   ],
   "source": [
    "streams = video.streams\n",
    "\n",
    "for s in streams:\n",
    "    print(s.resolution)\n",
    "    print(s.extension)\n",
    "    print(s.get_filesize())\n",
    "    print(s.url)"
   ]
  },
  {
   "cell_type": "markdown",
   "metadata": {
    "id": "e34HoKw3Yxp_"
   },
   "source": [
    "### Get the highest quality stream"
   ]
  },
  {
   "cell_type": "code",
   "execution_count": null,
   "metadata": {
    "id": "Oq-rCnseYxp_",
    "outputId": "84e218fd-142c-4a42-a230-74c9a173613f"
   },
   "outputs": [
    {
     "data": {
      "text/plain": [
       "('640x360', 'mp4')"
      ]
     },
     "execution_count": 9,
     "metadata": {},
     "output_type": "execute_result"
    }
   ],
   "source": [
    "best = video.getbest()\n",
    "best.resolution, best.extension"
   ]
  },
  {
   "cell_type": "code",
   "execution_count": null,
   "metadata": {
    "id": "8lkrTIM3YxqA",
    "outputId": "758070d8-c58e-49d7-e229-6146154f4009"
   },
   "outputs": [
    {
     "data": {
      "text/plain": [
       "'https://r2---sn-qpbpjxaugpop-2vnz.googlevideo.com/videoplayback?expire=1605955822&ei=jpy4X7_UDcXK4QSy5beACg&ip=161.0.154.225&id=o-AHgbbBslopoi-X3oTWUPvJSCV-_wNXuRDK2MWb0aed_d&itag=18&source=youtube&requiressl=yes&mh=il&mm=31%2C29&mn=sn-qpbpjxaugpop-2vnz%2Csn-ab5l6n6s&ms=au%2Crdu&mv=m&mvi=2&pl=24&initcwndbps=1027500&vprv=1&mime=video%2Fmp4&ns=rvrV8msnA88rLWDaAKUYyxoF&gir=yes&clen=17804861&ratebypass=yes&dur=227.950&lmt=1575740854354515&mt=1605934113&fvip=2&c=WEB&txp=5431432&n=14m_rwSCw41k26QNH&sparams=expire%2Cei%2Cip%2Cid%2Citag%2Csource%2Crequiressl%2Cvprv%2Cmime%2Cns%2Cgir%2Cclen%2Cratebypass%2Cdur%2Clmt&lsparams=mh%2Cmm%2Cmn%2Cms%2Cmv%2Cmvi%2Cpl%2Cinitcwndbps&lsig=AG3C_xAwRAIgKTRLaTQqMWOtJITkeUY0RzCYtCs2AjOi-fW1xuN5tcACIFhFfJZd57injZhB3Dm2031YS603VoDhMSmoxZsyJ2kA&sig=AOq0QJ8wRgIhAOMjRb39CE-yRUVrSta62l9fMTHSRoMxzwjKuwEP_64uAiEAs-BMcVSwJpCkBlggNudz1D7NGucm9Vc7c2BOvJgTH8o='"
      ]
     },
     "execution_count": 10,
     "metadata": {},
     "output_type": "execute_result"
    }
   ],
   "source": [
    "best.url"
   ]
  },
  {
   "cell_type": "markdown",
   "metadata": {
    "id": "Za44Jpe8YxqA"
   },
   "source": [
    "### Download Videos "
   ]
  },
  {
   "cell_type": "code",
   "execution_count": null,
   "metadata": {
    "id": "Mdzw3V1oYxqB",
    "outputId": "f47fe4a6-dff3-4367-ec0c-c9917f0794db"
   },
   "outputs": [
    {
     "name": "stdout",
     "output_type": "stream",
     "text": [
      "  17,804,861.0 Bytes [100.00%] received. Rate: [13351 KB/s].  ETA: [0 secs]    \n"
     ]
    }
   ],
   "source": [
    "best.download(quiet=False)"
   ]
  },
  {
   "cell_type": "markdown",
   "metadata": {
    "id": "nvl3QOYAYxqB"
   },
   "source": [
    "### Get & Download Audio "
   ]
  },
  {
   "cell_type": "code",
   "execution_count": null,
   "metadata": {
    "id": "eNicvgnAYxqC",
    "outputId": "1dcea85b-528e-4aac-8fa4-c98fbcff127f"
   },
   "outputs": [
    {
     "name": "stdout",
     "output_type": "stream",
     "text": [
      "50k webm 1202180\n",
      "70k webm 1514089\n",
      "160k webm 2753423\n",
      "128k m4a 3689804\n"
     ]
    }
   ],
   "source": [
    "audiostreams = video.audiostreams\n",
    "for a in audiostreams:\n",
    "     print(a.bitrate, a.extension, a.get_filesize())"
   ]
  },
  {
   "cell_type": "code",
   "execution_count": null,
   "metadata": {
    "id": "OtM6zoO7YxqD",
    "outputId": "ccf52257-16ff-458d-c71f-0aa6689a36ac"
   },
   "outputs": [
    {
     "name": "stdout",
     "output_type": "stream",
     "text": [
      "  1,514,089.0 Bytes [100.00%] received. Rate: [3076 KB/s].  ETA: [0 secs]    \n"
     ]
    }
   ],
   "source": [
    "audiostreams[1].download()"
   ]
  },
  {
   "cell_type": "code",
   "execution_count": 1,
   "metadata": {},
   "outputs": [
    {
     "ename": "VideoUnavailable",
     "evalue": "YOUR_VIDEO_ is unavailable",
     "output_type": "error",
     "traceback": [
      "\u001b[0;31m---------------------------------------------------------------------------\u001b[0m",
      "\u001b[0;31mVideoUnavailable\u001b[0m                          Traceback (most recent call last)",
      "Cell \u001b[0;32mIn[1], line 10\u001b[0m\n\u001b[1;32m      7\u001b[0m yt \u001b[38;5;241m=\u001b[39m YouTube(video_url)\n\u001b[1;32m      9\u001b[0m \u001b[38;5;66;03m# Get the highest resolution stream\u001b[39;00m\n\u001b[0;32m---> 10\u001b[0m video_stream \u001b[38;5;241m=\u001b[39m \u001b[43myt\u001b[49m\u001b[38;5;241;43m.\u001b[39;49m\u001b[43mstreams\u001b[49m\u001b[38;5;241m.\u001b[39mget_highest_resolution()\n\u001b[1;32m     12\u001b[0m \u001b[38;5;66;03m# Download the video to the current directory\u001b[39;00m\n\u001b[1;32m     13\u001b[0m video_stream\u001b[38;5;241m.\u001b[39mdownload()\n",
      "File \u001b[0;32m~/anaconda3/envs/torch/lib/python3.10/site-packages/pytube/__main__.py:295\u001b[0m, in \u001b[0;36mYouTube.streams\u001b[0;34m(self)\u001b[0m\n\u001b[1;32m    289\u001b[0m \u001b[38;5;129m@property\u001b[39m\n\u001b[1;32m    290\u001b[0m \u001b[38;5;28;01mdef\u001b[39;00m \u001b[38;5;21mstreams\u001b[39m(\u001b[38;5;28mself\u001b[39m) \u001b[38;5;241m-\u001b[39m\u001b[38;5;241m>\u001b[39m StreamQuery:\n\u001b[1;32m    291\u001b[0m \u001b[38;5;250m    \u001b[39m\u001b[38;5;124;03m\"\"\"Interface to query both adaptive (DASH) and progressive streams.\u001b[39;00m\n\u001b[1;32m    292\u001b[0m \n\u001b[1;32m    293\u001b[0m \u001b[38;5;124;03m    :rtype: :class:`StreamQuery <StreamQuery>`.\u001b[39;00m\n\u001b[1;32m    294\u001b[0m \u001b[38;5;124;03m    \"\"\"\u001b[39;00m\n\u001b[0;32m--> 295\u001b[0m     \u001b[38;5;28;43mself\u001b[39;49m\u001b[38;5;241;43m.\u001b[39;49m\u001b[43mcheck_availability\u001b[49m\u001b[43m(\u001b[49m\u001b[43m)\u001b[49m\n\u001b[1;32m    296\u001b[0m     \u001b[38;5;28;01mreturn\u001b[39;00m StreamQuery(\u001b[38;5;28mself\u001b[39m\u001b[38;5;241m.\u001b[39mfmt_streams)\n",
      "File \u001b[0;32m~/anaconda3/envs/torch/lib/python3.10/site-packages/pytube/__main__.py:231\u001b[0m, in \u001b[0;36mYouTube.check_availability\u001b[0;34m(self)\u001b[0m\n\u001b[1;32m    229\u001b[0m \u001b[38;5;28;01melif\u001b[39;00m status \u001b[38;5;241m==\u001b[39m \u001b[38;5;124m'\u001b[39m\u001b[38;5;124mERROR\u001b[39m\u001b[38;5;124m'\u001b[39m:\n\u001b[1;32m    230\u001b[0m     \u001b[38;5;28;01mif\u001b[39;00m reason \u001b[38;5;241m==\u001b[39m \u001b[38;5;124m'\u001b[39m\u001b[38;5;124mVideo unavailable\u001b[39m\u001b[38;5;124m'\u001b[39m:\n\u001b[0;32m--> 231\u001b[0m         \u001b[38;5;28;01mraise\u001b[39;00m exceptions\u001b[38;5;241m.\u001b[39mVideoUnavailable(video_id\u001b[38;5;241m=\u001b[39m\u001b[38;5;28mself\u001b[39m\u001b[38;5;241m.\u001b[39mvideo_id)\n\u001b[1;32m    232\u001b[0m \u001b[38;5;28;01melif\u001b[39;00m status \u001b[38;5;241m==\u001b[39m \u001b[38;5;124m'\u001b[39m\u001b[38;5;124mLIVE_STREAM\u001b[39m\u001b[38;5;124m'\u001b[39m:\n\u001b[1;32m    233\u001b[0m     \u001b[38;5;28;01mraise\u001b[39;00m exceptions\u001b[38;5;241m.\u001b[39mLiveStreamError(video_id\u001b[38;5;241m=\u001b[39m\u001b[38;5;28mself\u001b[39m\u001b[38;5;241m.\u001b[39mvideo_id)\n",
      "\u001b[0;31mVideoUnavailable\u001b[0m: YOUR_VIDEO_ is unavailable"
     ]
    }
   ],
   "source": [
    "from pytube import YouTube\n",
    "\n",
    "# Replace with your desired YouTube video URL\n",
    "video_url = 'https://www.youtube.com/watch?v=YOUR_VIDEO_ID'\n",
    "\n",
    "# Create a YouTube object with the URL\n",
    "yt = YouTube(video_url)\n",
    "\n",
    "# Get the highest resolution stream\n",
    "video_stream = yt.streams.get_highest_resolution()\n",
    "\n",
    "# Download the video to the current directory\n",
    "video_stream.download()\n",
    "\n",
    "print(f\"Downloaded: {yt.title}\")\n"
   ]
  },
  {
   "cell_type": "code",
   "execution_count": null,
   "metadata": {},
   "outputs": [],
   "source": []
  }
 ],
 "metadata": {
  "colab": {
   "collapsed_sections": [],
   "name": "7. Import YouTube Video into OpenCV.ipynb",
   "provenance": []
  },
  "kernelspec": {
   "display_name": "torch",
   "language": "python",
   "name": "python3"
  },
  "language_info": {
   "codemirror_mode": {
    "name": "ipython",
    "version": 3
   },
   "file_extension": ".py",
   "mimetype": "text/x-python",
   "name": "python",
   "nbconvert_exporter": "python",
   "pygments_lexer": "ipython3",
   "version": "3.10.13"
  }
 },
 "nbformat": 4,
 "nbformat_minor": 0
}
