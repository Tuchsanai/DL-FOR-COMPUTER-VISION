{
  "cells": [
    {
      "cell_type": "markdown",
      "metadata": {
        "id": "Hzgi9N_T4mQ4"
      },
      "source": [
        "# **Code your own YouTube AI assistant in Python**\n",
        "\n",
        "Chanin Nantasenamat, PhD\n",
        "\n",
        "[Data Professor YouTube channel](https://youtube.com/dataprofessor)\n",
        "\n",
        "> In a nutshell, you're building a Python workflow for Question Answering of YouTube videos using AssemblyAI's LeMUR and Claude 3.5 Sonnet."
      ]
    },
    {
      "cell_type": "markdown",
      "metadata": {
        "id": "6JPH5yPS4i8q"
      },
      "source": [
        "## Install prerequisites"
      ]
    },
    {
      "cell_type": "code",
      "execution_count": null,
      "metadata": {
        "colab": {
          "base_uri": "https://localhost:8080/"
        },
        "id": "BYa_hgo0AQYb",
        "outputId": "5ef9e41e-e554-485f-bd19-8abe19955544"
      },
      "outputs": [
        {
          "name": "stdout",
          "output_type": "stream",
          "text": [
            "Collecting yt-dlp\n",
            "  Downloading yt_dlp-2024.8.6-py3-none-any.whl.metadata (170 kB)\n",
            "\u001b[2K     \u001b[90m━━━━━━━━━━━━━━━━━━━━━━━━━━━━━━━━━━━━━━━━\u001b[0m \u001b[32m170.1/170.1 kB\u001b[0m \u001b[31m3.0 MB/s\u001b[0m eta \u001b[36m0:00:00\u001b[0m\n",
            "\u001b[?25hCollecting assemblyai\n",
            "  Downloading assemblyai-0.31.0-py3-none-any.whl.metadata (27 kB)\n",
            "Collecting brotli (from yt-dlp)\n",
            "  Downloading Brotli-1.1.0-cp310-cp310-manylinux_2_5_x86_64.manylinux1_x86_64.manylinux_2_12_x86_64.manylinux2010_x86_64.whl.metadata (5.5 kB)\n",
            "Requirement already satisfied: certifi in /usr/local/lib/python3.10/dist-packages (from yt-dlp) (2024.7.4)\n",
            "Collecting mutagen (from yt-dlp)\n",
            "  Downloading mutagen-1.47.0-py3-none-any.whl.metadata (1.7 kB)\n",
            "Collecting pycryptodomex (from yt-dlp)\n",
            "  Downloading pycryptodomex-3.20.0-cp35-abi3-manylinux_2_17_x86_64.manylinux2014_x86_64.whl.metadata (3.4 kB)\n",
            "Requirement already satisfied: requests<3,>=2.32.2 in /usr/local/lib/python3.10/dist-packages (from yt-dlp) (2.32.3)\n",
            "Requirement already satisfied: urllib3<3,>=1.26.17 in /usr/local/lib/python3.10/dist-packages (from yt-dlp) (2.0.7)\n",
            "Collecting websockets>=12.0 (from yt-dlp)\n",
            "  Downloading websockets-12.0-cp310-cp310-manylinux_2_5_x86_64.manylinux1_x86_64.manylinux_2_17_x86_64.manylinux2014_x86_64.whl.metadata (6.6 kB)\n",
            "Collecting httpx>=0.19.0 (from assemblyai)\n",
            "  Downloading httpx-0.27.0-py3-none-any.whl.metadata (7.2 kB)\n",
            "Requirement already satisfied: pydantic!=1.10.7,>=1.7.0 in /usr/local/lib/python3.10/dist-packages (from assemblyai) (2.8.2)\n",
            "Requirement already satisfied: typing-extensions>=3.7 in /usr/local/lib/python3.10/dist-packages (from assemblyai) (4.12.2)\n",
            "Requirement already satisfied: anyio in /usr/local/lib/python3.10/dist-packages (from httpx>=0.19.0->assemblyai) (3.7.1)\n",
            "Collecting httpcore==1.* (from httpx>=0.19.0->assemblyai)\n",
            "  Downloading httpcore-1.0.5-py3-none-any.whl.metadata (20 kB)\n",
            "Requirement already satisfied: idna in /usr/local/lib/python3.10/dist-packages (from httpx>=0.19.0->assemblyai) (3.7)\n",
            "Requirement already satisfied: sniffio in /usr/local/lib/python3.10/dist-packages (from httpx>=0.19.0->assemblyai) (1.3.1)\n",
            "Collecting h11<0.15,>=0.13 (from httpcore==1.*->httpx>=0.19.0->assemblyai)\n",
            "  Downloading h11-0.14.0-py3-none-any.whl.metadata (8.2 kB)\n",
            "Requirement already satisfied: annotated-types>=0.4.0 in /usr/local/lib/python3.10/dist-packages (from pydantic!=1.10.7,>=1.7.0->assemblyai) (0.7.0)\n",
            "Requirement already satisfied: pydantic-core==2.20.1 in /usr/local/lib/python3.10/dist-packages (from pydantic!=1.10.7,>=1.7.0->assemblyai) (2.20.1)\n",
            "Requirement already satisfied: charset-normalizer<4,>=2 in /usr/local/lib/python3.10/dist-packages (from requests<3,>=2.32.2->yt-dlp) (3.3.2)\n",
            "Requirement already satisfied: exceptiongroup in /usr/local/lib/python3.10/dist-packages (from anyio->httpx>=0.19.0->assemblyai) (1.2.2)\n",
            "Downloading yt_dlp-2024.8.6-py3-none-any.whl (3.1 MB)\n",
            "\u001b[2K   \u001b[90m━━━━━━━━━━━━━━━━━━━━━━━━━━━━━━━━━━━━━━━━\u001b[0m \u001b[32m3.1/3.1 MB\u001b[0m \u001b[31m37.6 MB/s\u001b[0m eta \u001b[36m0:00:00\u001b[0m\n",
            "\u001b[?25hDownloading assemblyai-0.31.0-py3-none-any.whl (71 kB)\n",
            "\u001b[2K   \u001b[90m━━━━━━━━━━━━━━━━━━━━━━━━━━━━━━━━━━━━━━━━\u001b[0m \u001b[32m71.9/71.9 kB\u001b[0m \u001b[31m5.4 MB/s\u001b[0m eta \u001b[36m0:00:00\u001b[0m\n",
            "\u001b[?25hDownloading httpx-0.27.0-py3-none-any.whl (75 kB)\n",
            "\u001b[2K   \u001b[90m━━━━━━━━━━━━━━━━━━━━━━━━━━━━━━━━━━━━━━━━\u001b[0m \u001b[32m75.6/75.6 kB\u001b[0m \u001b[31m6.4 MB/s\u001b[0m eta \u001b[36m0:00:00\u001b[0m\n",
            "\u001b[?25hDownloading httpcore-1.0.5-py3-none-any.whl (77 kB)\n",
            "\u001b[2K   \u001b[90m━━━━━━━━━━━━━━━━━━━━━━━━━━━━━━━━━━━━━━━━\u001b[0m \u001b[32m77.9/77.9 kB\u001b[0m \u001b[31m7.0 MB/s\u001b[0m eta \u001b[36m0:00:00\u001b[0m\n",
            "\u001b[?25hDownloading websockets-12.0-cp310-cp310-manylinux_2_5_x86_64.manylinux1_x86_64.manylinux_2_17_x86_64.manylinux2014_x86_64.whl (130 kB)\n",
            "\u001b[2K   \u001b[90m━━━━━━━━━━━━━━━━━━━━━━━━━━━━━━━━━━━━━━━━\u001b[0m \u001b[32m130.2/130.2 kB\u001b[0m \u001b[31m12.1 MB/s\u001b[0m eta \u001b[36m0:00:00\u001b[0m\n",
            "\u001b[?25hDownloading Brotli-1.1.0-cp310-cp310-manylinux_2_5_x86_64.manylinux1_x86_64.manylinux_2_12_x86_64.manylinux2010_x86_64.whl (3.0 MB)\n",
            "\u001b[2K   \u001b[90m━━━━━━━━━━━━━━━━━━━━━━━━━━━━━━━━━━━━━━━━\u001b[0m \u001b[32m3.0/3.0 MB\u001b[0m \u001b[31m72.3 MB/s\u001b[0m eta \u001b[36m0:00:00\u001b[0m\n",
            "\u001b[?25hDownloading mutagen-1.47.0-py3-none-any.whl (194 kB)\n",
            "\u001b[2K   \u001b[90m━━━━━━━━━━━━━━━━━━━━━━━━━━━━━━━━━━━━━━━━\u001b[0m \u001b[32m194.4/194.4 kB\u001b[0m \u001b[31m11.3 MB/s\u001b[0m eta \u001b[36m0:00:00\u001b[0m\n",
            "\u001b[?25hDownloading pycryptodomex-3.20.0-cp35-abi3-manylinux_2_17_x86_64.manylinux2014_x86_64.whl (2.1 MB)\n",
            "\u001b[2K   \u001b[90m━━━━━━━━━━━━━━━━━━━━━━━━━━━━━━━━━━━━━━━━\u001b[0m \u001b[32m2.1/2.1 MB\u001b[0m \u001b[31m72.6 MB/s\u001b[0m eta \u001b[36m0:00:00\u001b[0m\n",
            "\u001b[?25hDownloading h11-0.14.0-py3-none-any.whl (58 kB)\n",
            "\u001b[2K   \u001b[90m━━━━━━━━━━━━━━━━━━━━━━━━━━━━━━━━━━━━━━━━\u001b[0m \u001b[32m58.3/58.3 kB\u001b[0m \u001b[31m5.4 MB/s\u001b[0m eta \u001b[36m0:00:00\u001b[0m\n",
            "\u001b[?25hInstalling collected packages: brotli, websockets, pycryptodomex, mutagen, h11, yt-dlp, httpcore, httpx, assemblyai\n",
            "Successfully installed assemblyai-0.31.0 brotli-1.1.0 h11-0.14.0 httpcore-1.0.5 httpx-0.27.0 mutagen-1.47.0 pycryptodomex-3.20.0 websockets-12.0 yt-dlp-2024.8.6\n"
          ]
        }
      ],
      "source": [
        "! pip install yt-dlp assemblyai"
      ]
    },
    {
      "cell_type": "markdown",
      "metadata": {
        "id": "6nJSbDxLF8FM"
      },
      "source": [
        "## Load API key"
      ]
    },
    {
      "cell_type": "code",
      "execution_count": null,
      "metadata": {
        "id": "hsvw8lGj4igp"
      },
      "outputs": [],
      "source": [
        "from google.colab import userdata\n",
        "import assemblyai as aai\n",
        "\n",
        "aai.settings.api_key = userdata.get('AAI_KEY')"
      ]
    },
    {
      "cell_type": "markdown",
      "metadata": {
        "id": "Ka2anWKPHBXh"
      },
      "source": [
        "## Retrieving audio"
      ]
    },
    {
      "cell_type": "markdown",
      "metadata": {
        "id": "vgyTBjZYkzeG"
      },
      "source": [
        "Retrieving the audio from a YouTube video"
      ]
    },
    {
      "cell_type": "code",
      "execution_count": null,
      "metadata": {
        "id": "KlZtGIXZA8r5"
      },
      "outputs": [],
      "source": [
        "import yt_dlp\n",
        "\n",
        "def download_audio(url):\n",
        "    ydl_opts = {\n",
        "        'format': 'bestaudio/best',\n",
        "        'postprocessors': [{\n",
        "            'key': 'FFmpegExtractAudio',\n",
        "            'preferredcodec': 'mp3',\n",
        "            'preferredquality': '192',\n",
        "        }],\n",
        "        'outtmpl': '%(title)s.%(ext)s',\n",
        "        'verbose': True,\n",
        "    }\n",
        "\n",
        "    with yt_dlp.YoutubeDL(ydl_opts) as ydl:\n",
        "        ydl.download([url])"
      ]
    },
    {
      "cell_type": "code",
      "execution_count": null,
      "metadata": {
        "id": "Bw3yO7E1KIK-"
      },
      "outputs": [],
      "source": [
        "URL = \"https://www.youtube.com/watch?v=UF8uR6Z6KLc\""
      ]
    },
    {
      "cell_type": "code",
      "execution_count": null,
      "metadata": {
        "colab": {
          "base_uri": "https://localhost:8080/"
        },
        "id": "31U-q_AVBpm2",
        "outputId": "8cacc0cb-7fe4-4112-df99-0edd0c813761"
      },
      "outputs": [
        {
          "name": "stderr",
          "output_type": "stream",
          "text": [
            "[debug] Encodings: locale UTF-8, fs utf-8, pref UTF-8, out UTF-8 (No ANSI), error UTF-8 (No ANSI), screen UTF-8 (No ANSI)\n",
            "[debug] yt-dlp version stable@2024.08.06 from yt-dlp/yt-dlp [4d9231208] (pip) API\n",
            "[debug] params: {'format': 'bestaudio/best', 'postprocessors': [{'key': 'FFmpegExtractAudio', 'preferredcodec': 'mp3', 'preferredquality': '192'}], 'outtmpl': '%(title)s.%(ext)s', 'verbose': True, 'compat_opts': set(), 'http_headers': {'User-Agent': 'Mozilla/5.0 (Windows NT 10.0; Win64; x64) AppleWebKit/537.36 (KHTML, like Gecko) Chrome/90.0.4430.24 Safari/537.36', 'Accept': 'text/html,application/xhtml+xml,application/xml;q=0.9,*/*;q=0.8', 'Accept-Language': 'en-us,en;q=0.5', 'Sec-Fetch-Mode': 'navigate'}}\n",
            "[debug] Python 3.10.12 (CPython x86_64 64bit) - Linux-6.1.85+-x86_64-with-glibc2.35 (OpenSSL 3.0.2 15 Mar 2022, glibc 2.35)\n",
            "[debug] exe versions: ffmpeg 4.4.2 (setts), ffprobe 4.4.2\n",
            "[debug] Optional libraries: Cryptodome-3.20.0, brotli-1.1.0, certifi-2024.07.04, mutagen-1.47.0, requests-2.32.3, secretstorage-3.3.1, sqlite3-3.37.2, urllib3-2.0.7, websockets-12.0\n",
            "[debug] Proxy map: {'colab_language_server': '/usr/colab/bin/language_service'}\n",
            "[debug] Request Handlers: urllib, requests, websockets\n",
            "[debug] Loaded 1830 extractors\n"
          ]
        },
        {
          "name": "stdout",
          "output_type": "stream",
          "text": [
            "[youtube] Extracting URL: https://www.youtube.com/watch?v=UF8uR6Z6KLc\n",
            "[youtube] UF8uR6Z6KLc: Downloading webpage\n",
            "[youtube] UF8uR6Z6KLc: Downloading ios player API JSON\n",
            "[youtube] UF8uR6Z6KLc: Downloading web creator player API JSON\n",
            "[youtube] UF8uR6Z6KLc: Downloading player 28fd7348\n"
          ]
        },
        {
          "name": "stderr",
          "output_type": "stream",
          "text": [
            "[debug] Saving youtube-nsig.28fd7348 to cache\n",
            "[debug] [youtube] Decrypted nsig 9PrkRlv75dbY-9eLF => bA3z0hc2GXHO7A\n",
            "[debug] Loading youtube-nsig.28fd7348 from cache\n",
            "[debug] [youtube] Decrypted nsig tdzGmpC_doIgMxQZa => Elp44oYQk3UQJw\n"
          ]
        },
        {
          "name": "stdout",
          "output_type": "stream",
          "text": [
            "[youtube] UF8uR6Z6KLc: Downloading m3u8 information\n"
          ]
        },
        {
          "name": "stderr",
          "output_type": "stream",
          "text": [
            "[debug] Sort order given by extractor: quality, res, fps, hdr:12, source, vcodec:vp9.2, channels, acodec, lang, proto\n",
            "[debug] Formats sorted by: hasvid, ie_pref, quality, res, fps, hdr:12(7), source, vcodec:vp9.2(10), channels, acodec, lang, proto, size, br, asr, vext, aext, hasaud, id\n"
          ]
        },
        {
          "name": "stdout",
          "output_type": "stream",
          "text": [
            "[info] UF8uR6Z6KLc: Downloading 1 format(s): 251\n"
          ]
        },
        {
          "name": "stderr",
          "output_type": "stream",
          "text": [
            "[debug] Invoking http downloader on \"https://rr1---sn-najern7r.googlevideo.com/videoplayback?expire=1723436939&ei=Kzu5ZsC7GdKL2_gP6Z_0GA&ip=34.106.152.58&id=o-AKk4WFN-x7u1EX2h7jNXlvW6hG9ybZBWNRRQga6LYM0V&itag=251&source=youtube&requiressl=yes&xpc=EgVo2aDSNQ%3D%3D&mh=-6&mm=31%2C26&mn=sn-najern7r%2Csn-a5mekndl&ms=au%2Conr&mv=u&mvi=1&pl=20&bui=AQmm2ezSalegcsttOl71U1uSNBM2L3cEt4FgOwjkkgyT4lZlUQ_FxQMLzZePuJIck0grf22lnf0atntg&spc=Mv1m9nttoIaglofGETV-gwbTBTCVk8tIOovmY-xjLn0jAnbjg18z&vprv=1&svpuc=1&mime=audio%2Fwebm&ns=oW0-RVHgsPV8SP80lYwmyhIQ&rqh=1&gir=yes&clen=11436230&dur=904.241&lmt=1651754218660056&mt=1723414310&fvip=3&keepalive=yes&c=WEB_CREATOR&sefc=1&txp=4532434&n=Elp44oYQk3UQJw&sparams=expire%2Cei%2Cip%2Cid%2Citag%2Csource%2Crequiressl%2Cxpc%2Cbui%2Cspc%2Cvprv%2Csvpuc%2Cmime%2Cns%2Crqh%2Cgir%2Cclen%2Cdur%2Clmt&sig=AJfQdSswRQIgZj8If__OVTnhnlOtO3ACtOoTNAF2wOfA2IciUl2JIJ8CIQDa0UjOvdLzIhAOIZBAZb03bDkAPukKZdfabXBRdQ5pvw%3D%3D&lsparams=mh%2Cmm%2Cmn%2Cms%2Cmv%2Cmvi%2Cpl&lsig=AGtxev0wRQIgLBNfxZyWRKsIgL23eB3jB5KTw_ekgibvkvKzSyIUGlICIQD43nJ42i-eh1PfNMyrI0h28n03OGGF06MHQcMX1cCFQw%3D%3D\"\n"
          ]
        },
        {
          "name": "stdout",
          "output_type": "stream",
          "text": [
            "[download] Destination: Steve Jobs' 2005 Stanford Commencement Address.webm\n",
            "[download] 100% of   10.91MiB in 00:00:01 at 8.02MiB/s   \n"
          ]
        },
        {
          "name": "stderr",
          "output_type": "stream",
          "text": [
            "[debug] ffmpeg command line: ffprobe -show_streams 'file:Steve Jobs'\"'\"' 2005 Stanford Commencement Address.webm'\n"
          ]
        },
        {
          "name": "stdout",
          "output_type": "stream",
          "text": [
            "[ExtractAudio] Destination: Steve Jobs' 2005 Stanford Commencement Address.mp3\n"
          ]
        },
        {
          "name": "stderr",
          "output_type": "stream",
          "text": [
            "[debug] ffmpeg command line: ffmpeg -y -loglevel repeat+info -i 'file:Steve Jobs'\"'\"' 2005 Stanford Commencement Address.webm' -vn -acodec libmp3lame -b:a 192.0k -movflags +faststart 'file:Steve Jobs'\"'\"' 2005 Stanford Commencement Address.mp3'\n"
          ]
        },
        {
          "name": "stdout",
          "output_type": "stream",
          "text": [
            "Deleting original file Steve Jobs' 2005 Stanford Commencement Address.webm (pass -k to keep)\n"
          ]
        }
      ],
      "source": [
        "download_audio(URL)"
      ]
    },
    {
      "cell_type": "markdown",
      "metadata": {
        "id": "nR5I7I4Jkqsw"
      },
      "source": [
        "Extracting the video title"
      ]
    },
    {
      "cell_type": "code",
      "execution_count": null,
      "metadata": {
        "colab": {
          "base_uri": "https://localhost:8080/",
          "height": 122
        },
        "id": "XDFuV7vFJIic",
        "outputId": "c85a169a-d45b-4d29-a669-5df92451f34c"
      },
      "outputs": [
        {
          "name": "stdout",
          "output_type": "stream",
          "text": [
            "[youtube] Extracting URL: https://www.youtube.com/watch?v=UF8uR6Z6KLc\n",
            "[youtube] UF8uR6Z6KLc: Downloading webpage\n",
            "[youtube] UF8uR6Z6KLc: Downloading ios player API JSON\n",
            "[youtube] UF8uR6Z6KLc: Downloading web creator player API JSON\n",
            "[youtube] UF8uR6Z6KLc: Downloading m3u8 information\n"
          ]
        },
        {
          "data": {
            "application/vnd.google.colaboratory.intrinsic+json": {
              "type": "string"
            },
            "text/plain": [
              "\"Steve Jobs' 2005 Stanford Commencement Address\""
            ]
          },
          "execution_count": 6,
          "metadata": {},
          "output_type": "execute_result"
        }
      ],
      "source": [
        "video_title = yt_dlp.YoutubeDL({}).extract_info(URL, download=False)['title']\n",
        "video_title"
      ]
    },
    {
      "cell_type": "markdown",
      "metadata": {
        "id": "M7GPuIOX5d5B"
      },
      "source": [
        "## Playing audio on Colab"
      ]
    },
    {
      "cell_type": "code",
      "execution_count": null,
      "metadata": {
        "id": "fF-wS314Q-yZ"
      },
      "outputs": [],
      "source": [
        "audio_file = f'{video_title}.mp3'"
      ]
    },
    {
      "cell_type": "code",
      "execution_count": null,
      "metadata": {
        "colab": {
          "background_save": true
        },
        "id": "YcdZsZFi5gwr"
      },
      "outputs": [],
      "source": [
        "import IPython.display as ipd\n",
        "\n",
        "ipd.Audio(f'{video_title}.mp3')"
      ]
    },
    {
      "cell_type": "markdown",
      "metadata": {
        "id": "aRWTbE7rGBwK"
      },
      "source": [
        "## Processing and Analyzing Audio"
      ]
    },
    {
      "cell_type": "markdown",
      "metadata": {
        "id": "UdZOP4oRVWkQ"
      },
      "source": [
        "### Question and answer"
      ]
    },
    {
      "cell_type": "markdown",
      "metadata": {
        "id": "KyS1EQQmRV0z"
      },
      "source": [
        "#### 1. Transcribe audio file"
      ]
    },
    {
      "cell_type": "markdown",
      "metadata": {
        "id": "x0Oe1Tbz4uu1"
      },
      "source": [
        "Here, we're transcribing a single audio file by appending the `transcribe()` method from AssemblyAI to the transcript object stored in `transcriber`."
      ]
    },
    {
      "cell_type": "code",
      "execution_count": null,
      "metadata": {
        "id": "HHzGSqb7EUEq"
      },
      "outputs": [],
      "source": [
        "transcriber = aai.Transcriber()\n",
        "transcript = transcriber.transcribe(audio_file)"
      ]
    },
    {
      "cell_type": "markdown",
      "metadata": {
        "id": "l1LllhZwReOK"
      },
      "source": [
        "#### 2. Define your question prompt"
      ]
    },
    {
      "cell_type": "code",
      "execution_count": null,
      "metadata": {
        "id": "rYOn1YRGRM5T"
      },
      "outputs": [],
      "source": [
        "prompt = \"What are the 5 key messages that Steve Jobs wanted to convey in the speech?\""
      ]
    },
    {
      "cell_type": "markdown",
      "metadata": {
        "id": "PZ1mJMMOSVv_"
      },
      "source": [
        "#### 3. Apply LeMUR\n",
        "\n",
        "Here, we applied the `lemur.task()` method on the `transcript` object, which gives us `transcript.lemur.task()`.\n",
        "\n",
        "Next, as input arguments we supplied the question prompt via `prompt`.\n",
        "\n",
        "In addition, the LLM model to use via `aai.LemurModel.claude3_5_sonnet` to the `final_model` parameter."
      ]
    },
    {
      "cell_type": "code",
      "execution_count": null,
      "metadata": {
        "id": "VfH-lQtlSTi5"
      },
      "outputs": [],
      "source": [
        "result = transcript.lemur.task(\n",
        "    prompt,\n",
        "    final_model=aai.LemurModel.claude3_5_sonnet\n",
        ")"
      ]
    },
    {
      "cell_type": "markdown",
      "metadata": {
        "id": "DQlk0PO33YXa"
      },
      "source": [
        "Other parameters that could also be specified in `transcript.lemur.task()` includes:\n",
        "- `max_output_size`\n",
        "- `temperature`"
      ]
    },
    {
      "cell_type": "markdown",
      "metadata": {
        "id": "_vbZozMTcCm6"
      },
      "source": [
        "#### 4. Display results"
      ]
    },
    {
      "cell_type": "code",
      "execution_count": null,
      "metadata": {
        "id": "JJVKPzrtS0YJ"
      },
      "outputs": [],
      "source": [
        "result"
      ]
    },
    {
      "cell_type": "code",
      "execution_count": null,
      "metadata": {
        "id": "lkwvSR9GYLBx"
      },
      "outputs": [],
      "source": [
        "result.usage.input_tokens"
      ]
    },
    {
      "cell_type": "code",
      "execution_count": null,
      "metadata": {
        "id": "WxFsHgkjY3oM"
      },
      "outputs": [],
      "source": [
        "result.usage.output_tokens"
      ]
    },
    {
      "cell_type": "code",
      "execution_count": null,
      "metadata": {
        "id": "UbFS3MgIX-uF"
      },
      "outputs": [],
      "source": [
        "print(result.response)"
      ]
    },
    {
      "cell_type": "code",
      "execution_count": null,
      "metadata": {
        "id": "e3D0ZqjAZ2wz"
      },
      "outputs": [],
      "source": [
        "# Word wrapping of text cell\n",
        "\n",
        "from IPython.display import HTML, display\n",
        "\n",
        "def set_css():\n",
        "  display(HTML('''\n",
        "  <style>\n",
        "    pre {\n",
        "        white-space: pre-wrap;\n",
        "    }\n",
        "  </style>\n",
        "  '''))\n",
        "get_ipython().events.register('pre_run_cell', set_css)"
      ]
    },
    {
      "cell_type": "markdown",
      "metadata": {
        "id": "vExD0NvDd9__"
      },
      "source": [
        "#### 5. Delete LeMUR request"
      ]
    },
    {
      "cell_type": "code",
      "execution_count": null,
      "metadata": {
        "id": "8OOWoazneJAW"
      },
      "outputs": [],
      "source": [
        "deletion_response = aai.Lemur.purge_request_data(request_id=result.request_id)\n",
        "deletion_response"
      ]
    },
    {
      "cell_type": "markdown",
      "metadata": {
        "id": "XikyfDvbq1QX"
      },
      "source": [
        "Other LLM models that LeMUR supports ..."
      ]
    },
    {
      "cell_type": "code",
      "execution_count": null,
      "metadata": {
        "id": "ncc458d-enDO"
      },
      "outputs": [],
      "source": [
        "aai.LemurModel."
      ]
    },
    {
      "cell_type": "markdown",
      "metadata": {
        "id": "nq1rNf6ge-ok"
      },
      "source": [
        "## References"
      ]
    },
    {
      "cell_type": "markdown",
      "metadata": {
        "id": "cKjv4BBcfCNm"
      },
      "source": [
        "- [LeMUR](https://www.assemblyai.com/docs/lemur) - AssemblyAI Documentation\n",
        "- [Ask questions about your audio data](https://www.assemblyai.com/docs/lemur/ask-questions) - AssemblyAI Documentation\n",
        "- [Processing Audio Files with LLMs using LeMUR](https://github.com/AssemblyAI/cookbook/blob/master/lemur/using-lemur.ipynb) - AssemblyAI Cookbook"
      ]
    },
    {
      "cell_type": "markdown",
      "metadata": {
        "id": "rqQD3Q5Dme0w"
      },
      "source": [
        "For more tutorials, check out the [Data Professor YouTube channel](https://youtube.com/dataprofessor)"
      ]
    }
  ],
  "metadata": {
    "colab": {
      "provenance": []
    },
    "kernelspec": {
      "display_name": "Python 3",
      "name": "python3"
    },
    "language_info": {
      "name": "python"
    }
  },
  "nbformat": 4,
  "nbformat_minor": 0
}
