{
  "cells": [
    {
      "cell_type": "markdown",
      "metadata": {
        "id": "Hzgi9N_T4mQ4"
      },
      "source": [
        "# **Generate timestamps for videos using AssemblyAI**\n",
        "\n",
        "Chanin Nantasenamat, PhD\n",
        "\n",
        "[Data Professor YouTube channel](https://youtube.com/dataprofessor)\n",
        "\n",
        "> In a nutshell, you're building a Python workflow for generating video timestamps using AssemblyAI's LeMUR and Claude 3.5 Sonnet."
      ]
    },
    {
      "cell_type": "markdown",
      "metadata": {
        "id": "6JPH5yPS4i8q"
      },
      "source": [
        "## Install prerequisites"
      ]
    },
    {
      "cell_type": "code",
      "source": [
        "! apt-get install ffmpeg"
      ],
      "metadata": {
        "colab": {
          "base_uri": "https://localhost:8080/"
        },
        "id": "cBWssYCmAQG4",
        "outputId": "cce94cac-c60f-4509-da3d-f97bb831c2a1"
      },
      "execution_count": null,
      "outputs": [
        {
          "output_type": "stream",
          "name": "stdout",
          "text": [
            "Reading package lists... Done\n",
            "Building dependency tree... Done\n",
            "Reading state information... Done\n",
            "ffmpeg is already the newest version (7:4.4.2-0ubuntu0.22.04.1).\n",
            "0 upgraded, 0 newly installed, 0 to remove and 49 not upgraded.\n"
          ]
        }
      ]
    },
    {
      "cell_type": "code",
      "source": [
        "! pip install yt-dlp assemblyai"
      ],
      "metadata": {
        "id": "BYa_hgo0AQYb",
        "colab": {
          "base_uri": "https://localhost:8080/"
        },
        "outputId": "159fb0a1-bb2a-46a1-dadc-1c913334139f"
      },
      "execution_count": null,
      "outputs": [
        {
          "output_type": "stream",
          "name": "stdout",
          "text": [
            "Requirement already satisfied: yt-dlp in /usr/local/lib/python3.10/dist-packages (2024.10.7)\n",
            "Requirement already satisfied: assemblyai in /usr/local/lib/python3.10/dist-packages (0.34.0)\n",
            "Requirement already satisfied: brotli in /usr/local/lib/python3.10/dist-packages (from yt-dlp) (1.1.0)\n",
            "Requirement already satisfied: certifi in /usr/local/lib/python3.10/dist-packages (from yt-dlp) (2024.8.30)\n",
            "Requirement already satisfied: mutagen in /usr/local/lib/python3.10/dist-packages (from yt-dlp) (1.47.0)\n",
            "Requirement already satisfied: pycryptodomex in /usr/local/lib/python3.10/dist-packages (from yt-dlp) (3.21.0)\n",
            "Requirement already satisfied: requests<3,>=2.32.2 in /usr/local/lib/python3.10/dist-packages (from yt-dlp) (2.32.3)\n",
            "Requirement already satisfied: urllib3<3,>=1.26.17 in /usr/local/lib/python3.10/dist-packages (from yt-dlp) (2.2.3)\n",
            "Requirement already satisfied: websockets>=13.0 in /usr/local/lib/python3.10/dist-packages (from yt-dlp) (13.1)\n",
            "Requirement already satisfied: httpx>=0.19.0 in /usr/local/lib/python3.10/dist-packages (from assemblyai) (0.27.2)\n",
            "Requirement already satisfied: pydantic!=1.10.7,>=1.7.0 in /usr/local/lib/python3.10/dist-packages (from assemblyai) (2.9.2)\n",
            "Requirement already satisfied: typing-extensions>=3.7 in /usr/local/lib/python3.10/dist-packages (from assemblyai) (4.12.2)\n",
            "Requirement already satisfied: anyio in /usr/local/lib/python3.10/dist-packages (from httpx>=0.19.0->assemblyai) (3.7.1)\n",
            "Requirement already satisfied: httpcore==1.* in /usr/local/lib/python3.10/dist-packages (from httpx>=0.19.0->assemblyai) (1.0.6)\n",
            "Requirement already satisfied: idna in /usr/local/lib/python3.10/dist-packages (from httpx>=0.19.0->assemblyai) (3.10)\n",
            "Requirement already satisfied: sniffio in /usr/local/lib/python3.10/dist-packages (from httpx>=0.19.0->assemblyai) (1.3.1)\n",
            "Requirement already satisfied: h11<0.15,>=0.13 in /usr/local/lib/python3.10/dist-packages (from httpcore==1.*->httpx>=0.19.0->assemblyai) (0.14.0)\n",
            "Requirement already satisfied: annotated-types>=0.6.0 in /usr/local/lib/python3.10/dist-packages (from pydantic!=1.10.7,>=1.7.0->assemblyai) (0.7.0)\n",
            "Requirement already satisfied: pydantic-core==2.23.4 in /usr/local/lib/python3.10/dist-packages (from pydantic!=1.10.7,>=1.7.0->assemblyai) (2.23.4)\n",
            "Requirement already satisfied: charset-normalizer<4,>=2 in /usr/local/lib/python3.10/dist-packages (from requests<3,>=2.32.2->yt-dlp) (3.4.0)\n",
            "Requirement already satisfied: exceptiongroup in /usr/local/lib/python3.10/dist-packages (from anyio->httpx>=0.19.0->assemblyai) (1.2.2)\n"
          ]
        }
      ]
    },
    {
      "cell_type": "markdown",
      "source": [
        "## Load API key"
      ],
      "metadata": {
        "id": "6nJSbDxLF8FM"
      }
    },
    {
      "cell_type": "code",
      "execution_count": null,
      "metadata": {
        "id": "hsvw8lGj4igp"
      },
      "outputs": [],
      "source": [
        "from google.colab import userdata\n",
        "import assemblyai as aai\n",
        "\n",
        "aai.settings.api_key = userdata.get('AAI_KEY')"
      ]
    },
    {
      "cell_type": "markdown",
      "metadata": {
        "id": "Ka2anWKPHBXh"
      },
      "source": [
        "## Retrieving audio from a YouTube video\n",
        "\n",
        "We'll start out by downloading the YouTube video using the `yt_dlp` Python library."
      ]
    },
    {
      "cell_type": "code",
      "source": [
        "import yt_dlp\n",
        "\n",
        "# Retrieving audio from a YouTube video\n",
        "def download_audio(url):\n",
        "    ydl_opts = {\n",
        "        'format': 'bestaudio/best',\n",
        "        'postprocessors': [{\n",
        "            'key': 'FFmpegExtractAudio',\n",
        "            'preferredcodec': 'mp3',\n",
        "            'preferredquality': '192',\n",
        "        }],\n",
        "        'outtmpl': '%(title)s.%(ext)s',\n",
        "        'verbose': True,\n",
        "    }\n",
        "\n",
        "    with yt_dlp.YoutubeDL(ydl_opts) as ydl:\n",
        "        ydl.download([url])\n",
        "\n",
        "URL = \"https://www.youtube.com/watch?v=UF8uR6Z6KLc\"\n",
        "download_audio(URL)\n",
        "\n",
        "# Retrieving audio file name\n",
        "video_title = yt_dlp.YoutubeDL({}).extract_info(URL, download=False)['title']\n",
        "audio_file = f'{video_title}.mp3'"
      ],
      "metadata": {
        "id": "KlZtGIXZA8r5"
      },
      "execution_count": null,
      "outputs": []
    },
    {
      "cell_type": "markdown",
      "source": [
        "## Generating the timestamps\n",
        "\n",
        "1. Transcribe the audio file\n",
        "2. Group transcript into paragraphs then groups\n",
        "3. Assign timestamps for each group\n",
        "4. Generate the final timestamps\n",
        "\n",
        "Here, we applied the `get_paragraphs()` method on the `transcript` object, which gives us the entire text corpus (i.e. paragraphs).\n",
        "\n"
      ],
      "metadata": {
        "id": "glH5o-lM9DcI"
      }
    },
    {
      "cell_type": "code",
      "source": [
        "# Generate transcript\n",
        "transcriber = aai.Transcriber()\n",
        "transcript = transcriber.transcribe(audio_file)\n",
        "\n",
        "# Create paragraphs and assign timestamps to it\n",
        "paragraphs = transcript.get_paragraphs()\n",
        "combined_paragraphs = []\n",
        "step = 2\n",
        "\n",
        "for i in range(0, len(paragraphs), step):\n",
        "    paragraph_group = paragraphs[i : i + step]\n",
        "    start = paragraph_group[0].start\n",
        "    end = paragraph_group[-1].end\n",
        "    text = \"\"\n",
        "    for paragraph in paragraph_group:\n",
        "        text += f\"{paragraph.text} \"\n",
        "    combined_paragraphs.append(f\"Paragraph: {text} Start: {start} End: {end}\")"
      ],
      "metadata": {
        "id": "4399sBcn9FCh"
      },
      "execution_count": null,
      "outputs": []
    },
    {
      "cell_type": "code",
      "source": [
        "combined_paragraphs"
      ],
      "metadata": {
        "colab": {
          "base_uri": "https://localhost:8080/"
        },
        "id": "Eoq9qY56IJzZ",
        "outputId": "62099919-3ab7-4168-dd8d-4bbff45745ab"
      },
      "execution_count": null,
      "outputs": [
        {
          "output_type": "execute_result",
          "data": {
            "text/plain": [
              "[\"Paragraph: This program is brought to you by Stanford University. Please visit us@stanford.edu thank you. I'm honored to be with you today for your commencement from one of the finest universities in the world.  Start: 7560 End: 32260\",\n",
              " \"Paragraph: Truth be told, I never graduated from college, and this is the closest I've ever gotten to a college graduation. Today, I want to tell you three stories from my life. That's it. No big deal. Just three stories. The first story is about connecting the dots.  Start: 35680 End: 58950\",\n",
              " \"Paragraph: I dropped out of Reed College after the first six months, but then stayed around as a drop in for another 18 months or so before I really quit. So why did I drop out? It started before I was born. My biological mother was a young, unwed graduate student, and she decided to put me up for adoption. She felt very strongly that I should be adopted by college graduates. So everything was all set for me to be adopted at birth by a lawyer and his wife, except that when I popped out, they decided at the last minute that they really wanted a girl. So my parents, who were on a waiting list, got a call in the middle of the night asking, we've got an unexpected baby boy. Do you want him? They said, of course. My biological mother found out later that my mother had never graduated from college and that my father had never graduated from high school.  Start: 60650 End: 118310\",\n",
              " \"Paragraph: She refused to sign the final adoption papers. She only relented a few months later when my parents promised that I would go to college. This was the start in my life, and 17 years later, I did go to college. But I naively chose a college that was almost as expensive as Stanford, and all of my working class parents savings were being spent on my college tuition. After six months, I couldn't see the value in it. I had no idea what I wanted to do with my life and no idea how college was going to help me figure it out. And here I was spending all the money my parents had saved their entire life. So I decided to drop out and trust that it would all work out okay. It was pretty scary at the time, but looking back, it was one of the best decisions I ever made. The minute I dropped out, I could stop taking the required classes that didn't interest me and begin dropping in on the ones that looked far more interesting.  Start: 118810 End: 183460\",\n",
              " \"Paragraph: It wasn't all romantic. I didn't have a dorm room, so I slept on the floor in friends rooms. I returned coke bottles for the five cent deposits to buy food with, and I would walk the 7 miles across town every Sunday night to get one good meal a week at the Hare Krishna temple. I loved it and much of what I stumbled into by following my curiosity and intuition turned out to be priceless later on. Let me give you one example. Reed College at that time offered perhaps the best calligraphy instruction in the country. Throughout the campus, every poster, every label on every drawer was beautifully hand calligraphed. Because I had dropped out and didn't have to take the normal classes, I decided to take a calligraphy class to learn how to do this. I learned about serif and sans serif typefaces, about varying the amount of space between different letter combinations, about what makes great typography great. It was beautiful, historical, artistically subtle in a way that science can't capture, and I found it fascinating.  Start: 184440 End: 250910\",\n",
              " \"Paragraph: None of this had even a hope of any practical application in my life. But ten years later, when we were designing the first Macintosh computer, it all came back to me and we designed it all into the Mac. It was the first computer with beautiful typography. If I had never dropped in on that single course in college, the Mac would have never had multiple typefaces or proportionally spaced fonts. And since windows just copied the Mac, it's likely that no personal computer would have them. If I had never dropped out, I would have never dropped in on that calligraphy class. And personal computers might not have the wonderful typography that they do. Of course, it was impossible to connect the dots looking forward when I was in college, but it was very, very clear looking backwards. Ten years later, again, you can't connect the dots looking forward, you can only connect them looking backwards. So you have to trust that the dots will somehow connect in your future.  Start: 251770 End: 316094\",\n",
              " 'Paragraph: You have to trust in something, your gut, destiny, life, karma, whatever. Because believing that the dots will connect down the road will give you the confidence to follow your heart, even when it leads you off the well worn path. And that will make all the difference. My second story is about love and loss. I was lucky. I found what I love to do early in life. Woz and I started Apple in my parents garage when I was 20. We worked hard, and in ten years, Apple had grown from just the two of us in a garage into a $2 billion company with over 4000 employees.  Start: 316262 End: 359456',\n",
              " 'Paragraph: We just released our finest creation, the Macintosh, a year earlier, and I just turned 30. And then I got fired. How can you get fired from a company you started? Well, as Apple grew, we hired someone who I thought was very talented to run the company with me. And for the first year or so, things went well. But then our visions of the future began to diverge. And eventually we had a falling out. When we did, our board of directors sided with him. And so at 30, I was out of and very publicly out. What had been the focus of my entire adult life was gone, and it was devastating.  Start: 359648 End: 397250',\n",
              " \"Paragraph: I really didn't know what to do for a few months. I felt that I had let the previous generation of entrepreneurs down, that I had dropped the baton as it was being passed to me. I met with David Packard and Bob Noyce and tried to apologize for screwing up so badly. I was a very public failure, and I even thought about running away from the valley. But something slowly began to dawn on me. I still loved what I did. The turn of events at Apple had not changed that one bit. I'd been rejected, but I was still in love. And so I decided to start over. I didn't see it then, but it turned out that getting fired from Apple was the best thing that could have ever happened to me.  Start: 397950 End: 440060\",\n",
              " \"Paragraph: The heaviness of being successful was replaced by the lightness of being a beginner again, less sure about everything. It freed me to enter one of the most creative periods of my life. During the next five years, I started a company named Next, another company named Pixar, and fell in love with an amazing woman who would become my wife. Pixar went on to create the world's first computer animated feature film, Toy Story, and is now the most successful animation studio in the world. In a remarkable turn of events, Apple bought next. And I returned to Apple. And the technology we developed at next is at the heart of Apple's current renaissance. And Loreena and I have a wonderful family together. I'm pretty sure none of this would have happened if I hadn't been fired from Apple. It was awful tasting medicine, but I guess the patient needed it.  Start: 440360 End: 491160\",\n",
              " \"Paragraph: Sometimes life's going to hit you in the head with a brick. Don't lose faith. I'm convinced that the only thing that kept me going was that I loved what I did. You've got to find what you love, and that is as true for work as it is for your lovers. Your work is going to fill a large part of your life. And the only way to be truly satisfied is to do what you believe is great work. And the only way to do great work is to love what you do. If you haven't found it yet, keep looking and don't settle. As with all matters of the heart, youll know when you find it. And like any great relationship, it just gets better and better as the years roll on.  Start: 492780 End: 531424\",\n",
              " \"Paragraph: So keep looking. Dont settle. My third story is about death. When I was 17, I read a quote that went something like, if you live each day as if it was your last, someday you'll most certainly be right.  Start: 531552 End: 557510\",\n",
              " \"Paragraph: It made an impression on me. And since then, for the past 33 years, I have looked in the mirror every morning and asked myself, if today were the last day of my life, would I want to do what I am about to do today? And whenever the answer has been no for too many days in a row, I know I need to change something. Remembering that I'll be dead soon is the most important tool I've ever encountered to help me make the big choices in life. Because almost everything, all external expectations, all pride, all fear of embarrassment or failure, these things just fall away in the face of death, leaving only what is truly important. Remembering that you are going to die is the best way I know to avoid the trap of thinking you have something to lose. You are already naked. There is no reason not to follow your heart. About a year ago, I was diagnosed with cancer. I had a scan at 730 in the morning, and it clearly showed a tumor on my pancreas.  Start: 560170 End: 622380\",\n",
              " \"Paragraph: I didn't even know what a pancreas was. The doctors told me this was almost certainly a type of cancer that is incurable and that I should expect to live no longer than three to six months. My doctor advised me to go home and get my affairs in order, which is doctor's code for prepare to die. It means to try and tell your kids everything you thought you'd have the next ten years to tell them in just a few months. It means to make sure everything is buttoned up so that it will be as easy as possible for your family. It means to say your goodbyes.  Start: 622720 End: 658640\",\n",
              " \"Paragraph: I live with that diagnosis all day. Later that evening, I had a biopsy where they stuck an endoscope down my throat, through my stomach and into my intestines, put a needle into my pancreas and got a few cells from the tumor. I was sedated, but my wife, who was there, told me that when they viewed the cells under a microscope, the doctors started crying because it turned out to be a very rare form of pancreatic cancer that is curable with surgery. I had the surgery and thankfully, I'm fine now. This was the closest I've been to facing death, and I hope it's the closest I get for a few more decades. Having lived through it, I can now say this to you with a bit more certainty than when death was a useful but purely intellectual concept. No one wants to die. Even people who want to go to heaven don't want to die to get there. And yet, death is the destination we all share.  Start: 660660 End: 724980\",\n",
              " \"Paragraph: No one has ever escaped it. And that is as it should be, because death is very likely the single best invention of life. It's life's change agent. It clears out the old to make way for the new. Right now, the new is you. But someday, not too long from now, you will gradually become the old and be cleared away. Sorry to be so dramatic, but it's quite true. Your time is limited, so don't waste it living someone else's life. Don't be trapped by dogma, which is living with the results of other people's thinking. Don't let the noise of others opinions drown out your own inner voice.  Start: 725320 End: 766040\",\n",
              " 'Paragraph: And most important, have the courage to follow your heart and intuition. They somehow already know what you truly want to become. Everything else is secondary. When I was young, there was an amazing publication called the Whole Earth catalog, which was one of the bibles of my generation. It was created by a fellow named Stuart Brand, not far from here in Menlo park, and he brought it to life with his poetic touch. This was in the late sixties, before personal computers and desktop publishing, so it was all made with typewriters, scissors, and polaroid cameras. It was sort of like Google in paperback form, 35 years before Google came along. It was idealistic, overflowing with neat tools and great notions.  Start: 766340 End: 823690',\n",
              " 'Paragraph: Stuart and his team put out several issues of the whole earth catalog, and then when it had run its course, they put out a final issue. It was the mid 1970s, and I was your age. On the back cover of their final issue was a photograph of an early morning country road, the kind you might find yourself hitchhiking on if you were so adventurous. Beneath it were the words stay hungry, stay foolish. It was their farewell message as they signed off. Stay hungry, stay foolish. And I have always wished that for myself. And now, as you graduate to begin anew, I wish that for you. Stay hungry, stay foolish. Thank you all very much.  Start: 824430 End: 872430',\n",
              " 'Paragraph: The preceding program is copyrighted by Stanford University. Please visit us@stanford.edu.  Start: 896450 End: 902610']"
            ]
          },
          "metadata": {},
          "execution_count": 17
        }
      ]
    },
    {
      "cell_type": "markdown",
      "source": [
        "\n",
        "We iterate through each paragraph in the group, to assign a timestamp to it.\n",
        "\n",
        "Finally, we generate the final timestamp by using the LLM model via `aai.LemurModel.claude3_5_sonnet`."
      ],
      "metadata": {
        "id": "tiZ6U6RuCWTt"
      }
    },
    {
      "cell_type": "code",
      "source": [
        "# Generate the final timestamp\n",
        "results = []\n",
        "\n",
        "for paragraph in combined_paragraphs:\n",
        "    result = aai.Lemur().task(\n",
        "        prompt=\"Generate chapters of key topics in the audio and also provide the start timestamps in minutes:seconds format. Please put the timestamps before the topic, for example, '0:00 Introduction'. Please don't generate 'Notes', 'Based on the given transcript provided' or 'Here are the', I want only the timestamps and topics.\",\n",
        "        input_text=paragraph,\n",
        "        final_model=aai.LemurModel.claude3_5_sonnet,\n",
        "    )\n",
        "    results.append(result.response)\n",
        "\n",
        "for result in results:\n",
        "    print(f\"{result}\\n\")"
      ],
      "metadata": {
        "colab": {
          "base_uri": "https://localhost:8080/"
        },
        "id": "booezdMSCFLu",
        "outputId": "def64a82-ad0c-4935-9884-c31c4e327e74"
      },
      "execution_count": null,
      "outputs": [
        {
          "output_type": "stream",
          "name": "stdout",
          "text": [
            "0:07 Introduction and acknowledgment of Stanford University\n",
            "0:26 Commencement address begins\n",
            "\n",
            "0:35 Introduction\n",
            "0:59 First story: Connecting the dots\n",
            "\n",
            "1:00 Dropping out of Reed College\n",
            "1:15 Biological mother's decision for adoption\n",
            "1:30 Adoption plans and unexpected change\n",
            "1:40 Adoptive parents' background\n",
            "\n",
            "1:58 Adoption and college promise\n",
            "2:28 College choice and financial strain\n",
            "2:48 Questioning college value\n",
            "3:03 Decision to drop out\n",
            "3:15 Exploring interesting classes\n",
            "\n",
            "3:04 College experiences\n",
            "3:15 Returning coke bottles for food money\n",
            "3:22 Hare Krishna temple meals\n",
            "3:30 Value of curiosity and intuition\n",
            "3:40 Reed College calligraphy instruction\n",
            "3:55 Learning typography and design principles\n",
            "\n",
            "4:11 Calligraphy course influence on Mac design\n",
            "4:30 Typography in personal computers\n",
            "4:46 Connecting the dots in hindsight\n",
            "5:03 Trusting in future connections\n",
            "\n",
            "5:16 Trusting your intuition\n",
            "5:30 Finding your passion early in life\n",
            "5:38 The founding and growth of Apple\n",
            "\n",
            "5:59 Release of the Macintosh\n",
            "6:00 Steve Jobs turning 30\n",
            "6:02 Getting fired from Apple\n",
            "6:10 Hiring a new executive\n",
            "6:20 Diverging visions and falling out\n",
            "6:28 Board siding against Jobs\n",
            "6:32 Leaving Apple at age 30\n",
            "\n",
            "6:38 Feeling of failure after leaving Apple\n",
            "6:50 Apologizing to industry leaders\n",
            "7:00 Contemplating leaving Silicon Valley\n",
            "7:10 Rediscovering passion for work\n",
            "7:20 Realizing getting fired was beneficial\n",
            "\n",
            "7:20 Lightness of being a beginner\n",
            "7:30 Creative period after leaving Apple\n",
            "7:40 Starting Next and Pixar\n",
            "8:00 Success of Pixar and Apple's acquisition of Next\n",
            "8:10 Reflection on being fired from Apple\n",
            "\n",
            "8:12 Life's challenges and maintaining faith\n",
            "8:25 The importance of loving what you do\n",
            "8:35 Finding your passion in work and relationships\n",
            "8:45 Pursuing great work through love for your job\n",
            "8:55 Continuing to search for your true calling\n",
            "\n",
            "8:51 Importance of perseverance\n",
            "8:51 Reflection on mortality\n",
            "\n",
            "9:20 Daily self-reflection\n",
            "9:40 Importance of remembering mortality\n",
            "10:10 Overcoming fear and external expectations\n",
            "10:30 Following your heart\n",
            "10:40 Cancer diagnosis\n",
            "\n",
            "10:22 Cancer diagnosis and prognosis\n",
            "10:30 Doctor's advice to \"get affairs in order\"\n",
            "10:40 Preparing for limited time with family\n",
            "\n",
            "11:00 Diagnosis and biopsy\n",
            "11:30 Rare curable cancer discovered\n",
            "12:00 Reflections on facing death\n",
            "12:30 Universal destination of death\n",
            "\n",
            "12:05 The inevitability of death\n",
            "12:15 Death as life's change agent\n",
            "12:30 Embracing your time as the \"new\"\n",
            "12:45 Living your own life\n",
            "12:55 Avoiding dogma and others' opinions\n",
            "\n",
            "12:46 Following Your Heart and Intuition\n",
            "13:00 The Whole Earth Catalog\n",
            "13:15 Stuart Brand and Creation Process\n",
            "13:30 Comparison to Google\n",
            "\n",
            "13:44 Whole Earth Catalog's final issue\n",
            "14:04 \"Stay hungry, stay foolish\" message\n",
            "14:32 Closing remarks and advice to graduates\n",
            "\n",
            "14:56 Copyright notice\n",
            "\n"
          ]
        }
      ]
    },
    {
      "cell_type": "markdown",
      "source": [
        "## References\n",
        "\n",
        "- [LeMUR](https://www.assemblyai.com/docs/lemur) - AssemblyAI Documentation\n",
        "- [Ask questions about your audio data](https://www.assemblyai.com/docs/lemur/ask-questions) - AssemblyAI Documentation\n",
        "- [Processing Audio Files with LLMs using LeMUR](https://github.com/AssemblyAI/cookbook/blob/master/lemur/using-lemur.ipynb) - AssemblyAI Cookbook"
      ],
      "metadata": {
        "id": "nq1rNf6ge-ok"
      }
    }
  ],
  "metadata": {
    "colab": {
      "provenance": []
    },
    "kernelspec": {
      "display_name": "Python 3",
      "name": "python3"
    },
    "language_info": {
      "name": "python"
    }
  },
  "nbformat": 4,
  "nbformat_minor": 0
}